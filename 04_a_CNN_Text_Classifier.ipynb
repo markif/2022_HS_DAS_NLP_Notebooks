{
 "cells": [
  {
   "cell_type": "markdown",
   "metadata": {},
   "source": [
    "<img align=\"right\" width=\"400\" src=\"https://www.fhnw.ch/de/++theme++web16theme/assets/media/img/fachhochschule-nordwestschweiz-fhnw-logo.svg\" alt=\"FHNW Logo\">\n",
    "\n",
    "\n",
    "# CNN Text Classifier\n",
    "\n",
    "by Fabian Märki\n",
    "\n",
    "## Summary\n",
    "The aim of this notebook is to build a CNN text classifier. It utilize pretrained word embeddings in order to take advantage of [transfer learning](https://machinelearningmastery.com/transfer-learning-for-deep-learning) in NLP. Additionally, it sets the stage for hyperparameter tuning and model design optimization.\n",
    "\n",
    "## Links\n",
    "- [Enabling GPU on Google Colab](https://www.tutorialspoint.com/google_colab/google_colab_using_free_gpu.htm)\n",
    "\n",
    "This notebook contains assigments: <font color='red'>Questions are written in red.</font>\n",
    "\n",
    "<a href=\"https://colab.research.google.com/github/markif/2022_HS_DAS_NLP_Notebooks/blob/master/04_a_CNN_Text_Classifier.ipynb\">\n",
    "  <img align=\"left\" src=\"https://colab.research.google.com/assets/colab-badge.svg\" alt=\"Open In Colab\"/>\n",
    "</a>"
   ]
  },
  {
   "cell_type": "code",
   "execution_count": 1,
   "metadata": {},
   "outputs": [],
   "source": [
    "%%capture\n",
    "\n",
    "!pip install 'fhnw-nlp-utils>=0.4.8,<0.5.0'\n",
    "\n",
    "from fhnw.nlp.utils.storage import load_dataframe\n",
    "from fhnw.nlp.utils.storage import download\n",
    "from fhnw.nlp.utils.colab import runs_on_colab\n",
    "\n",
    "import pandas as pd\n",
    "import numpy as np\n",
    "import tensorflow as tf"
   ]
  },
  {
   "cell_type": "code",
   "execution_count": 2,
   "metadata": {},
   "outputs": [
    {
     "name": "stdout",
     "output_type": "stream",
     "text": [
      "OS name: posix\n",
      "Platform name: Linux\n",
      "Platform release: 5.15.0-46-generic\n",
      "Python version: 3.6.9\n",
      "CPU cores: 6\n",
      "RAM: 31.12GB total and 24.37GB available\n",
      "Tensorflow version: 2.5.1\n",
      "GPU is available\n",
      "GPU is a NVIDIA GeForce RTX 2070 with Max-Q Design with 8192MiB\n"
     ]
    }
   ],
   "source": [
    "from fhnw.nlp.utils.system import system_info\n",
    "print(system_info())"
   ]
  },
  {
   "cell_type": "markdown",
   "metadata": {},
   "source": [
    "Download the [cleaned](https://github.com/markif/2022_FS_CAS_NLP_LAB_Notebooks/blob/master/02_a_Text_Cleaning.ipynb) and [preprocessed](https://github.com/markif/2022_FS_CAS_NLP_LAB_Notebooks/blob/master/02_b_Text_Normalization.ipynb) doctor reviews dataset. "
   ]
  },
  {
   "cell_type": "code",
   "execution_count": 4,
   "metadata": {},
   "outputs": [
    {
     "name": "stdout",
     "output_type": "stream",
     "text": [
      "CPU times: user 8.12 s, sys: 1.62 s, total: 9.75 s\n",
      "Wall time: 5.36 s\n"
     ]
    }
   ],
   "source": [
    "%%time\n",
    "download(\"https://drive.google.com/uc?id=19AFeVnOfX8WXU4_3rM7OFoNTWWog_sb_\", \"data/german_doctor_reviews_tokenized.parq\")\n",
    "data = load_dataframe(\"data/german_doctor_reviews_tokenized.parq\")"
   ]
  },
  {
   "cell_type": "markdown",
   "metadata": {},
   "source": [
    "Exclude *neutral* ratings so that the task becomes a binary classification."
   ]
  },
  {
   "cell_type": "code",
   "execution_count": 5,
   "metadata": {},
   "outputs": [
    {
     "data": {
      "text/plain": [
       "(331187, 10)"
      ]
     },
     "execution_count": 5,
     "metadata": {},
     "output_type": "execute_result"
    }
   ],
   "source": [
    "# remove all neutral sentimens\n",
    "data = data.loc[(data[\"label\"] != \"neutral\")]\n",
    "data.shape"
   ]
  },
  {
   "cell_type": "code",
   "execution_count": 6,
   "metadata": {},
   "outputs": [
    {
     "data": {
      "text/html": [
       "<div>\n",
       "<style scoped>\n",
       "    .dataframe tbody tr th:only-of-type {\n",
       "        vertical-align: middle;\n",
       "    }\n",
       "\n",
       "    .dataframe tbody tr th {\n",
       "        vertical-align: top;\n",
       "    }\n",
       "\n",
       "    .dataframe thead th {\n",
       "        text-align: right;\n",
       "    }\n",
       "</style>\n",
       "<table border=\"1\" class=\"dataframe\">\n",
       "  <thead>\n",
       "    <tr style=\"text-align: right;\">\n",
       "      <th></th>\n",
       "      <th>text_original</th>\n",
       "      <th>rating</th>\n",
       "      <th>text</th>\n",
       "      <th>label</th>\n",
       "      <th>sentiment</th>\n",
       "      <th>token_clean</th>\n",
       "      <th>text_clean</th>\n",
       "      <th>token_lemma</th>\n",
       "      <th>token_stem</th>\n",
       "      <th>token_clean_stopwords</th>\n",
       "    </tr>\n",
       "  </thead>\n",
       "  <tbody>\n",
       "    <tr>\n",
       "      <th>0</th>\n",
       "      <td>Ich bin franzose und bin seit ein paar Wochen ...</td>\n",
       "      <td>2.0</td>\n",
       "      <td>Ich bin franzose und bin seit ein paar Wochen ...</td>\n",
       "      <td>positive</td>\n",
       "      <td>1</td>\n",
       "      <td>[ich, bin, franzose, und, bin, seit, ein, paar...</td>\n",
       "      <td>ich bin franzose und bin seit ein paar wochen ...</td>\n",
       "      <td>[franzose, seit, paar, wochen, muenchen, zahn,...</td>\n",
       "      <td>[franzos, seit, paar, woch, muench, ., zahn, s...</td>\n",
       "      <td>[franzose, seit, paar, wochen, muenchen, ., za...</td>\n",
       "    </tr>\n",
       "    <tr>\n",
       "      <th>1</th>\n",
       "      <td>Dieser Arzt ist das unmöglichste was mir in me...</td>\n",
       "      <td>6.0</td>\n",
       "      <td>Dieser Arzt ist das unmöglichste was mir in me...</td>\n",
       "      <td>negative</td>\n",
       "      <td>-1</td>\n",
       "      <td>[dieser, arzt, ist, das, unmöglichste, was, mi...</td>\n",
       "      <td>dieser arzt ist das unmöglichste was mir in me...</td>\n",
       "      <td>[arzt, unmöglichste, leben, je, begegnen, unfr...</td>\n",
       "      <td>[arzt, unmog, leb, je, begegnet, unfreund, ,, ...</td>\n",
       "      <td>[arzt, unmöglichste, leben, je, begegnet, unfr...</td>\n",
       "    </tr>\n",
       "    <tr>\n",
       "      <th>2</th>\n",
       "      <td>Hatte akute Beschwerden am Rücken. Herr Magura...</td>\n",
       "      <td>1.0</td>\n",
       "      <td>Hatte akute Beschwerden am Rücken. Herr Magura...</td>\n",
       "      <td>positive</td>\n",
       "      <td>1</td>\n",
       "      <td>[hatte, akute, beschwerden, am, rücken, ., her...</td>\n",
       "      <td>hatte akute beschwerden am rücken . herr magur...</td>\n",
       "      <td>[akut, beschwerden, rücken, magura, erste, arz...</td>\n",
       "      <td>[akut, beschwerd, ruck, ., magura, erst, arzt,...</td>\n",
       "      <td>[akute, beschwerden, rücken, ., magura, erste,...</td>\n",
       "    </tr>\n",
       "  </tbody>\n",
       "</table>\n",
       "</div>"
      ],
      "text/plain": [
       "                                       text_original  rating  \\\n",
       "0  Ich bin franzose und bin seit ein paar Wochen ...     2.0   \n",
       "1  Dieser Arzt ist das unmöglichste was mir in me...     6.0   \n",
       "2  Hatte akute Beschwerden am Rücken. Herr Magura...     1.0   \n",
       "\n",
       "                                                text     label  sentiment  \\\n",
       "0  Ich bin franzose und bin seit ein paar Wochen ...  positive          1   \n",
       "1  Dieser Arzt ist das unmöglichste was mir in me...  negative         -1   \n",
       "2  Hatte akute Beschwerden am Rücken. Herr Magura...  positive          1   \n",
       "\n",
       "                                         token_clean  \\\n",
       "0  [ich, bin, franzose, und, bin, seit, ein, paar...   \n",
       "1  [dieser, arzt, ist, das, unmöglichste, was, mi...   \n",
       "2  [hatte, akute, beschwerden, am, rücken, ., her...   \n",
       "\n",
       "                                          text_clean  \\\n",
       "0  ich bin franzose und bin seit ein paar wochen ...   \n",
       "1  dieser arzt ist das unmöglichste was mir in me...   \n",
       "2  hatte akute beschwerden am rücken . herr magur...   \n",
       "\n",
       "                                         token_lemma  \\\n",
       "0  [franzose, seit, paar, wochen, muenchen, zahn,...   \n",
       "1  [arzt, unmöglichste, leben, je, begegnen, unfr...   \n",
       "2  [akut, beschwerden, rücken, magura, erste, arz...   \n",
       "\n",
       "                                          token_stem  \\\n",
       "0  [franzos, seit, paar, woch, muench, ., zahn, s...   \n",
       "1  [arzt, unmog, leb, je, begegnet, unfreund, ,, ...   \n",
       "2  [akut, beschwerd, ruck, ., magura, erst, arzt,...   \n",
       "\n",
       "                               token_clean_stopwords  \n",
       "0  [franzose, seit, paar, wochen, muenchen, ., za...  \n",
       "1  [arzt, unmöglichste, leben, je, begegnet, unfr...  \n",
       "2  [akute, beschwerden, rücken, ., magura, erste,...  "
      ]
     },
     "execution_count": 6,
     "metadata": {},
     "output_type": "execute_result"
    }
   ],
   "source": [
    "data.head(3)"
   ]
  },
  {
   "cell_type": "markdown",
   "metadata": {},
   "source": [
    "Import some helper functions (later we will overwrite some functions in order to provide a better understanding of the process)..."
   ]
  },
  {
   "cell_type": "code",
   "execution_count": 7,
   "metadata": {},
   "outputs": [],
   "source": [
    "from fhnw.nlp.utils.ploting import plot_history\n",
    "\n",
    "from fhnw.nlp.utils.params import build_model_cnn\n",
    "from fhnw.nlp.utils.params import build_model_rnn\n",
    "from fhnw.nlp.utils.params import compile_model\n",
    "from fhnw.nlp.utils.params import create_label_binarizer_and_set\n",
    "from fhnw.nlp.utils.params import dataframe_to_dataset\n",
    "from fhnw.nlp.utils.params import extract_embedding_layer_and_set\n",
    "from fhnw.nlp.utils.params import extract_text_vectorization_and_set\n",
    "from fhnw.nlp.utils.params import extract_vocabulary_and_set\n",
    "from fhnw.nlp.utils.params import get_train_test_split\n",
    "from fhnw.nlp.utils.params import re_compile_model\n",
    "from fhnw.nlp.utils.params import save_model\n",
    "from fhnw.nlp.utils.params import train_model"
   ]
  },
  {
   "cell_type": "markdown",
   "metadata": {},
   "source": [
    "Setup the *params* dictionary which is used to specify hyperparameters and model design choices (and is also used to store intermediate results).  This sets the stage for a possible hyperparameter tuning and model design optimization (not part of this notebook)."
   ]
  },
  {
   "cell_type": "code",
   "execution_count": 8,
   "metadata": {},
   "outputs": [],
   "source": [
    "params = {\n",
    "    \"verbose\": True,\n",
    "    \"shuffle\": True,\n",
    "    # modify batch_size in case you experience memory issues\n",
    "    \"batch_size\": 128,\n",
    "    \"X_column_name\": \"text_clean\",\n",
    "    \"y_column_name\": \"label\",\n",
    "}\n",
    "\n",
    "if runs_on_colab():\n",
    "    # colab as problems handling such large files\n",
    "    model_name = \"cc.de.50.bin\"\n",
    "    download(\"https://drive.google.com/uc?id=1iqw8UPEEVmzQQGmI5FkRJH8B5SkZCgXG\", model_name)\n",
    "    params[\"embedding_dim\"] = 50\n",
    "    params[\"embedding_fasttext_model\"] = model_name"
   ]
  },
  {
   "cell_type": "markdown",
   "metadata": {},
   "source": [
    "...extract the vocabulary..."
   ]
  },
  {
   "cell_type": "code",
   "execution_count": 9,
   "metadata": {},
   "outputs": [
    {
     "name": "stdout",
     "output_type": "stream",
     "text": [
      "Inferred classification type: binary\n",
      "Median sequence length: 46\n",
      "Percentil (0.98) cutoff sequence length: 230\n",
      "Max sequence length: 408\n",
      "Used embedding sequence length: 230\n"
     ]
    }
   ],
   "source": [
    "create_label_binarizer_and_set(params, data)\n",
    "extract_vocabulary_and_set(params, data)"
   ]
  },
  {
   "cell_type": "markdown",
   "metadata": {},
   "source": [
    "### Keras TextVectorization layer\n",
    "Keras has a text preprocessing layer than can be placed before an embedding layer. The [TextVectorization](https://www.tensorflow.org/api_docs/python/tf/keras/layers/TextVectorization) layer accepts documents of various sizes. It pads sequences and tokenizes documents before they are passed to the embedding layer. At the embedding layer it can be used as an integer index (identifying the token/word) to access the embedding vectors."
   ]
  },
  {
   "cell_type": "code",
   "execution_count": 10,
   "metadata": {},
   "outputs": [],
   "source": [
    "def extract_text_vectorization_and_set(params):\n",
    "    \"\"\"Creates the TextVectorization layer and a vocabulary iterator and puts them into the params dictionary\n",
    "\n",
    "    Parameters\n",
    "    ----------\n",
    "    params: dict\n",
    "        The dictionary containing the parameters\n",
    "    \"\"\"\n",
    "    \n",
    "    # see https://towardsdatascience.com/you-should-try-the-new-tensorflows-textvectorization-layer-a80b3c6b00ee\n",
    "    try:\n",
    "        # for newer tf versions use\n",
    "        from tensorflow.keras.layers import TextVectorization\n",
    "    except ImportError:\n",
    "        from tensorflow.keras.layers.experimental.preprocessing import TextVectorization\n",
    "\n",
    "    verbose = params.get(\"verbose\", False)\n",
    "    output_sequence_length = params.get(\"output_sequence_length\", None)\n",
    "    computed_objects_column_name = params.get(\"computed_objects_column_name\", \"computed_objects\")\n",
    "    vocabulary = params.setdefault(computed_objects_column_name, {})[\"vocabulary\"]\n",
    "    \n",
    "    vectorize_layer = TextVectorization(\n",
    "        output_mode='int',\n",
    "        output_sequence_length=output_sequence_length,\n",
    "        vocabulary=list(vocabulary),\n",
    "        name=\"text_vectorization\"\n",
    "    )\n",
    "    \n",
    "    params.setdefault(computed_objects_column_name, {})[\"vocabulary_iterator\"] = vectorize_layer.get_vocabulary()\n",
    "    params.setdefault(computed_objects_column_name, {})[\"vectorize_layer\"] = vectorize_layer\n",
    "\n",
    "    if verbose:\n",
    "        print(\"Vocabulary length:\", vectorize_layer.vocabulary_size())"
   ]
  },
  {
   "cell_type": "code",
   "execution_count": 11,
   "metadata": {},
   "outputs": [
    {
     "name": "stdout",
     "output_type": "stream",
     "text": [
      "Vocabulary length: 189790\n"
     ]
    }
   ],
   "source": [
    "extract_text_vectorization_and_set(params)"
   ]
  },
  {
   "cell_type": "markdown",
   "metadata": {},
   "source": [
    "Import and load fasttext word embeddings"
   ]
  },
  {
   "cell_type": "code",
   "execution_count": null,
   "metadata": {},
   "outputs": [],
   "source": [
    "%%capture\n",
    "\n",
    "!pip install fasttext\n",
    "\n",
    "import fasttext\n",
    "import fasttext.util\n",
    "from fhnw.nlp.utils.colab import runs_on_colab\n",
    "\n",
    "if runs_on_colab():\n",
    "    from fhnw.nlp.utils.storage import download\n",
    "    # colab as problems handling such large files\n",
    "    model_name = \"cc.de.50.bin\"\n",
    "    download(\"https://drive.google.com/uc?id=1iqw8UPEEVmzQQGmI5FkRJH8B5SkZCgXG\", model_name)\n",
    "else:\n",
    "    model_name = \"cc.de.300.bin\"\n",
    "    fasttext.util.download_model('de', if_exists='ignore')\n",
    "    \n",
    "ft = fasttext.load_model(model_name)"
   ]
  },
  {
   "cell_type": "markdown",
   "metadata": {},
   "source": [
    "<font color='red'>**TASK: Implement `embed_word` using [fasttext](https://fasttext.cc/docs/en/unsupervised-tutorial.html#printing-word-vectors) function and provide the functionality as described in the function documentation.**</font>"
   ]
  },
  {
   "cell_type": "markdown",
   "metadata": {},
   "source": [
    "You might get inspiration from: \n",
    "- [Pretrained Word Embeddings](https://towardsdatascience.com/pretrained-word-embeddings-using-spacy-and-keras-textvectorization-ef75ecd56360)"
   ]
  },
  {
   "cell_type": "code",
   "execution_count": 13,
   "metadata": {},
   "outputs": [],
   "source": [
    "def embed_word(word):\n",
    "    \"\"\"Provides a word embedding\n",
    "\n",
    "    Parameters\n",
    "    ----------\n",
    "    params: word\n",
    "        The word to embed\n",
    "    \"\"\"\n",
    "    \n",
    "    # TODO: !!! place your code here !!!\n",
    "    ####################################\n",
    "    # !!! this needs rework !!!\n",
    "    split = model_name.split(\".\")\n",
    "    model_dim = int(split[2])\n",
    "    return np.zeros(model_dim)\n",
    "\n",
    "    ###################\n",
    "    # TODO: !!! end !!!"
   ]
  },
  {
   "cell_type": "code",
   "execution_count": 14,
   "metadata": {},
   "outputs": [
    {
     "data": {
      "text/plain": [
       "array([-1.00356534e-01,  1.98468827e-02,  2.48073004e-02,  7.06050247e-02,\n",
       "        1.98300742e-02, -3.88746560e-02, -4.34984528e-02,  4.89945710e-02,\n",
       "        1.04627147e-01,  5.65351509e-02, -7.10811764e-02, -5.93297333e-02,\n",
       "        4.17218879e-02,  3.44845019e-02,  1.02639869e-01, -1.89471599e-02,\n",
       "        9.74735841e-02, -1.13834754e-01, -1.11242846e-01, -3.22935432e-02,\n",
       "        7.66527653e-02, -8.67330432e-02,  4.17482406e-02, -7.92364925e-02,\n",
       "       -5.29644429e-04,  2.38098130e-02,  4.14879844e-02,  6.87763914e-02,\n",
       "       -1.07984124e-02, -3.47629637e-02, -4.95724231e-02,  3.55521441e-02,\n",
       "       -1.52236251e-02,  1.78139266e-02,  4.51603755e-02,  6.61114156e-02,\n",
       "        5.33561818e-02, -7.07296049e-03,  7.54112601e-02, -3.21409255e-02,\n",
       "        5.20091765e-02, -2.71267351e-02,  3.36384997e-02, -8.52187872e-02,\n",
       "        2.48614307e-02, -4.47589271e-02,  1.85794570e-02,  9.29193199e-02,\n",
       "       -7.30394106e-03,  7.96798896e-03, -1.14537239e-01,  6.55219425e-03,\n",
       "       -9.12078023e-02,  6.02159351e-02, -2.42053308e-02, -1.62945073e-02,\n",
       "        8.01764131e-02,  2.97131613e-02,  1.97860524e-02, -5.97372130e-02,\n",
       "        2.19087559e-03,  3.32477503e-02,  2.93926205e-02,  7.41742402e-02,\n",
       "       -2.34975405e-02, -1.39535023e-02,  9.40229520e-02, -2.99921706e-02,\n",
       "       -9.51327085e-02, -6.22494966e-02, -2.24338472e-02, -1.01767711e-01,\n",
       "        4.84603457e-02,  1.02200918e-01,  8.57871622e-02, -3.23230885e-02,\n",
       "        8.27874616e-02, -2.49301121e-02,  1.51919601e-02,  3.26558091e-02,\n",
       "       -3.91639322e-02,  1.46302671e-04, -9.10825655e-02,  2.67633647e-02,\n",
       "       -1.92985144e-02,  1.09419137e-01,  1.31756570e-02, -7.62966499e-02,\n",
       "       -1.71288811e-02,  4.62547615e-02,  1.34328350e-01,  1.27218902e-01,\n",
       "       -5.34575507e-02,  2.74525322e-02,  2.25478020e-02,  4.16327491e-02,\n",
       "       -2.83629932e-02,  4.72560078e-02, -1.45199463e-01, -2.93197762e-02,\n",
       "        3.17722484e-02,  3.41247651e-03, -3.71029340e-02, -5.78313833e-03,\n",
       "        1.55670583e-01, -3.81845683e-02,  3.32102850e-02,  3.89265642e-03,\n",
       "       -5.72554134e-02, -2.29942403e-03, -6.33229017e-02,  5.16137034e-02,\n",
       "       -2.43819114e-02, -6.69466183e-02,  7.43526071e-02, -5.81842363e-02,\n",
       "        7.31679499e-02, -8.79510194e-02,  2.98254304e-02, -5.49272299e-02,\n",
       "       -1.42756388e-01, -7.54026473e-02,  4.63618990e-03, -1.53061366e-02,\n",
       "        9.13048536e-03,  3.46629173e-02, -3.92545834e-02, -5.42628169e-02,\n",
       "       -7.20404088e-03, -1.59594845e-02,  5.81802875e-02,  4.75660674e-02,\n",
       "       -6.15952536e-03,  7.62293190e-02, -1.77144818e-02,  8.65710340e-03,\n",
       "        1.05176680e-01,  2.81932717e-03, -7.96858035e-03, -4.32355218e-02,\n",
       "        8.37058648e-02, -8.62021893e-02,  9.32330489e-02, -6.39154837e-02,\n",
       "       -1.61227137e-02,  8.70288238e-02,  1.78676918e-02,  9.21765864e-02,\n",
       "       -3.20060775e-02,  5.45804715e-03, -4.81627695e-02,  1.15294032e-01,\n",
       "        9.47099552e-02,  1.99912917e-02, -3.59154716e-02,  2.02256083e-01,\n",
       "        1.21412061e-01,  1.32713988e-02,  9.47280079e-02, -1.40084416e-01,\n",
       "       -3.72391269e-02, -1.18063852e-01,  3.16695720e-02,  3.13971639e-02,\n",
       "       -7.42763653e-02, -2.53778826e-02,  6.99326694e-02,  4.21584174e-02,\n",
       "       -1.03100054e-02, -3.66286710e-02, -1.52935952e-01, -7.10102767e-02,\n",
       "        1.40948519e-02,  3.41588408e-02, -1.48806255e-02,  1.47819430e-01,\n",
       "        2.74355020e-02, -3.95819955e-02,  1.20115608e-01, -5.15609533e-02,\n",
       "        1.49365654e-02, -5.37049249e-02, -2.95568891e-02, -2.25660168e-02,\n",
       "       -2.25478411e-01, -2.85131894e-02,  7.30056763e-02, -5.29120378e-02,\n",
       "       -5.30997068e-02,  5.97462729e-02, -3.00288461e-02,  6.87097162e-02,\n",
       "        9.04462114e-03, -4.09258669e-03,  1.39971524e-02,  7.17068687e-02,\n",
       "        3.42906043e-02,  6.45562112e-02, -2.81555839e-02,  3.45456488e-02,\n",
       "        8.54447111e-02, -4.57039289e-02, -1.70923285e-02, -7.02005550e-02,\n",
       "        1.86490621e-02,  4.59722877e-02,  1.10038683e-01, -1.99437011e-02,\n",
       "       -4.84827384e-02,  2.45082751e-02,  1.40832067e-01,  2.37276014e-02,\n",
       "       -4.28488851e-02, -3.00642103e-02,  1.47149965e-01, -4.93571758e-02,\n",
       "        1.74380243e-02,  3.87527235e-02, -1.59548540e-02,  2.68530240e-03,\n",
       "       -1.06327161e-02,  2.24479027e-02,  5.90775013e-02,  3.57570089e-02,\n",
       "       -2.41377559e-02, -2.25350782e-02,  2.14426871e-02,  6.84097260e-02,\n",
       "        5.11552021e-02, -1.26254424e-01, -2.94591747e-02, -2.12792866e-02,\n",
       "        7.44283572e-03, -8.97315703e-03,  5.80314659e-02, -1.65870469e-02,\n",
       "        7.15618432e-02, -8.12978204e-03,  5.09518832e-02,  2.93959817e-03,\n",
       "        5.98998591e-02,  2.95689907e-02, -6.73374161e-02, -5.82055673e-02,\n",
       "       -3.55097316e-02,  3.00584137e-02, -2.08515432e-02, -7.14501143e-02,\n",
       "       -3.49302217e-02, -1.85602903e-01,  1.51196308e-03, -1.43349711e-02,\n",
       "        9.20909643e-02, -2.82034427e-02,  1.90443210e-02, -1.29394075e-02,\n",
       "        7.55024701e-03, -2.99851038e-02, -4.16278541e-02, -4.96631414e-02,\n",
       "       -7.91378170e-02,  3.83648723e-02, -1.25862565e-02, -7.10410178e-02,\n",
       "       -6.82962686e-02,  1.50980605e-02, -2.86530927e-02, -3.74372452e-02,\n",
       "       -1.62240177e-01, -1.47983534e-02,  5.43031096e-02, -4.75530140e-02,\n",
       "       -2.03616351e-01,  5.74911013e-02,  4.43408303e-02, -3.75839248e-02,\n",
       "        1.25556454e-01, -1.60974264e-03, -7.06867725e-02,  4.26353663e-02,\n",
       "       -8.51313695e-02, -4.86613922e-02, -4.46087532e-02, -1.15363896e-02,\n",
       "       -1.77657362e-02, -1.11255758e-01,  9.56298225e-03, -5.96325621e-02,\n",
       "       -6.71171993e-02,  1.01668090e-02,  8.20315443e-03,  1.09586827e-02,\n",
       "       -2.18494027e-03, -5.20144999e-02, -4.43647578e-02,  5.27742645e-03,\n",
       "        3.22544053e-02, -8.68701935e-03, -4.96717021e-02,  2.04143710e-02],\n",
       "      dtype=float32)"
      ]
     },
     "execution_count": 14,
     "metadata": {},
     "output_type": "execute_result"
    }
   ],
   "source": [
    "embed_word(\"Haus\")"
   ]
  },
  {
   "cell_type": "markdown",
   "metadata": {},
   "source": [
    "### Transforming the Embedding Dictionary to an Embedding Layer\n",
    "In order to use pre-trained embeddings in your model, you have to create a mapping from the word indices (provided by the TextVectorizer layer) to the word embedding vectors of the pre-trained embeddings. The embedding layer will use this index to look up the embedding, then pass the embeddings of each word in the input sequence to the next layer. \n",
    "\n",
    "Next, we will create and initialize the weights matrix for the embedding layer. The index position of each word in the vocabulary list (returned by TextVectorizer.get_vocabulary()) is the index that the TextVectorizer will return for each word. Thus we have to set the embedding vector for a word at this index.  We do this by looping over the words in the TextVectorizer vocabulary and the embedding dictionary. Each word encoding from the TextVectorizer will be the row index in the weights matrix and the vector accessed for that word will be the one from the embedding dictionary."
   ]
  },
  {
   "cell_type": "code",
   "execution_count": 15,
   "metadata": {},
   "outputs": [],
   "source": [
    "def calculate_embedding_matrix(params, embedder):\n",
    "    \"\"\"Creates the embedding matrix\n",
    "\n",
    "    Parameters\n",
    "    ----------\n",
    "    params: dict\n",
    "        The dictionary containing the parameters\n",
    "    embedder: function\n",
    "        The function to get the embedding for a word\n",
    "    \"\"\"    \n",
    "    \n",
    "    import numpy as np\n",
    "\n",
    "    computed_objects_column_name = params.get(\"computed_objects_column_name\", \"computed_objects\")\n",
    "    vocabulary_iterator = params.setdefault(computed_objects_column_name, {})[\"vocabulary_iterator\"]\n",
    "    tmp_embedding = embedder(\"haus\")\n",
    "    \n",
    "    if (tmp_embedding is not None) and len(tmp_embedding) > 0:\n",
    "        embedding_dim = len(tmp_embedding)\n",
    "    else:\n",
    "        embedding_dim = params[\"embedding_dim\"]\n",
    "    voc_size = len(vocabulary_iterator)\n",
    "    words_not_found = set()\n",
    "    embedding_matrix = np.zeros((voc_size, embedding_dim))\n",
    "\n",
    "    for idx, word in enumerate(vocabulary_iterator):\n",
    "        embedding_vector = embedder(word)\n",
    "        if (embedding_vector is not None) and len(embedding_vector) > 0 and not np.all(embedding_vector==0):\n",
    "            # words not found in embedding index will be all-zeros.\n",
    "            embedding_matrix[idx] = embedding_vector\n",
    "        else:\n",
    "            words_not_found.add(word)\n",
    "\n",
    "    if params[\"verbose\"]:\n",
    "        print(\"Embedding type:\", params.get(\"embedding_type\"))\n",
    "        print(\"Number of null word embeddings:\", np.sum(np.sum(embedding_matrix, axis=1) == 0))\n",
    "        nr_words_not_found = len(words_not_found)\n",
    "        print(\"Words not found in total:\", len(words_not_found))\n",
    "        if nr_words_not_found > 0:\n",
    "            import random\n",
    "            \n",
    "            nr_sample = min(20, len(words_not_found))\n",
    "            print(\"Words without embedding (\", nr_sample, \"/\", nr_words_not_found, \"): \", random.sample(words_not_found, nr_sample), sep='')\n",
    "    \n",
    "    return embedding_matrix\n",
    "\n",
    "\n",
    "def extract_embedding_layer_and_set(params):\n",
    "    \"\"\"Creates the Embedding layer and puts it into the params dictionary\n",
    "\n",
    "    Parameters\n",
    "    ----------\n",
    "    params: dict\n",
    "        The dictionary containing the parameters\n",
    "    \"\"\"\n",
    "    \n",
    "    import tensorflow as tf\n",
    "    from tensorflow import keras\n",
    "    \n",
    "    computed_objects_column_name = params.get(\"computed_objects_column_name\", \"computed_objects\")\n",
    "          \n",
    "    embedding_matrix = calculate_embedding_matrix(params, embed_word)       \n",
    "    embedding_layer = keras.layers.Embedding(\n",
    "                                          embedding_matrix.shape[0], \n",
    "                                          embedding_matrix.shape[1], \n",
    "                                          weights=[embedding_matrix],\n",
    "                                          input_length=params[\"embedding_input_sequence_length\"],\n",
    "                                          trainable=params.get(\"embedding_trainable\", False),\n",
    "                                          mask_zero = params.get(\"embedding_mask_zero\", True),\n",
    "                                          name=\"embedding\"\n",
    "                                         )\n",
    "        \n",
    "    params.setdefault(computed_objects_column_name, {})[\"embedding_layer\"] = embedding_layer"
   ]
  },
  {
   "cell_type": "code",
   "execution_count": 16,
   "metadata": {},
   "outputs": [
    {
     "name": "stdout",
     "output_type": "stream",
     "text": [
      "Embedding type: None\n",
      "Number of null word embeddings: 9\n",
      "Words not found in total: 9\n",
      "Words without embedding (9/9): ['ìn', 'äk', 'èn', 'üw', '', 'úm', 'jé', 'öä', 'öz']\n",
      "CPU times: user 3.71 s, sys: 189 ms, total: 3.9 s\n",
      "Wall time: 3.9 s\n"
     ]
    }
   ],
   "source": [
    "%%time\n",
    "\n",
    "extract_embedding_layer_and_set(params)"
   ]
  },
  {
   "cell_type": "markdown",
   "metadata": {},
   "source": [
    "...some words (without embedding) suggest that there still exist corrupt text..."
   ]
  },
  {
   "cell_type": "code",
   "execution_count": 17,
   "metadata": {},
   "outputs": [
    {
     "data": {
      "text/html": [
       "<div>\n",
       "<style scoped>\n",
       "    .dataframe tbody tr th:only-of-type {\n",
       "        vertical-align: middle;\n",
       "    }\n",
       "\n",
       "    .dataframe tbody tr th {\n",
       "        vertical-align: top;\n",
       "    }\n",
       "\n",
       "    .dataframe thead th {\n",
       "        text-align: right;\n",
       "    }\n",
       "</style>\n",
       "<table border=\"1\" class=\"dataframe\">\n",
       "  <thead>\n",
       "    <tr style=\"text-align: right;\">\n",
       "      <th></th>\n",
       "      <th>text_original</th>\n",
       "      <th>rating</th>\n",
       "      <th>text</th>\n",
       "      <th>label</th>\n",
       "      <th>sentiment</th>\n",
       "      <th>token_clean</th>\n",
       "      <th>text_clean</th>\n",
       "      <th>token_lemma</th>\n",
       "      <th>token_stem</th>\n",
       "      <th>token_clean_stopwords</th>\n",
       "    </tr>\n",
       "  </thead>\n",
       "  <tbody>\n",
       "    <tr>\n",
       "      <th>3264</th>\n",
       "      <td>Heute war ich zum ersten Mal gemeinsam mit mei...</td>\n",
       "      <td>1.0</td>\n",
       "      <td>Heute war ich zum ersten Mal gemeinsam mit mei...</td>\n",
       "      <td>positive</td>\n",
       "      <td>1</td>\n",
       "      <td>[heute, war, ich, zum, ersten, mal, gemeinsam,...</td>\n",
       "      <td>heute war ich zum ersten mal gemeinsam mit mei...</td>\n",
       "      <td>[heute, erst, mal, gemeinsam, jährig, tochter,...</td>\n",
       "      <td>[heut, erst, mal, gemeinsam, jahrig, tocht, pr...</td>\n",
       "      <td>[heute, ersten, mal, gemeinsam, jährigen, toch...</td>\n",
       "    </tr>\n",
       "  </tbody>\n",
       "</table>\n",
       "</div>"
      ],
      "text/plain": [
       "                                          text_original  rating  \\\n",
       "3264  Heute war ich zum ersten Mal gemeinsam mit mei...     1.0   \n",
       "\n",
       "                                                   text     label  sentiment  \\\n",
       "3264  Heute war ich zum ersten Mal gemeinsam mit mei...  positive          1   \n",
       "\n",
       "                                            token_clean  \\\n",
       "3264  [heute, war, ich, zum, ersten, mal, gemeinsam,...   \n",
       "\n",
       "                                             text_clean  \\\n",
       "3264  heute war ich zum ersten mal gemeinsam mit mei...   \n",
       "\n",
       "                                            token_lemma  \\\n",
       "3264  [heute, erst, mal, gemeinsam, jährig, tochter,...   \n",
       "\n",
       "                                             token_stem  \\\n",
       "3264  [heut, erst, mal, gemeinsam, jahrig, tocht, pr...   \n",
       "\n",
       "                                  token_clean_stopwords  \n",
       "3264  [heute, ersten, mal, gemeinsam, jährigen, toch...  "
      ]
     },
     "execution_count": 17,
     "metadata": {},
     "output_type": "execute_result"
    }
   ],
   "source": [
    "data[data[\"text_clean\"].str.contains(' úm ')]"
   ]
  },
  {
   "cell_type": "markdown",
   "metadata": {},
   "source": [
    "... seems to be ok..."
   ]
  },
  {
   "cell_type": "code",
   "execution_count": null,
   "metadata": {},
   "outputs": [],
   "source": []
  },
  {
   "cell_type": "markdown",
   "metadata": {},
   "source": [
    "...prepare the training/test/validation data..."
   ]
  },
  {
   "cell_type": "code",
   "execution_count": 18,
   "metadata": {},
   "outputs": [
    {
     "name": "stdout",
     "output_type": "stream",
     "text": [
      "264949 train examples\n",
      "66238 test examples\n",
      "211959 train examples\n",
      "52990 test examples\n"
     ]
    }
   ],
   "source": [
    "data_train, data_test = get_train_test_split(params, data)\n",
    "data_train, data_val = get_train_test_split(params, data_train)\n",
    "\n",
    "dataset_train = dataframe_to_dataset(params, data_train)\n",
    "dataset_test = dataframe_to_dataset(params, data_test)\n",
    "dataset_val = dataframe_to_dataset(params, data_val)"
   ]
  },
  {
   "cell_type": "code",
   "execution_count": 19,
   "metadata": {},
   "outputs": [
    {
     "name": "stdout",
     "output_type": "stream",
     "text": [
      "{'text_clean': <tf.Tensor: shape=(128,), dtype=string, numpy=\n",
      "array([b'k\\xc3\\xbcrzlich zum ersten mal bei frau dr link gewesen zur vorsorge . war positiv \\xc3\\xbcberrascht sympathische und kompetente \\xc3\\xa4rztin . hat mich sehr geduldig und verst\\xc3\\xa4ndnisvoll beraten und gr\\xc3\\xbcndlich untersucht . auch das personal war sehr freundlich und professionell . gute praxisorganisation , kaum wartezeit .',\n",
      "       b'wurde jeder zeit weiterempfehlen',\n",
      "       b'dr. frenken nimmt sich au\\xc3\\x9fergew\\xc3\\xb6hnlich viel zeit f\\xc3\\xbcr seine patienten . er h\\xc3\\xb6rt aufmerksam zu , gleicht befunde mit daten aus fr\\xc3\\xbcheren jahren ab und geht insgesamt sehr sorgf\\xc3\\xa4ltig und gewissenhaft vor , um die richtige diagnose zu stellen . dabei erkl\\xc3\\xa4rt und ber\\xc3\\xa4t er ausf\\xc3\\xbchrlich und geduldig . wenn es notwendig ist , kann man ihn auch au\\xc3\\x9ferhalb der praxiszeiten erreichen . die atmosph\\xc3\\xa4re in der praxis ist so , dass man sich wirklich gut aufgehoben f\\xc3\\xbchlt . dr. frenken ist der ideale hausarzt . ich bin deshalb seit mehr als zehn jahren bei ihm .',\n",
      "       b'diese zahnarztpraxis kann man mit bestem gewissen weiterempfehlen',\n",
      "       b'die wartezeiten sind kurz , er nimmt einen auch flexibel ohne termin dran , hat immer einen flotten spruch auf der lippe . ich kann ihn weiter empfehlen .',\n",
      "       b'ich bin nun seit mehreren jahren patientin bei fr . dr. mechsner und bis jetzt war sie von allen frauen\\xc3\\xa4rzten bei denen ich in behandlung war die beste . ich habe bis jetzt weder viel zeit im wartezimmer verbringen m\\xc3\\xbcssen , noch habe ich jemals eine behandlung als inkompetent empfunden . letzte woche hatte ich einen absoluten notfall und wurde trotz nahenden feiertagen freundlich eingeladen sofort zur sprechstunde zu kommen wo ich dazwischengeschoben wurde und auch schnell drangekommen bin .',\n",
      "       b'freundlich , kompetent , habe mich im laufe der vielen jahre an die l\\xc3\\xa4ngeren wartezeiten in der praxis gew\\xc3\\xb6hnt !',\n",
      "       b'ich bin jahre alt und aufgrund von kniebeschwerden zu herrn dr. molzen gegangen . das erste was mir auffiel eine gepflegte praxis und man kommt p\\xc3\\xbcnktlich dran , und das ist bis heute so geblieben . nach einem ausf\\xc3\\xbchrlichen erstgespr\\xc3\\xa4ch und dem darauf folgenden mrt musste ich mich bei einem von dr. molzen empfohlenen kniespezialisten einer gr\\xc3\\xb6\\xc3\\x9feren operation unterziehen . die w\\xc3\\xb6chentliche nachsorge hat nun dr. molzen wieder \\xc3\\xbcbernommen und ich f\\xc3\\xbchle mich von ihm erstklassig betreut und ernst genommen . herr dr. molzen nimmt sich jedes mal viel zeit um mir all meine fragen zu beantworten . zudem steht er in telefonischem kontakt mit meinem operateur , genau so wie mit meiner physiotherapeutin . auch das gibt mir das gef\\xc3\\xbchl bei ihm in den besten h\\xc3\\xa4nden zu sein .',\n",
      "       b'frau dr. kie\\xc3\\x9fling rau nimmt sich immer viel zeit f\\xc3\\xbcr die anamnese und ber\\xc3\\xa4t sehr ausf\\xc3\\xbchrlich , weiterhin ist ihre kompetenz sehr hoch , frau dr. kie\\xc3\\x9fling hat eine lange unerkannt gebliebene unterfunktion erkannt und uns so die bis dahin bestehende kinderwunschproblematik gel\\xc3\\xb6st . frau dr. kie\\xc3\\x9fling rau hat auch w\\xc3\\xa4hrend eines asylverfahrens einer uns bekannten patientin sehr viel hilfe geleistet und weit mehr leistungen erbracht als \\xc3\\xbcblich und abrechenbar . es sind bereits mehrere patientinnen aus meinem sozialen umfeld zu frau dr. kie\\xc3\\x9fling rau gewechselt auch diese sind durchgehend sehr zufrieden .',\n",
      "       b'eine wirklich empfehlenswerte praxis ! meinen ersten termin bekam ich innerhalb von ca . woche . die sprechstundenhilfen waren sehr nett , kompetent und kl\\xc3\\xa4rten mich gleich \\xc3\\xbcber untersuchungen auf , die von der krankenkasse \\xc3\\xbcbernommen werden . im allgemeinen herrschte eine sehr angenehme atmosph\\xc3\\xa4re in der praxis . die r\\xc3\\xa4umlichkeiten der praxis sind sehr hell und modern . die \\xc3\\xa4rztin nahm sich ausreichend zeit um fragen zu beantworten . die behandlung war sehr einf\\xc3\\xbchlsam und kompetent . ich f\\xc3\\xbchlte mich zu keiner zeit unwohl , im gegenteil . auch die hygienischen zust\\xc3\\xa4nde waren ebenfalls topp ! fazit keine beanstandungen , immer wieder gerne ! ich bin froh eine so tolle frauen\\xc3\\xa4rztin gefunden zu haben !',\n",
      "       b'auf der suche nach einem gyn\\xc3\\xa4kologen in steglitz bin ich auf dr. schwarz gesto\\xc3\\x9fen . ich f\\xc3\\xbchlte mich mit meinem problem verstanden und wurde w\\xc3\\xa4hrend der untersuchung \\xc3\\xbcber deren verlauf aufgekl\\xc3\\xa4rt . das einzig negative war eine wartezeit trotz termin von etwa einer stunde . ich w\\xc3\\xbcrde jeder frau eine behandlung bei dr. schwarz weiterempfehlen .',\n",
      "       b'wir sind zu frau dr. vocks hauck gekommen , nachdem unsere fr\\xc3\\xbchere kinder\\xc3\\xa4rztin f\\xc3\\xbcr die keinen termin mehr frei hatte . frau dr. vocks hauck ist dann abends nach ihrer sprechstunde zu uns nach hause gekommen , um unsere tage alte tochter zu untersuchen . das fanden wir ganz toll ! sie ist immer sehr freundlich und nimmt die kinder und uns ernst . man immer das gef\\xc3\\xbchl , dass man selbst die letzte entscheidung \\xc3\\xbcber ein medikament oder eine behandlung trifft , und sie einem nichts aufdr\\xc3\\xa4ngt . die untersuchungen f\\xc3\\xbchrt sie mit gro\\xc3\\x9fer geduld und achtung vor den kindern durch das haben wir bei anderen kinder\\xc3\\xa4rzten auch schon anders erlebt . auch die sprechstundenhilfen sind immer sehr nett und hilfsbereit . dass man l\\xc3\\xa4nger warten muss , l\\xc3\\xa4sst sich bei kinder\\xc3\\xa4rzten wohl nicht vermeiden . mir ist es lieber , ein kinder\\xc3\\xa4rzt in nimmt sich f\\xc3\\xbcr alle ihre patienten so viel zeit wie f\\xc3\\xbcr uns , als dass man schnell abgefertigt wird und das gef\\xc3\\xbchl hat , nicht alle fragen losgeworden zu sein .',\n",
      "       b'der arzt nimmt sich genug zeit , h\\xc3\\xb6rt aufmerksam zu . in der praxis warte ich nicht lange , obwohl ich ohne termin hingehe . alle arbeiter sind sehr nett und l\\xc3\\xa4uft alles sehr schnell .',\n",
      "       b'frau dr. simons hat mich sehr gut behandelt und aufgekl\\xc3\\xa4rt sie ist sehr kompetent und hat sich viel zeit f\\xc3\\xbcr mich genommen',\n",
      "       b'bin seit meiner kindheit bei herrn scheuermann in behandlung . herr scheuermann und sein team waren immer super freundlich . ich bin jetzt jahre alt und hatte noch nie probleme mit meinen z\\xc3\\xa4hnen . ich werde auch in zukunft gerne zu herrn scheuermann in die praxis gehen .',\n",
      "       b'besonders gut gef\\xc3\\xa4llt mir an frau weinlich ihre sowohl psychische als auch praktische feinf\\xc3\\xbchligkeit . im gegensatz zu anderen zahn\\xc3\\xa4rzten , habe ich bis jetzt noch nie gesp\\xc3\\xbcrt wenn sie mir eine spritze gesetzt hat auch mein ehemaliger mann , der riesengro\\xc3\\x9fe \\xc3\\xa4ngste vor zahn\\xc3\\xa4rzten hatte , f\\xc3\\xbchlte sich dort richtig gut aufgehoben . ihre kompetente , flotte art spricht f\\xc3\\xbcr sich , das thema wartezeiten ist kaum erw\\xc3\\xa4hnenswert . nat\\xc3\\xbcrlich sollte man besser einen termin absprechen , aber auch bei notf\\xc3\\xa4llen zwischendurch mu\\xc3\\x9fte ich nie lange warten .',\n",
      "       b'ich bin aktuell wieder in behandlung und mehr als zufrieden . das ist wirklich ein zahnarzt , dem man vertrauen kann .',\n",
      "       b'herr dr. tr\\xc3\\xb6gele ist ein kompetenter , sein fachgebiet umfassend beherrschender dermatologe . auch seine souver\\xc3\\xa4nit\\xc3\\xa4t in fachmedizinisch benachbarten disziplinen zeigt ihn als engagierten , ganzheitlich denkenden , versierten arzt , der sich nicht nur mit dem fall sondern mit dem patienten in toto befasst . sein sicheres auftreten und seine soziale kompetenz sind genau so zu w\\xc3\\xbcrdigen , wie seine \\xc3\\xa4rztlichen f\\xc3\\xa4higkeiten ! ich bin froh und dankbar , mit herrn dr. tr\\xc3\\xb6gele und seinem netten und um den patienten sehr bem\\xc3\\xbchten team nach einem langen , bislang ergebnislosen \\xc3\\xa4rztemarathon endlich einen dermatologen gefunden zu haben , bei dem ich mich mit meinem haarausfall in besten h\\xc3\\xa4nden f\\xc3\\xbchle . danke daf\\xc3\\xbcr !',\n",
      "       b'eine vern\\xc3\\xbcnftige anamnese gibt es nicht vorerkrankung , allergien etc . , daf\\xc3\\xbcr bekommt jeder ein blutbild . diagnose nur von apparatemedizin abh\\xc3\\xa4ngig .... fachliche expertiese wirkt fertig .',\n",
      "       b'dr. g\\xc3\\xb6tting betreut mich seit jahren wegen einer komplizierten glaukomerkrankung . beratung und behandlung sind sehr gut . ich halte ihn f\\xc3\\xbcr einen kompetenten und gewissenhaften arzt . die honorare f\\xc3\\xbcr seine leistungen sind \\xc3\\xbcberraschend moderat . sehr freundliches praxisteam .',\n",
      "       b'super schneller termin , selbst sportlich sehr aktiv versteht die gedanken eines sportlers , sehr sympathisch , fachlich unglaublich stark unkompliziert ! sehr zu empfehlen !',\n",
      "       b'dr. pfeiffer ist ein sehr kompetenter und vertrauensw\\xc3\\xbcrdiger freundlicher arzt , das ergebnis ist super geworden , trotz der augenprothese . ich kann ihn mit besten gewissen empfehlen . ich f\\xc3\\xbchlte mich sehr wohl . vielen dank an dr. pfeiffer .',\n",
      "       b'der praxis ist sehr zentral und ich w\\xc3\\xbcrde sehr gut behandelt . professionell und freundlich',\n",
      "       b'ich bin mit der praxis von herrn dr. anton sehr zufrieden . die terminvergabe und damit auch die wartezeit in der praxis funktioniert auch wesentlich besser als noch vor einigen jahren . mir wurde ein zementfreies h\\xc3\\xbcftgelenk implantiert . schon im aufwachraum hatte ich keinerlei schmerzen und dies ging weiter so bis zur entlassung aus der dreiw\\xc3\\xb6chigen reha . ich konnte es kaum glauben . in der reha war ich fast die einzige , die eine problemlose ahb hatte . jetzt kann ich endlich wieder l\\xc3\\xa4ngere zeit stehen und schmerzfrei laufen . vielen dank daf\\xc3\\xbcr ! !',\n",
      "       b'bei meinem ersten termin bei herrn dr. lantzsch wurde ich in so arroganter , absch\\xc3\\xa4tziger weise behandelt , wie es mir in den jahren , die ich nun wegen einer arthritis in behandlung bin , nicht widerfahren ist . alle fragen wurden mit ungeduld und gelangweilt beantwortet , er wirkte voreingenommen und als nehme er meine beschwerden nicht ernst . nach dem k\\xc3\\xb6rperl . checkup war er dann erstaunt , dass ich ja tats\\xc3\\xa4chlich eine akrive arthritis habe , lenkte ein und wurde etwas freundlicher . unfassbar .',\n",
      "       b'dr. dominik bergem ist meiner ansicht nach ein sehr kompetenter zahnarzt , der wirklich was von seinem fach versteht . er nimmt sich viel zeit f\\xc3\\xbcr die beratung und ich f\\xc3\\xbchle mich dort bestens aufgehoben .',\n",
      "       b'gehe seit jahren dort hin . obwohl inzwischen verzogen , nehme ich den weiten weg in kauf . weil ich mittwoch nachmittag nat\\xc3\\xbcrlich mit wartezeit , dran komme . wo hat man dies schon . haut\\xc3\\xa4rzte sind rar . s\\xc3\\xa4mtliche behandlungen wo der arzt nicht notwendig wie bestrahlung , spritzen ec .... werden wenn m\\xc3\\xb6glich auch au\\xc3\\x9ferhalb der sprechzeiten mit gro\\xc3\\x9fem entgegenkommen realisiert . hautkrankheiten kann man nicht messen wie blutdruck ... da bleibt manchmal nur austesten ob ein medikament hilft bzw . lindert .',\n",
      "       b'auf grund eines umzuges musste ich den frauenarzt wechseln . leider war dies gar nicht so einfach , da die kapazit\\xc3\\xa4ten bei vielen gyn\\xc3\\xa4kologen ausgelastet sind und man in absehbarer zeit keinen termin zu erwarten h\\xc3\\xa4tte . ganz anders war es bei hr . dr. assadi . die arzthelferin am telefon war schon \\xc3\\xa4u\\xc3\\x9ferst freundlich und bat mich noch am selben tag mit meinen bisherigen arztbefunden vorbeizukommen . dies habe ich nat\\xc3\\xbcrlich sofort dankend in anspruch genommen . in der praxis habe ich keine minuten gewartet und schon wurde ich ins sprechzimmer gebeten . der arzt hat sich sehr viel zeit f\\xc3\\xbcr die anamnese und das vorgespr\\xc3\\xa4ch genommen bevor er mich untersucht hat . er gab einem sofort das gef\\xc3\\xbchl , dass man in dieser praxis in f\\xc3\\xbcrsorglichen h\\xc3\\xa4nden ist ! ich bin absolut begeisert und halte es f\\xc3\\xbcr \\xc3\\xa4u\\xc3\\x9ferst selten , dass es so kompetente \\xc3\\xa4rzte gibt ! deswegen ein gro\\xc3\\x9fes kompliment an diese praxis und ich kann sie allen patienten nur w\\xc3\\xa4rmstens ans herz legen .',\n",
      "       b'dr. neubauer ist ein arzt , der sich seine menschlichkeit bewahrt hat . er ist sehr freundlich und sehr ruhig in seinen erkl\\xc3\\xa4rungen . ich hatte in keinster weise das gef\\xc3\\xbchl nur patient zu sein .',\n",
      "       b'dr. r\\xc3\\xb6der war im umgang immer sehr empathisch , offen und freundlich . er wirkt kompetent , nimmt sich zeit f\\xc3\\xbcr den patienten und legt gro\\xc3\\x9fen wert darauf , seine diagnose und die vorgeschlagenen heilmethoden in einer weise zu erl\\xc3\\xa4utern , die auch laien verst\\xc3\\xa4ndlich ist . ich habe in den mehr als jahren , in denen dr. r\\xc3\\xb6der mein hausarzt ist , mich immer gut und kompetent behandelt gef\\xc3\\xbchlt und vertraue seinem urteil deshalb stets . das praxisteam erscheint manchmal etwas unorganisiert , ist aber ebenfalls au\\xc3\\x9ferordentlich freundlich und hilfsbereit . die praxisr\\xc3\\xa4ume k\\xc3\\xb6nnten aktuell wohl eine renovierung gebrauchen .',\n",
      "       b'diesem arzt haben wir die unseres kindes zu verdanken . ohne ihn w\\xc3\\xa4re er nie schulf\\xc3\\xa4hig geworden und danke',\n",
      "       b'nach einer einj\\xc3\\xa4hrigen odyssee durch mehrere durchaus renommierte praxen bzw . institute in k\\xc3\\xb6ln und d\\xc3\\xbcsseldorf im rahmen von faltengl\\xc3\\xa4ttungen bzw . fettreduzierungen ohne chirurgischen eingriff kam ich sehr ern\\xc3\\xbcchtert zu herrn dr. eilert , der als hautspezialist mit langj\\xc3\\xa4hriger erfahrung , insbesondere im bereich der laserbehandlung , ein f\\xc3\\xbcr meinen k\\xc3\\xb6rper speziell abgestimmtes gesamtpaket vorschlug , bei der jede einzelne behandlung sinnvoll mit anderen verkn\\xc3\\xbcpft ist . bereits bei der ersten vorstellung sp\\xc3\\xbcrte ich den enormen unterschied zu den anderen behandlern , die . zwar \\xc3\\xa4rzte sind , indes keine dermatologen . mit enorm geschultem auge und hervorragendem fachwissen hat dr. eilert eine au\\xc3\\x9fergew\\xc3\\xb6hnlich schnelle und exakte beurteilungsf\\xc3\\xa4higkeit der vielf\\xc3\\xa4ltigen probleme von k\\xc3\\xb6rper und haut . bereits nach der ersten behandlung waren einzelne ergebnisse recht gut sichtbar , deren vollst\\xc3\\xa4ndige entfaltung sich durch den prozess des um bzw . abbaus von gewebe und fett in den kommenden wochen einstellen wird . neben der hohen fachlichen kompetenz besticht dr. eilert durch seine starke soziale kompetenz , eine heitere gelassenheit , die das gesamte praxisteam gleicherma\\xc3\\x9fen ausstrahlt , und die sich so wunderbar auf den patienten \\xc3\\xbcbertr\\xc3\\xa4gt , in einer regelrechten wohlf\\xc3\\xbchl praxis mit einem gro\\xc3\\x9fen spektrum an neuesten high tech ger\\xc3\\xa4ten ausgestattet . im herzen bin ich so froh , dass ich zu dr. eilert gefunden habe . etwas besseres konnte mir nicht passieren nach den vorherigen recht entt\\xc3\\xa4uschenden behandlungen mit internetanpreisungen , die kaum zutreffend waren , zumal in der praxis eilert auch das preis leistungsverh\\xc3\\xa4ltnis \\xc3\\xbcber die ma\\xc3\\x9fen stimmt . die von mir zuvor investierte nicht unerhebliche geldsumme in anderen praxen war quasi fehlinvestiert . dr. eilert ist ein genialer und vertrauensw\\xc3\\xbcrdiger arzt und mensch , dem man heutzutage eher selten begegnet . f\\xc3\\xbcr sein exzellentes k\\xc3\\xb6nnen danke ich sehr , und sein authentisches , empathisches wesen tut einfach gut .',\n",
      "       b'sehr guter kompetenter arzt . mehr gibt es dazu nicht zu sagen .',\n",
      "       b'habe von fr dr schaaf zu ihm gewechselt und f\\xc3\\xbchle mich sehr wohl . er nimmt sich zeit und gibt einem das gef\\xc3\\xbchl ihm vertrauen zu k\\xc3\\xb6nnen .',\n",
      "       b'frau dr. bluth ist eine \\xc3\\xa4rztin , zu der man ein ganz pers\\xc3\\xb6nliches verh\\xc3\\xa4ltnis aufbauen kann , so dass man sich auch mit etwas heiklen problemen vertrauensvoll an sie wenden kann . sie ist seit vielen jahren meine haut\\xc3\\xa4rztin , die mich erst vor kurzem durch eine schnelle entscheidung vor komplikationen bewahrt hat . ich m\\xc3\\xb6chte mich bei ihr bedanken und hoffe , dass sie bis an mein lebensende meine \\xc3\\xa4rztin bleibt . . vetter',\n",
      "       b'seit ca . jahren wurden bei mir zahlreiche kontrolluntersuchungen durch herrn dr. janiszewski durchgef\\xc3\\xbchrt . dabei ist erfreulich , dass die sehr gute behandlungsqualit\\xc3\\xa4t \\xc3\\xbcber diesen relativ langen zeitraum keinerlei einbu\\xc3\\x9fen erlitten hat . die aufkl\\xc3\\xa4rung erfolgt stets ohne zeitdruck in einer wohltuend ruhigen und sachlichen atmosph\\xc3\\xa4re keine frage bleibt unbeantwortet . die anschlie\\xc3\\x9fende untersuchung wird patientenschonend z\\xc3\\xbcgig und professionell durchgef\\xc3\\xbchrt . die betreuung durch die mitarbeiterinnen vor , w\\xc3\\xa4hrend und nach der untersuchung ist sehr sensibel sehr freundlich und niemals aufdringlich .',\n",
      "       b'ich bin seit langer zeit nun patienten in dieser zahnarztpraxis und m\\xc3\\xb6chte diese wenn es geht nie wieder wechseln . dr mittelham ist sehr kompetent und freundlich und erkl\\xc3\\xa4rt einem alles ganz genau ohne die \\xc3\\xbcbertriebene verwendung m\\xc3\\xb6glichst vieler fachbegriffe . besonders beruhigend empfinde ich die tatsache , dass man sich hier zu sicher sein kann keine behandlung zu erhalten und vor allen dingen bezahlen zu m\\xc3\\xbcssen , die nicht notwendig ist . mein alter zahnarzt wollte alle inlays rausnehmen und durch kronen ersetzen , da die inlays schon zu alt w\\xc3\\xa4ren ! dr. mittelhamm war gott sei dank der meinung es ist alles noch gut und kronen brauch ich sowieso noch nicht , es ist noch ausreichend gute zahnsubstanz vorhanden . das ist jetzt jahre her und ich habe immer noch keine probleme und sie halten . ich h\\xc3\\xa4tte also bei dem alten zahnarzt ein verm\\xc3\\xb6gen bezahlt f\\xc3\\xbcr eine unn\\xc3\\xb6tige behandlung . zus\\xc3\\xa4tzlich bin ich wie die meisten menschen auch panisch beim zahnarzt . ohne bet\\xc3\\xa4ubung geht hier nichts . allerdings kann man sich auch hier auf das urteilsverm\\xc3\\xb6gen von dr mittelhamm verlassen . wenn er sagt , da braucht man keine bet\\xc3\\xa4ubung , das tut nicht weh , dann ist es auch so ! die professionelle zahnreinigung in dieser praxios ist auch die beste die ich jemals bekommen habe . hier tut gar nichts weh ! die dame macht es wirklich mit ser viel feingef\\xc3\\xbchl . um die g\\xc3\\xbcteklasse dieses zahnarztes zu unterstreichen ich wohne leider nicht mehr hh . dennoch bin ich weiterhin patientin in dieser praxis . lieber fahre ich km anstatt den zahnarzt zu wechseln .',\n",
      "       b'wartezeit f\\xc3\\xbcr einen behandlungstermin ca . wochen ... im wartezimmer musste ich bis jetzt nie l\\xc3\\xa4nger als min warten meistens wurde ich schon nach bis minuten gerufen der empfang ist bisher immer freundlich sein umgang mit den patienten ist erste klasse ... immer freundlich , er fragt immer nach , erkl\\xc3\\xa4rt alles was er macht bis ins detail und die behandlungen gehen oft recht schnell von statten . bisher der beste zahnarzt den ich je hatte .... ich geh zu keinem anderen mehr !',\n",
      "       b'obwohl ich nicht in w\\xc3\\xbcrzburg wohne , bin seit jahren in behandlung bei frau dr. . poppe . sie geht sehr gut auf ihre patienten ein , auch auf angstpatienten . die atmosph\\xc3\\xa4re ist sehr angenehm und w\\xc3\\xa4hrend der behandlung wird das vorgehen genau erl\\xc3\\xa4utert , sodass ich jederzeit wei\\xc3\\x9f , was gemacht wird . die behandlungen werden sehr korrekt , genau und m\\xc3\\xb6gl . schmerzfrei durchgef\\xc3\\xbchrt . ausf\\xc3\\xbchrliche beratungsgespr\\xc3\\xa4che sind selbstverst\\xc3\\xa4ndlich . was gemacht werden musste , war sinnvoll und hat nachhaltig gewirkt und gehalten . das praxisteam ist stets freundlich und zugewandt , fragen werden geduldig beantwortet .',\n",
      "       b'ich habe mich von dr. k\\xc3\\xbcppers in opladen im krankenhaus an der nase operieren lassen . er hat eine sehr gute arbeit gemacht , meine nase ist sehr sch\\xc3\\xb6n geworden . ich f\\xc3\\xbchlte mich sehr gut beraten und gut aufgehoben . ich kann die praxis nur weiterempfehlen . kompetent und direkt . vielen dank ! ! !',\n",
      "       b'ich war ja begeistert als ich da an rief und un einen termin bat bzw auch meinte das ich einen neuen arzt brauch war die schwester total nett und hab den termin mit wochen wartezeit bekommen was ja okay ist , als ich dann in der praxis ankam w\\xc3\\xbcrde ich total lieb aufgenommen , habe mich angemeldet bei der dame vorne musste einen moment warten und war dann beim doktor drin , er hat mich sehr nett gegr\\xc3\\xbc\\xc3\\x9ft und erstmal mit mir geredet , er ist sehr einf\\xc3\\xbchlsam , dann untersuchte er mich er redet sehr ruhig und sachlich au\\xc3\\x9ferdem erkl\\xc3\\xa4rt alles genau und er nimmt sich echt viel zeit um alle offenen fragen zu kl\\xc3\\xa4ren und egal was man auf dem herz hat er h\\xc3\\xb6rt zu .. bin echt sehr froh das ich zu ihm gegangen bin , da f\\xc3\\xbchlt man sich echt wohl kann ihn nur weiter empfehlen und auch erw\\xc3\\xbcnscht ! ! !',\n",
      "       b'sehr kompetenter und freundlicher arzt . sympathisch und nimmt sich viel zeit . auch die empfangsdame war sehr zuvorkommend und freundlich .',\n",
      "       b'dr. seeger ist ein super arzt . fachlich kompetent und im bereich der kinesiologie sehr fortschrittlich ! au\\xc3\\x9ferdem bestens vernetzt mit anderen \\xc3\\xa4rzten und gesundheitlichen einrichtungen . seine kompetenz und erfahrung aus dem bereich leistungssport rundet die gesamte behandlung ab .',\n",
      "       b'super haus\\xc3\\xa4rztin . ich habe sie im freundes und bekanntenkreis schon oft weiterempfohlen und alle geben mir eine positive r\\xc3\\xbcckmeldung . eine \\xc3\\xa4rztin wie sie es sein soll .',\n",
      "       b'meine kinder gehen gerne zum zahnarzt . die \\xc3\\xa4rztinnen sind sehr kompetent und gehen sehr auf die kinder ein .',\n",
      "       b'in den zwei jahren als patient von dr. brussig bislang nur positive erfahrungen gemacht . professioneller und freundlicher umgang auch bei kleineren problemen . angenehme und angstnehmende atmosph\\xc3\\xa4re .',\n",
      "       b'das \\xc3\\xa4rzteteam ist wirklich unglaublich freundlich und nimmt sich die zeit die ben\\xc3\\xb6tigt wird , damit alle fragen zufriedenstellend beantwortet werden . sie finden immer eine l\\xc3\\xb6sung . auch das ergebnis ist top . bei unzufriedenheiten wird gemeinsam nach einer effizienten l\\xc3\\xb6sung gesucht . sehr empfehlenswert .',\n",
      "       b'nimmt sich keine ausreichende zeit , geht nicht auf die patienten ein , man f\\xc3\\xbchlt sich wie eine nummer , die schnell wieder verabschiedet wird .',\n",
      "       b'man bekommt jederzeit oder zeitnah einen termin behandlung freundlichkeit sehr gut',\n",
      "       b'ich habe mir vor wochen bei herrn kazak die nase operieren lassen . wir haben vor der op gemeinsam eine simulation der neuen nase erstellt , dabei ist er auf alle meine w\\xc3\\xbcsche eingegangen und hat sich zeit f\\xc3\\xbcr meine fragen genommen . nach der op hatte ich weder blaue flecken , noch bluterg\\xc3\\xbcsse unter den augen und kaum schmerzen . herr kazak hat eine super arbeit geleistet und mit dem ergebnis bin ich \\xc3\\xbcbergl\\xc3\\xbccklich ! ! auch mit der nachbetreuung der neuen nase bin ich sehr zufrieden . danke daf\\xc3\\xbcr !',\n",
      "       b'dr. frauenschuh ist immer sehr freundlich , nimmt sich zeit f\\xc3\\xbcr die patienten und ist sehr kompetent auf seinem gebiet . nach der . entfernen von platte und schrauben kann inzwischen der arm auf angehoben werden . die . war soweit ich das beurteilen kann sehr gut . er hat auch ein kompetentes team um sich herum . es wurde sogar an den arzttermin erinnert .',\n",
      "       b'minuten warten und dann nur minuten fuer patienten der artz hat sehr schnell preis gesagt und nach rezeption geschickt . echt laecherlich ...',\n",
      "       b'tolle praxis , freundlich und gut , habe keine zahnarzt angst alle zahn\\xc3\\xa4rzte sehr freundlich und kompetent .',\n",
      "       b'sehr gute und freundliche bedienung der arzthelferinen . geringe wartezeit und sehr gute \\xc3\\xa4rztliche behandlung . sehr empfehlenwerte arztpraxis mit allem was ein patient ben\\xc3\\xb6tigt .',\n",
      "       b'absolut empfehlenswert . als angstpatient mit gro\\xc3\\x9fem behandlungsumfang wurde mir sehr geholfen . f\\xc3\\xbcr mich ist dr. desmyttere der beste zahnarzt .',\n",
      "       b'ich bin sehr zufrieden mit der behandlung von herrn dr. birkhahn und habe mich sehr wohl gef\\xc3\\xbchlt . herr dr. birkhahn hat sich sehr viel zeit genommen , jeden schritt sehr ausf\\xc3\\xbchrlich , kompetent und nachvollziehbar erl\\xc3\\xa4utert und war ausgesprochen freundlich . ich habe mich w\\xc3\\xa4hrend der behandlung sehr gut aufgehoben gef\\xc3\\xbchlt . auch das praxisteam ist sehr zuvorkommend , freundlich und hilfsbereit . ich w\\xc3\\xbcrde herrn dr. birkhahn und sein team jederzeit weiterempfehlen . vielen dank !',\n",
      "       b'wurde ohne termin gab beim onlinetermin einen fehler trotzdem aufgenommen und kam binnen min dran . superfreundliche arzthelferinnen . \\xc3\\xa4rztin bestand drauf dass ich mit sehkraft schon sehr zufrieden sein kann auf dem einen auge , ich weiss aber dass ich schaffe trotz starker kurzsichtigkeit . nahm sich dann wegen meines schielproblems viel zeit und kl\\xc3\\xa4rte alle . bekam direkt f\\xc3\\xbcr den montag danach es war freitag einen zweiten termin zur genaueren kontrolle .',\n",
      "       b'sehr entspannter zahnarzt . kassenversorgung durchgef\\xc3\\xbchrt , hat keine teuren und unn\\xc3\\xb6tigen zusatzquatsch verkauft , bin absolut zufrieden und kann diesen arzt weiterempfehlen !',\n",
      "       b'ich bin seit circa drei jahren aus verschiedenen gr\\xc3\\xbcnden immer wieder bei herrn dr. katsch und seinen kolleginnen in behandlung und bisher ausschlie\\xc3\\x9flich sehr zufrieden gewesen . auf mich wirkt herr dr. katsch sehr kompetent und strukturiert in seiner arbeitsweise . dadurch bekommt man als patient auch eine klare vorstellung , wie die behandlung verlaufen wird und f\\xc3\\xbchlt sich eingebunden .',\n",
      "       b'um ehrlich zu sein , war ich anfangs skeptisch als ich das erste mal in behandlung war , aber auch nur weil ich zuvor von seinem vater , heinz josef vergossen pino , behandelt wurde . jedoch schuf sich sehr schnell ein sehr gutes vertrauensverh\\xc3\\xa4ltnis . ein junger arzt , der aber sehr gut informiert und mit guten kenntnissen in der allgemeinmedizin trumpfen kann . er nimmt sich zeit und geht sehr sanft und diskret mit den problemen der patienten um . jederzeit empfehlenswert . wirklich top !',\n",
      "       b'dr. schulz ist freundlich , empathisch und sehr vertrauensw\\xc3\\xbcrdig . diagnostik mit anschlie\\xc3\\x9fender op an meiner schulter , durchgef\\xc3\\xbchrt von dr. schulz und engmaschiger nachkontrolle , ich f\\xc3\\xbchlte mich immer gut aufgehoben . ich bin sehr froh , endlich einen gscheiten orthop\\xc3\\xa4den gefunden zu haben .',\n",
      "       b'nach meinen drei schwangerschaften und der entsprechenden stillzeit waren meine , schon immer eher kleinen , br\\xc3\\xbcste stark in mitleidenschaft gezogen . sie hingen herunter , da sich die haus nicht ausreichend zur\\xc3\\xbcckgebildet hatte und wirkten so noch kleiner . vor monaten habe ich mir endlicch meinen langgehegten wunsch erf\\xc3\\xbcllt und habe mir bei dr. klesper die br\\xc3\\xbcste vergr\\xc3\\xb6\\xc3\\x9fern und straffen lassen . der eingriff verlief schnell und problemlos . ich konnte sogar noch am gleichen tag die klinik verlassen . es verheilte alles super und das ergebnis ist ein traum ! endlich sehen meine br\\xc3\\xbcste sch\\xc3\\xb6n aus und trotzdem noch nat\\xc3\\xbcrlich . tolle arbeit !',\n",
      "       b'bin seit \\xc3\\xbcber jahren zufriedener patient und f\\xc3\\xbchle mich sehr gut aufgehoben in der praxis . fr . dr. berrisch , sowie das gesamte praxisteam helferinnen , anmeldung sind sehr freundlich , es gibt kaum wartezeiten und fr . dr. berrisch nimmt sich immer genug zeit f\\xc3\\xbcr beratung bzw . behandlung . die praxis ist sehr empfehlenswert !',\n",
      "       b'bin seit \\xc3\\xbcber jahren bei der frau dr. reinecke in behandlung . mehr muss man wohl nicht sagen .',\n",
      "       b'herr dr nekzai kompetent und vertrauensw\\xc3\\xbcrdig . ich habe nach jahren wieder einen zahnarzt gefunden , der wirklich perfekte arbeit leistet .',\n",
      "       b'dr. beyersdorf ist seit jahren mein hausarzt . aus meiner erfahrung ist er in seinem fach in tiefe und breite \\xc3\\xbcberaus kompetent . dar\\xc3\\xbcber hinaus ist er bestens mit anderen fachpraxen vernetzt . bei dr. . bin ich nachweislich meiner schweren erkrankungen in sicherer medizinischer betreuung . daher genie\\xc3\\x9ft er mein vollstes medizinisches vertrauen .',\n",
      "       b'die negativen bewertungen kann ich nicht nachvollziehen . ich bin seit mehreren jahren in behandlung , und zufrieden . diejenigen die bem\\xc3\\xa4ngeln dass es zu wartezeiten kommen kann er ist in seiner hausarztfunktion ansprechpartner f\\xc3\\xbcr erkrankte bei jeder erk\\xc3\\xa4ltungswelle ist doch klar dass die praxis dann voll ist . in der regel wartet man trotzdem max minuten . da er kein junger uni absolvent ist , verschreibt oder verordnet er auch nicht jeden mist oder dr\\xc3\\xa4ngt zu privat leistungen . top hausarzt !',\n",
      "       b'dr. voss operiert meinen tennisarm und ich muss sagen , es lief alles super . es gab keinerlei probleme bei der op und es ist alles sehr gut verheilt . vielen dank f\\xc3\\xbcr die gute op !',\n",
      "       b'dr. fischer ist ein sehr kompetenter und einf\\xc3\\xbchlsamer arzt . bei allen behandlungen wurde von ihm eingehend die vorgehensweise erl\\xc3\\xa4utert . die mitarbeiter sind sehr nett und freundlich . durch eine hervorragende organisation gab es nie lange wartezeiten . ich f\\xc3\\xbchlte mich jederzeit dort gut aufgehoben .',\n",
      "       b'nettes und kompetentes team , verstehe nicht warum man da noch mehr zu schreiben soll ? termin holen und selber bewerten ...',\n",
      "       b'kompetenter facharzt und sehr zuvorkommendes praxispersonal',\n",
      "       b'dies war meine zweite koloskopie bei herrn dr. weber . neu war f\\xc3\\xbcr mich das mittel picoprep , das f\\xc3\\xbcr mich deutlich angenehmer und vertr\\xc3\\xa4glicher als das vorherige mittel war . ansonsten war alles top durchorganisiert , kaum wartezeiten , sehr freundliche mitarbeiter mitarbeiterinnen am empfang . in vor und auswertungsgespr\\xc3\\xa4ch mit dem arzt hatte ich gelegenheit , meine fragen stellen , die mir nach meinem eindruck sehr kompetent beantwortet wurden . die prognostizierte abholzeit nach narkose darf man nur mit begleiter nach hause stimmte haargenau . einen termin bekommt man , auf grund der hohen auslastung , naturgem\\xc3\\xa4\\xc3\\x9f nicht gleich in der n\\xc3\\xa4chsten woche , was aber bei einer vorsorgeuntersuchung . auch nicht n\\xc3\\xb6tig ist . man muss sich halt rechtzeitig k\\xc3\\xbcmmern . da ich mit der bvg kam , kann ich zu parkpl\\xc3\\xa4tzen nichts sagen . also , ich bin rundum zufrieden und kann diese praxis nur weiterempfehlen .',\n",
      "       b'eine glatte eins . ich habe volles vertrauen zu ihr .',\n",
      "       b'herr dr. herwig ist ein orthop\\xc3\\xa4de , wie man ihn heute leider nur noch selten trifft . ich habe als neupatient kurzfristig einen termin bekommen , was mich zugegebenerma\\xc3\\x9fen zun\\xc3\\xa4chst stutzig gemacht hat als kassenpatient muss man ja oft monatelang auf einen termin bei einem fachkundigen arzt warten . bei bedarf nimmt sich dr. herwig aber auch die notwendige zeit um fragen zu kl\\xc3\\xa4ren . ich wurde von dr. herwig sehr gut \\xc3\\xbcber meine krankheit informiert . ich f\\xc3\\xbchlte mich gleich gut aufgehoben . meine beschwerden bin ich los . die mitarbeiter in seiner praxis sind alle sehr nett und freundlich . er ist ein absuluter spezialist , der wei\\xc3\\x9f was er tut . von der telefonischen terminvergabe bis hin zur behandlung kann ich nur sagen daumen hoch und weiter so !',\n",
      "       b'ich bin schon seit einigen jahren patientin bei dr. fiek und sehr zufrieden . da wo andere orthop\\xc3\\xa4den ihr standardprogramm durchziehen , ist dr. fiek eine absolute ausnahme ! er ist sehr genau und kompetent , erkennt sofort die ursachen und sch\\xc3\\xa4tzt die situation immer gut ein . ich bin froh einen solchen tollen arzt gefunden zu haben .',\n",
      "       b'das . mal war ich nun in der praxis ! ich bin \\xc3\\xbcbrigens kassenpatientin und habe ein paar kilos zu viel auf den rippen ! ich bin von der ganzen praxis begeistert ! hier stimmt alles ! mega freundliches telefonat , empfang , wartezeit auf termin tag , wartezeit in der praxis min bei der behandlung wurde alles genau erkl\\xc3\\xa4rt warum woher usw , hilfestellung f\\xc3\\xbcr \\xc3\\xbcbungen , welche sportart ich wann wie aus\\xc3\\xbcben darf und einen plan gegeben wie es eventuell weitergeht . mehr an service geht nicht mehr !',\n",
      "       b'in jahren ist er der dritte arzt der seinen beruf mit herz und seele aus\\xc3\\xbcbt .',\n",
      "       b'super \\xc3\\xa4rztin gute behandlung einfach nett und super',\n",
      "       b'ich freue mich , dass ich mit meinen kindern in einer praxis gelandet bin , in der ich das gef\\xc3\\xbchl habe , besonders gut aufgekl\\xc3\\xa4rt zu werden . das personal ist freundlich , die \\xc3\\xa4rzte sehr kompetent . meine kinder gehen sehr gerne zur behandlung . es gibt ein wundersch\\xc3\\xb6nes aquarium im wartebereich . der umgang mit meinen kindern ist sehr nett , nach der behandlung freuen sie sich auf die spielsachenkiste , aus der sie etwas mit nach hause nehmen d\\xc3\\xbcrfen .',\n",
      "       b'das praxisteam ist sehr bem\\xc3\\xbcht dem ansturm in der praxis herr zu werden . in haidhausen gibt es zu wenig kinder\\xc3\\xa4rzte . die behandlung war \\xc3\\xbcberaus einf\\xc3\\xbchlsam , altersgerecht und kompetent . fragen wurden sachlich beantwortet . sehr zu empfehlen !',\n",
      "       b'ein tolles team , immer freundlich und aufgeschlossen . frei nach dem motto hier komm ich gerne her , hier werde ich geholfen ! bitte weiter so .',\n",
      "       b'ich bin seit anfang des jahres bei dr. gusbeth wegen einer krebserkrankung in behandlung . ganz besonders m\\xc3\\xb6chte ich seine sachliche und umfassende darstellung der behandlungsalternativen und die sachlich klare und doch empathische gespr\\xc3\\xa4chsf\\xc3\\xbchrung herausstellen . bei der rektalen sonographie und der dann folgenden biopsie hat er mir durch seine einf\\xc3\\xbchlsame art die angst genommen und mir die behandlung sehr erleichtert . auch das gesamte praxisteam ist immer nett und freundlich .',\n",
      "       b'behandlung und betreuung durch die \\xc3\\xa4rztin sinsind super . lediglich die wartezeit in der regel und mehr und die tatsache dass patienten in unklarer reihenfolge aufgerufen werden sollten verbessert werden .',\n",
      "       b'wartezeit und zeit bei der bahandlung zu lange , \\xc3\\xbcber minuten gewartet . \\xc3\\xa4rztin aber \\xc3\\xbcberaus freundlich und erfahren auf ihrem fach . somit ein absolutes ok f\\xc3\\xbcr alles andere . auch wirklich sehr nettes team .',\n",
      "       b'hohe fachkompetenz freundliches praxisteam und arzt gute erl\\xc3\\xa4uterung des befundes und der behandlung kurze wartezeit sehr hilfsbereit',\n",
      "       b'sehr lieb , h\\xc3\\xb6rt einen zu und macht sich auch wirklich \\xc3\\xbcber die erkrankung gedanken . zwar lange warten bis man dran ist aber es lohnt sich .',\n",
      "       b'sehr kompetenter arzt , jedes detail wurde ausf\\xc3\\xbchrlich besprochen . op wurde ohne komplikationen durchgef\\xc3\\xbchrt . vielen dank',\n",
      "       b'nach einer aktion mit unserem gro\\xc3\\x9fen hund hatte ich starke schmerzen in der rechten schulter . dr schaal diagnostizierte die ursache sehr zielsicher und kompetent , anriss der bizepssehne inkl verlagerung . das mrt best\\xc3\\xa4tigte dies und eine op stand an . diese wurde von dr schaal sehr gut ausgef\\xc3\\xbchrt , so da\\xc3\\x9f ich nach monaten wieder fast alles machen kann . der sehr gute verlauf wurde vom hausarzt und der physiotherapeutin best\\xc3\\xa4tigt . in der praxis bekomme ich termine so wie es erforderlich ist ohne unn\\xc3\\xb6tige wartezeiten . das team ist immer sehr freundlich . dr schaal bem\\xc3\\xbcht sich , die dinge verst\\xc3\\xa4ndlich zu erkl\\xc3\\xa4ren und geht auf meine fragen ein . ich war rundum zufrieden .',\n",
      "       b'sehr positiv finde ich , dass man als patient ernst genommen wird und ein autarkes handeln erm\\xc3\\xb6glicht wird .',\n",
      "       b'ich bin mit meinem sohn bei frau gregor und uns h\\xc3\\xa4tte nichts besseres passieren k\\xc3\\xb6nnen . sie nimmt sich viel zeit , geht sehr auf meinen sohn ein und k\\xc3\\xbcmmerte sich sogar um mein wohlergehen in unserer schreibabyzeit ! ! frau gregor antwortet auch zuverl\\xc3\\xa4ssig auf mails , und das teilweise zu zeiten , in denen sie eigentlich schon schlafen sollte . fachlich und menschlich einfach top . sorry f\\xc3\\xbcr die schleimerei , aber es musste mal raus . wann ist man mit einem arzt schon mal so zufrieden ?',\n",
      "       b'sehr zufrieden ! ! ! auf jeden fall zu empfehlen ! ! !',\n",
      "       b'ein sehr toller arzt mit sehr viel fachkompetenz . auf einen termin muss man als kassenpatient l\\xc3\\xa4nger warten , jedoch bei notf\\xc3\\xa4llen sehr flexibel . er selbst hat belegbetten im wermelskirchener krankenhaus und operiert auch selbst . nach einer meniskus operation war ich wieder sehr schnell fit . top arzt .',\n",
      "       b'das zahnarzt team buchholz am g\\xc3\\xa4rtnerplatz ist einfach wunderbar ! ich habe hier bereits eine zahnreinigung , kronen eine wurzelbehandlung machen lassen ich war also schon \\xc3\\xb6fters in der praxis . ich habe noch nie erlebt dass man sich bei einem zahnarzt so wohl gut aufgehoben f\\xc3\\xbchlen kann . das ehepaar arbeitet im team . frau buchholz gibt top narkosen , k\\xc3\\xbcmmert sich um alles und ber\\xc3\\xa4t einen herr buchholz bohrt und f\\xc3\\xbcllt und so weiter . es entsteht ein beruhigendes , nettes und meist auch noch lustiges gespr\\xc3\\xa4ch , die beiden sind lebhaft fr\\xc3\\xb6hlich . selbst am telefon wei\\xc3\\x9f fr . buchholz meinen vor ! namen auswendig . als ich mit zahnschmerzen um am vormittag anrief , sa\\xc3\\x9f ich um auf dem stuhl besser gings nicht . das wichtigste ist aber mit sicherheit die behandlung an sich geht irgendwie schneller , besser und schmerzloser als bei jedem zahnarzt , bei dem ich jemals war ich kenne sicherlich verschiedenen zahn\\xc3\\xa4rzte irgendwie haben die beiden einfach den dreh raus , das flotter und moderner zu machen . werde nirgends woanders mehr hin gehen ! ! ! sch\\xc3\\xb6n zu wissen , dass man es als arzt anscheinend auch so toll hinbekommen kann , wie die beiden ! daumen hoch ! !',\n",
      "       b'absolut empathischer aufkl\\xc3\\xa4render arzt .',\n",
      "       b'so w\\xc3\\xbcnscht man sich seinen behandelnden arzt zuh\\xc3\\xb6ren fragen beantworten zeit nehmen f\\xc3\\xbcr den patienten den geplanten eingriff f\\xc3\\xbcr den laien verst\\xc3\\xa4ndlich erkl\\xc3\\xa4ren das gesamte team und nicht zu vergessen der an\\xc3\\xa4sthesist dr. wolf sind sehr engagiert und freundlich . es war mir eine ehre ..... vielen dank , f\\xc3\\xbchlte mich sehr gut aufgehoben .',\n",
      "       b'das ganze team in der praxis ist sehr nett ich wurde gut behandelt . ich komme gerne wieder .',\n",
      "       b'frau dr. noatnick ist eine unglaublich freundliche und gewissenhafte \\xc3\\xa4rztin ! immer ein liebes wort und offenes ohr . die langen wartezeiten , daf\\xc3\\xbcr , dass mann richtig behandelt wird , nehme ich in kauf . eine tolle \\xc3\\xa4rztin , die trotz des patientenirrsinns ihre menschlichkeit nicht verloren hat .',\n",
      "       b'seit fr dr r\\xc3\\xbcggeberg in der poliklinik vom heliosklinikum t\\xc3\\xa4tig ist bin ich patient bei ihr sie machte von anfang an einen sehr professionellen eindruck und \\xc3\\xbcberzeugte durch kompetenz fachwissen und freundlichkeit habe morgen wieder einen termin bei ihr und freue mich schon darauf .',\n",
      "       b'wir sind sehr zufrieden mit doktor gerhards . seine diagnosen lagen immer richtig und man wei\\xc3\\x9f bei ihm , wo man dran ist . kein \\xc3\\xbcbertriebenes get\\xc3\\xbcddel , sondern klare aussagen . das kennen wir auch anders . tolle praxis und eine freundliches team .',\n",
      "       b'erneut super behandlung ! !',\n",
      "       b'herr oblaski ist ein arzt wie man sich einen arzt nur w\\xc3\\xbcnschen kann . gr\\xc3\\xbcndlich . er geht den dingen auf den grund , kl\\xc3\\xa4rt ab und schlie\\xc3\\x9ft aus mit pingeliger sorgfalt umsichtig . er hat den gessamten menschen im blick und ist auch der naturmedizin verpflichtet . das ist zeitaufwenidiger als die medizin , die oft nur symptome bet\\xc3\\xa4ubt und oder medikamentisiert . das ganze team ist sehr freundlich und sehr hilfsbereit . es gibt nur kurze wartezeiten , alles gut organisiert !',\n",
      "       b'mir wurde die diagnose und behandlung sehr gut erkl\\xc3\\xa4rt . alle fragen verst\\xc3\\xa4ndlich erkl\\xc3\\xa4rt . herr dr. ilbarra ist sehr kompetent .',\n",
      "       b'dr kuch ist eine \\xc3\\xa4rztin die ich nur weiter empfehlen kann . ich bin zufrieden dr kuch sehr freundlich und sehr nett .f\\xc3\\xbcr mich eine die besten frauen\\xc3\\xa4rztin .',\n",
      "       b'frau schlieker ist seit jahren meine haus\\xc3\\xa4rztin . sie ist geduldig und h\\xc3\\xb6rt aufmerksam zu , erkennt auf anhieb , was hinter den beschwerden steckt , mit denen man kommt . sie ist kompetent und eine richtig klassische haus\\xc3\\xa4rztin , die noch den k\\xc3\\xb6rper des patienten untersuchen kann , ohne auf \\xc3\\xbcbertriebenes apparateged\\xc3\\xb6ns angewiesen zu sein . manchmal ist sie etwas z\\xc3\\xb6gerlich mit \\xc3\\xbcberweisungen zum facharzt , da muss man gelegentlich mal erkl\\xc3\\xa4ren , warum einem das jetzt so wichtig ist , aber auch da h\\xc3\\xb6rt sie genau zu folgt letztendlich dann dem patientenwunsch . solche \\xc3\\xa4rzte wie frau schlieker gibt es eigentlich gar nicht mehr und ich bin froh , diese praxis gefunden zu haben . weil sie sich schon mal viel zeit nimmt und auch jedesmal eine kleine hintergrundanamnese macht wie l\\xc3\\xa4uft bei der arbeit ? zuhause alles in ordnung ? muss man halt manchmal ziemlich lange warten , vor allem , wenn man ohne termin kommt . am besten was zu lesen mitbringen , die wartezeit ist es wert .',\n",
      "       b'ich besuche die praxis von dr. ulkan seit meiner fr\\xc3\\xbchen jugend . empfand ich den zahnarztbesuch fr\\xc3\\xbcher noch als eher unangenehm , gehe ich mittlerweile , seit ich patientin in der praxis von dr. ulkan bin , sogar gerne zum zahnarzt . ich habe in all den jahren nie l\\xc3\\xa4nger warten m\\xc3\\xbcssen , bin immer freundlich und pers\\xc3\\xb6nlich behandelt worden und hatte immer das gef\\xc3\\xbchl , auf die f\\xc3\\xbcr mich angenehmste art und weise behandelt zu werden . sch\\xc3\\xb6n ist das beinahe famili\\xc3\\xa4re verh\\xc3\\xa4ltnis in der praxis von beginn der behandlung an . ich f\\xc3\\xbchle mich als patientin absolut wohl und gut aufgehoben und w\\xc3\\xbcrde die praxis daher definitiv weiterempfehlen .',\n",
      "       b'kompetenter und netter arzt , sehr zu empfehlen . das praxisteam ebenfalls sehr nett und zuvorkommend . gerne wieder !',\n",
      "       b'ich war bereits bei dr. l\\xc3\\xb6per in der praxcis und bin nach der \\xc3\\xbcbernahme durch dr. runge in der praxis geblieben . w\\xc3\\xa4hrend meiner . schwangerschaft lernte ich dr runge als kompetenten arzt kennen , der dar\\xc3\\xbcber hinaus auch noch nett und sympathisch ist . er hat sich stets ausreichend f\\xc3\\xbcr mich zeit genommen und alle fragen mit mir gekl\\xc3\\xa4rt . dr. runge und sein team kann ich uneingeschr\\xc3\\xa4nkt weiter empfehlen .',\n",
      "       b'herr tomovic ist super professionell und sehr interessiert . ich f\\xc3\\xbchle mich in besten h\\xc3\\xa4nden ! seine beratung war schon perfekt und ausgiebig . das ergebnis in meinem mund ist perfekt und ich f\\xc3\\xbchlte mich zu jeder zeit sicher und sehr wohl . vielen dank ! diese praxis ist sehr empfehlenswert .',\n",
      "       b'ich hatte mich schon lange mit schulterproblemen und schmerzen geplagt , bis der leidensdruck zu gro\\xc3\\x9f wurde . bekam bei herrn dr. kircher schnell einen termin , sehr genaue aufkl\\xc3\\xa4rung . die station\\xc3\\xa4re aufnahme und betreuung , die op selbst und die nachfolgende behandlungen waren nicht so belastend und schmerzhaft wie bef\\xc3\\xbcrchtet . alle im team setzten ihre fachkenntnisse , mit ruhe , freundlichkeit und zugewandtheit ein , so dass ich schnell schmerzfrei wurde und gut vorbereitet nach hause entlassen werden konnte . zu herrn dr. kircher kam ich durch die empfehlung von ehemaligen zufriedenen patienten und meine rehamedizinerin , als \\xc3\\xbcberweisende \\xc3\\xa4rztin , fand meinen wunsch mich dort operieren zu lassen auch als sehr gute wahl . auch die genaue diagnosebeschreibung und der nachbehandlungsplan wurde von den weiterbehandenden \\xc3\\xa4rzten und physiotherapeuten als sehr gut und hilfreich anerkannt .',\n",
      "       b'ich hatte einen meniskusschaden , der operativ behandelt wurde . war alles bestens !',\n",
      "       b'herr dr. rudolph hat meine frau behandel vor jahren in der alten praxis am hauptbahnhof , danach ist die praxisgemeinschaft an den heimeranplatz umgezogen mit ebenso guten anfahrtsm\\xc3\\xb6glichkeiten auto , bus , bahn , bahn alles vorhanden die neue praxis ist sehr sch\\xc3\\xb6n und gefplegt . wichtiger ist aber das schon die op bei meiner frau alle vier weisheitsz\\xc3\\xa4hne im zahnfleisch einwandfrei verlaufen ist und das verh\\xc3\\xa4ltnis zum arzt tadellos war . dies war auch der entscheidungsgrund f\\xc3\\xbcr mich , meine z\\xc3\\xa4hne bei diesem kieferchirurg entfernen zu lassen . auch bei mir gab es keinerlei probleme obwohl einer der z\\xc3\\xa4hne raus gefr\\xc3\\xa4\\xc3\\x9ft werden musste . wichtig zu erw\\xc3\\xa4hnen ist , das bei beiden op mit der sogenannten schlafspritze gearbeitet wurde , diese kostet zwar extra ist es aber vollkommen wert . der patient merkt bestenfalls nichts , oder nur ganz kurze momente und der arzt kann arbeiten . h\\xc3\\xa4tte ich nochmal weisheitsz\\xc3\\xa4hne , ich w\\xc3\\xbcrde diese wieder bei herrn dr. rudoplh entfernen lassen . auch die nachversorgen ist gut , nach hinweisen auf schmerzen im oberen bereich hat der arzt sich auch hier nochmal die zeit genommen und r\\xc3\\xb6ntgenbilder verglichen und die wundstelle begutachtet sowie getestet ob ein durchbruch in die kieferh\\xc3\\xb6hle verhanden ist . abschlie\\xc3\\x9fende bewertung echt top !',\n",
      "       b'wir danken f\\xc3\\xbcr die professionelle betreuung .',\n",
      "       b'ich war vom . . bis ende sept. bei ihm in behandlung . seine medikation geduld und schmerzmittel seine diagnose schulterprellung . keine au , keine physiotherapie , kein rezept f\\xc3\\xbcr ibu , keine erkl\\xc3\\xa4rungen . f\\xc3\\xbcr eine ganzk\\xc3\\xb6rperuntersuchung sei keine zeit sagte er mir bei der erstvorstellung und in bis wochen sei alles wieder gut . eine \\xc3\\xbcberweisung f\\xc3\\xbcr ein mrt der schulter nach drei wochen auf mein dr\\xc3\\xa4ngen hin . dabei wurden der bizepssehnenri\\xc3\\x9f und weitere sehnenzerrungen sichtbar . nach weiterem dr\\xc3\\xa4ngen bekam ich eine \\xc3\\xbcberweisung zum mrt meines fu\\xc3\\x9fes , seine verordnung eines vorfu\\xc3\\x9fentlastungsschuhs danach war lt. orthop\\xc3\\xa4dieschuh machermeister eine fehldiagnose . physiotherapie nach weiterem dr\\xc3\\xa4ngen dann meinerseits ende september erstmals verordnet ! wartezeiten waren immer . einmal hatte ich sogar mit einer anderen pat . die exakt selbe zeit ! wenn man mit ihm reden wollte , mu\\xc3\\x9fte man extra einen termin mit arztgespr\\xc3\\xa4ch vereinbaren . ansonsten war es nur ein abfragen seinerseits , ca . entfernt stehend , kurze antworten erw\\xc3\\xbcnscht und weg war er . ich hatte linksseitig von schulter bis fu\\xc3\\x9f sehr starke schmerzen und bewegungseinschr\\xc3\\xa4nkungen , h\\xc3\\xa4matome im bauchbereich . geduld habe ich wahrhaft lernen m\\xc3\\xbcssen , da ich immer noch schmerzen im linken oberarm habe februar . dieser arzt nie wieder ! , ist in der forschung sicher besser aufgehoben .',\n",
      "       b'diese \\xc3\\xa4rztin hat mich zur verzweiflung gebracht sie h\\xc3\\xb6rt nicht zu oder es interessiert sie nicht sie hat ihre pers\\xc3\\xb6nliche meinung fertig ! diese \\xc3\\xa4rztin nie wieder . arzthelferinnen waren nett .',\n",
      "       b'ein arzt der f\\xc3\\xbcr kinder immer da ist ... super . da gibt esw auch f\\xc3\\xbcr eltern die m\\xc3\\xb6glichkeit zusammen mit den kids sich impfen zu lassen , einfach perfekt .',\n",
      "       b'r\\xc3\\xbcckenschmerzen mit ausstrahlungen ins bein . hausarzt meinte das muss zeitnah orthop\\xc3\\xa4disch abgekl\\xc3\\xa4rt werden . am n\\xc3\\xa4chsten tag bei dr bernardi einen termin bekommen . dezember und das budget ist scheinbar aufgebraucht . er meinte zwar das schon mal ein termin f\\xc3\\xbcr ein mrt ausgemacht werde sollte , stellte aber keine \\xc3\\xbcberweisungen aus . grund sie bekommen sowieso erst in ein paar wochen einen termin . hatte dann aber einen mrt termin am n\\xc3\\xa4chsten tag . bekam aber trotzdem keinen \\xc3\\xbcberweisungsschein !',\n",
      "       b'meine schmerzen haben bis jetzt nach jeder behandlung nachgelassen . ich nehme keine medikamente zu mir , deshalb kann ich die alternativen methoden nur weiter empfehlen .',\n",
      "       b'ich bin schon einige zeit , \\xc3\\xbcber eine empfehlung bei dr. klemm und bin mehr als zufrieden . die praxis ist sehr gut gef\\xc3\\xbchrt , alle sind gut organisiert und freundlich . die praxisausstattung ist meines erachtens auf dem besten stand . die zahnbehandlungen waren allesamt langfristig erfolgreich .',\n",
      "       b'ich habe trotz der negativen bewertungen hier einen schritt zum arzt gewagt . ich muss zugeben , dass ich sehr schnell einen arzttermin bekommen habe . doch die sekret\\xc3\\xa4rinnen haben mich nicht einmal begr\\xc3\\xbc\\xc3\\x9ft , waren sehr unfreundlich , als h\\xc3\\xa4tten sie keine lust auf ihren beruf . der arzt hat mich nur f\\xc3\\xbcr minuten behandelt . er war au\\xc3\\x9ferdem sehr unfreundlich und hat mich durch sein verhalten gekr\\xc3\\xa4nkt .',\n",
      "       b'herr dr. dr. florian janis hat mir schon durch mehrere krisen geholfen . meiner lebensgef\\xc3\\xa4hrtin hat er sogar das leben gerettet ! nach einer \\xc3\\xa4rzteodysse hat herr dr. janis sofort die richtigen untersuchungen durchgef\\xc3\\xbchrt , bzw . veranlasst , den daf\\xc3\\xbcr geeignetsten chirurgen organisiert und stand uns w\\xc3\\xa4hrend dieser schweren zeit immer beratend und organisierend zur seite .',\n",
      "       b'ich empfechle diesen arzt ich bin sehr zufrieden nach der untersuchung .',\n",
      "       b'ich bin seit jahren in kinderwunschbehandlung und frau dr. roth war die einzige \\xc3\\xa4rztin der auffiel dass ich eine cm unterteilung im uterus habe ! ich empfinde sie als eine sehr erfahrende , gewissenhafte \\xc3\\xa4rztin und f\\xc3\\xbchle mich in der praxis allgemein sehr gut aufgehoben . dr. roth hat mein vollstes vertrauen .',\n",
      "       b'kurze pr\\xc3\\xa4zise und verst\\xc3\\xa4ndliche erkl\\xc3\\xa4rung durch dr. garbe , bei gleichbleibender freundlichkeit . schwestern alle top . keinerlei beanstandungen .',\n",
      "       b'was ein netter freundlicher mensch dachte ich mir zu wort kam ich leider allerdings nicht . kurz erkl\\xc3\\xa4rt wo mein schmerz liegt direkt zum r\\xc3\\xb6ntgnen geschickt . danach wurde mir anhand des r\\xc3\\xb6ntgenbildes gesagt was ich habe gesagt was ich verordnet bekomme und auf wiedersehen . aber halt ! ! ! ! ! ! ! ! ! wie geht es weiter ? ? ? ? wie lang dauert es , wann muss es weg sein was passiert wenn es nicht weg geht und , und , und sind ja fragen die jeder wohl so hat . keine chance eine frage zu stellen so schnell habe ich noch nie einen arzt verschwinden sehen . ein freundlicher klaps auf die schulter und alles gute und ich sa\\xc3\\x9f mit offenem mund da bevor ich registrierte , das ich abgefertigt war . habe dann drau\\xc3\\x9fen im flur der arzthelferin meine fragen gestellt und gott sei dank f\\xc3\\xbcr mich kompetente antworten bekomme womit ich was anfangen konnte . war mir zu wenig , f\\xc3\\xbcr mich medizin am fliessband nicht nochmal .',\n",
      "       b'leider hatte ich mir die \\xc3\\xa4rztin ausgesucht , ohne vorher bewertungen zu lesen ausgangspunkt der behandlung war eine routinem\\xc3\\xa4\\xc3\\x9figen hautkrebsvorsorge , die ich nach mehreren jahren erstmals in dieser praxis hatte durchf\\xc3\\xbchren lassen . bisherige vorsorgeuntersuchungen hatten keinerlei grund zur sorge gegeben . im rahmen dieser vorsorge empfahl mir dr. brody , umgehend ein winziges muttermal zu entfernen . daneben nahm sie gewebeproben von stirn und wange und schickte diese zur pathologie ein . nun empfahl sie mir , eine aktinische keratose im gesicht behandeln zu lassen pflasterkleben und anschlie\\xc3\\x9fend extrem aufw\\xc3\\xa4ndige , teure laser lichttherapie . schlie\\xc3\\x9flich , wenige wochen nach abschluss dieser behandlung , meinte sie , ich solle mir umgehend im gesicht ein winziges merkw\\xc3\\xbcrdiges muttermal entfernen lassen . da ich bereits wenige tage sp\\xc3\\xa4ter das muttermal nicht mehr entdecken konnte , sprach ich die \\xc3\\xa4rztin sehr freundlich darauf an . dr. brody reagierte absolut unversch\\xc3\\xa4mt und respektlos was mir denn einfiele , ihre diagnose in frage zu stellen , ich solle mir einen anderen hautarzt suchen . sie verweigerte mir die weitere behandlung und schmiss mich regelrecht aus der praxis . so etwas habe ich noch nie erlebt ! fazit ich habe dr. brody als ausgesprochen profitorientierte und sehr unfreundliche \\xc3\\xa4rztin erlebt . sie empfiehlt sehr teure therapien und vermag es , diese als alternativlos und dringend erforderlich darzustellen . je \\xc3\\xb6fter ich in der praxis war , desto kr\\xc3\\xa4nker kam ich mir vor . r\\xc3\\xbcckblickend , nach einholen einer \\xc3\\xa4rztlichen zweitmeinung , wei\\xc3\\x9f ich , dass ich weder \\xc3\\xbcber alternative therapien aufgekl\\xc3\\xa4rt worden bin , noch die durchgef\\xc3\\xbchrten therapeutischen ma\\xc3\\x9fnahmen basierend auf einem angeblichen pathologischen befund \\xc3\\xbcberhaupt erforderlich gewesen sind . ich bin weiterhin gesund und habe keinen hautkrebs . also besser woanders hingehen , es gibt auch tolle haut\\xc3\\xa4rztinnen !',\n",
      "       b'ganz freundlich und sympathisch ! sehr nett und professionel !',\n",
      "       b'am vorletzten freitagnachmittag bekam ich beim essen pl\\xc3\\xb6tzlich zahnschmerzen . ausl\\xc3\\xb6ser daf\\xc3\\xbcr ein backenzahn , dessen rand gebrochen war und in teilen wackelte . zu allem ungl\\xc3\\xbcck stellte sich , dass mein regul\\xc3\\xa4rer zahnarzt gerade seine praxis f\\xc3\\xbcr eine woche urlaub geschlossen hatte ohne benennung einer vertretung . so musste ich reagieren . ich stellte fest , dass gleich in meiner n\\xc3\\xa4he eine meindentist praxis noch bis uhr ge\\xc3\\xb6ffnet hatte . am empfang willigte man ein , mir mit einer schmerzbehandlung zu helfen . nach ausf\\xc3\\xbcllen einer menge von vordrucken , was mir in meiner situation in der detailliertheit nicht leicht fiel , \\xc3\\xbcbernahm mich eine sehr freundliche praxisangestellte zur behandlungsvorbereitung . fast zeitgleich kam zahn\\xc3\\xa4rztin frau herbel hinzu und erl\\xc3\\xb6ste mich von meinen schmerzen . ich war begeistert vom behandlungsteam . frau herbel stimmte jeden behandlungsschritt mit mir ab und stellte so einen zustand am betroffenen zahn her , auf den nun mein regul\\xc3\\xa4rer zahnarzt aufbauen kann . jede meiner nachfragen wurde durch frau herbel geduldig und freundlich beantwortet . h\\xc3\\xa4tte ich nicht schon langj\\xc3\\xa4hrig einen sehr guten zahnarzt , w\\xc3\\xbcrde ich sofort zu frau herbel und ihrem team wechseln .',\n",
      "       b'meine beiden kinder und ich sind seit mehreren jahren bei herrn tetovski in behandlung und wir k\\xc3\\xb6nnen die praxis absolut empfehlen ! ! ! vom h\\xc3\\xb6rsturz bis hin zur ambulanten op war schon einiges dabei . herr tetovski ist sehr sympathisch und kompetent . er hat sich stets viel zeit genommen und die wartezeiten waren auch immer absolut in ordnung .'],\n",
      "      dtype=object)>}\n",
      "tf.Tensor(\n",
      "[1 1 1 1 1 1 1 1 1 1 1 1 1 1 1 1 1 1 0 1 1 1 1 1 0 1 1 1 1 1 1 1 1 1 1 1 1\n",
      " 1 1 1 1 1 1 1 1 1 1 0 1 1 1 0 1 1 1 1 1 1 1 1 1 1 1 1 1 1 1 1 1 1 1 1 1 1\n",
      " 1 1 1 1 1 1 1 1 1 1 1 1 1 1 1 1 1 1 1 1 1 1 1 1 1 1 1 1 1 1 1 1 1 1 1 1 1\n",
      " 1 0 0 1 0 1 1 0 1 1 1 1 0 0 1 1 1], shape=(128,), dtype=int64)\n"
     ]
    }
   ],
   "source": [
    "for text, labels in dataset_train.take(1):\n",
    "    print(text)\n",
    "    print(labels)"
   ]
  },
  {
   "cell_type": "markdown",
   "metadata": {},
   "source": [
    "Umlaute seem to have strange encoding - let's test first to be sure"
   ]
  },
  {
   "cell_type": "code",
   "execution_count": 20,
   "metadata": {},
   "outputs": [
    {
     "name": "stdout",
     "output_type": "stream",
     "text": [
      "tf.Tensor(b'\\xc3\\xa4rzte f\\xc3\\xbcr \\xf0\\x9f\\x98\\x8a unbekanntes_wort sp\\xc3\\xa4ter', shape=(), dtype=string)\n",
      "tf.Tensor([ 66973 107913      1      1 123240], shape=(5,), dtype=int64)\n"
     ]
    }
   ],
   "source": [
    "tensor = tf.constant(u\"ärzte für 😊 unbekanntes_wort später\")\n",
    "vec = params[\"computed_objects\"][\"vectorize_layer\"]\n",
    "\n",
    "print(tensor)\n",
    "print(vec(tensor))"
   ]
  },
  {
   "cell_type": "markdown",
   "metadata": {},
   "source": [
    "Seems to be able to map the words correctly to meaningfull indices (except unknown words/signs)."
   ]
  },
  {
   "cell_type": "markdown",
   "metadata": {},
   "source": [
    "Some more helper function (overwrite them here in order to make the process clearer)..."
   ]
  },
  {
   "cell_type": "code",
   "execution_count": 21,
   "metadata": {},
   "outputs": [],
   "source": [
    "def get_loss_function(params):\n",
    "    \"\"\"Decides upon the loss function to use based on the provided params\n",
    "\n",
    "    Parameters\n",
    "    ----------\n",
    "    params: dict\n",
    "        The dictionary containing the parameters\n",
    "        \n",
    "    Returns\n",
    "    -------\n",
    "    str\n",
    "        The name of the loss function (or a callable)\n",
    "    \"\"\"\n",
    "        \n",
    "    classification_type = params.get(\"classification_type\", \"binary\")\n",
    "    \n",
    "    if classification_type == \"binary\":\n",
    "        model_loss_function = \"binary_crossentropy\"\n",
    "    elif classification_type == \"multi-class\":\n",
    "        model_loss_function = \"categorical_crossentropy\"\n",
    "    elif classification_type == \"multi-label\":\n",
    "        model_loss_function = \"binary_crossentropy\"\n",
    "    else:\n",
    "        raise TypeError(\"Unknown classification_type \"+classification_type)\n",
    "    \n",
    "    return model_loss_function\n",
    "\n",
    "\n",
    "def get_model_metric(params):\n",
    "    \"\"\"Provides the metric based on the provided params\n",
    "\n",
    "    Parameters\n",
    "    ----------\n",
    "    params: dict\n",
    "        The dictionary containing the parameters\n",
    "        \n",
    "    Returns\n",
    "    -------\n",
    "    list\n",
    "        The list of metrics to use\n",
    "    \"\"\"\n",
    "    \n",
    "    return params.get(\"model_metric\", [\"accuracy\"])\n",
    "\n",
    "\n",
    "def compile_model(params, model):\n",
    "    \"\"\"Compiles the model based on the provided params \n",
    "\n",
    "    Parameters\n",
    "    ----------\n",
    "    params: dict\n",
    "        The dictionary containing the parameters\n",
    "    model: model\n",
    "        The keras model\n",
    "    \"\"\"\n",
    "    \n",
    "    from tensorflow import keras\n",
    "        \n",
    "    optimizer_learning_rate = params.get(\"learning_rate\", 0.01)\n",
    "    optimizer_learning_rate_decay = params.get(\"optimizer_learning_rate_decay\", None)\n",
    "    model_metric = get_model_metric(params)\n",
    "    model_loss_function = get_loss_function(params)\n",
    "\n",
    "    adam = keras.optimizers.Adam(learning_rate=optimizer_learning_rate)\n",
    "    if optimizer_learning_rate_decay is not None:\n",
    "        adam = keras.optimizers.Adam(learning_rate=optimizer_learning_rate, decay=optimizer_learning_rate_decay)\n",
    "\n",
    "    model.compile(loss=model_loss_function, optimizer=adam, metrics=model_metric)\n",
    "    \n",
    "    \n",
    "def re_compile_model(params, model):\n",
    "    \"\"\"Re-compiles the model based on the provided params and the existing optimizer \n",
    "\n",
    "    Parameters\n",
    "    ----------\n",
    "    params: dict\n",
    "        The dictionary containing the parameters\n",
    "    model: model\n",
    "        The keras model\n",
    "    \"\"\"\n",
    "    \n",
    "    from tensorflow import keras\n",
    "    \n",
    "    # use a low learning rate for fine tuning\n",
    "    optimizer_learning_rate = params.get(\"learning_rate\", 1e-5)\n",
    "    model_metric = get_model_metric(params)\n",
    "    model_loss_function = get_loss_function(params)\n",
    "    \n",
    "    # keep existing internal parameters for further runs\n",
    "    optimizer = model.optimizer\n",
    "    optimizer.learning_rate.assign(optimizer_learning_rate)\n",
    "\n",
    "    model.compile(loss=model_loss_function, optimizer=optimizer, metrics=model_metric)\n",
    "\n",
    "\n",
    "def train_model(params, model, dataset_train, dataset_val):\n",
    "    \"\"\"Performs the model training \n",
    "\n",
    "    Parameters\n",
    "    ----------\n",
    "    params: dict\n",
    "        The dictionary containing the parameters\n",
    "    model: model\n",
    "        The keras model\n",
    "    dataset_train: tf Dataset\n",
    "        The dataset for training\n",
    "    dataset_val; tf Dataset\n",
    "        The dataset for validation\n",
    "        \n",
    "    Returns\n",
    "    -------\n",
    "    history\n",
    "        The training history\n",
    "    \"\"\"\n",
    "        \n",
    "    import os\n",
    "    import datetime\n",
    "    from tensorflow import keras\n",
    "\n",
    "    training_epochs = params.get(\"training_epochs\", 5)\n",
    "    training_logdir = params.get(\"training_logdir\", None)\n",
    "    \n",
    "    if training_logdir is None:\n",
    "        training_logdir = os.path.join(\"logs\", datetime.datetime.now().strftime(\"%Y%m%d-%H%M%S\"))\n",
    "    \n",
    "    #tensorboard_callback = keras.callbacks.TensorBoard(training_logdir, histogram_freq=1)\n",
    "\n",
    "    history = model.fit(\n",
    "        dataset_train,\n",
    "        validation_data=dataset_val,\n",
    "        #callbacks=[tensorboard_callback],\n",
    "        epochs=training_epochs)\n",
    "    \n",
    "    return history"
   ]
  },
  {
   "cell_type": "code",
   "execution_count": null,
   "metadata": {},
   "outputs": [],
   "source": []
  },
  {
   "cell_type": "markdown",
   "metadata": {},
   "source": [
    "<font color='red'>**TASK: Improve the CNN model defined in `build_model_cnn` (play with filter size, kernel size, activation function, model design etc...)**</font>"
   ]
  },
  {
   "cell_type": "markdown",
   "metadata": {},
   "source": [
    "You might get inspiration from:\n",
    "- [Conv1D with Global Max Pooling](https://colab.research.google.com/drive/1RvCnR7h0_l4Ekn5vINWToI9TNJdpUZB3#scrollTo=fAnI0YwfvXdG)\n",
    "- [Multichannel CNN Model for Text Classification](https://machinelearningmastery.com/develop-n-gram-multichannel-convolutional-neural-network-sentiment-analysis/)"
   ]
  },
  {
   "cell_type": "code",
   "execution_count": 22,
   "metadata": {},
   "outputs": [],
   "source": [
    "def build_model_cnn_simple(params):\n",
    "    \"\"\"Builds a simple cnn classifier (only partially) based on the provided params \n",
    "\n",
    "    Parameters\n",
    "    ----------\n",
    "    params: dict\n",
    "        The dictionary containing the parameters\n",
    "    \"\"\"\n",
    "        \n",
    "    from tensorflow import keras\n",
    "    \n",
    "    # choose the output activation function based on the classification type\n",
    "    classification_type = params.get(\"classification_type\", \"binary\")\n",
    "    if classification_type == \"binary\":\n",
    "        output_activation = \"sigmoid\"\n",
    "    elif classification_type == \"multi-class\":\n",
    "        output_activation = \"softmax\"\n",
    "    elif classification_type == \"multi-label\":\n",
    "        output_activation = \"sigmoid\"\n",
    "    else:\n",
    "        raise TypeError(\"Unknown classification_type \"+classification_type)\n",
    "    \n",
    "    X_column_name = params.get(\"X_column_name\", \"text_clean\")\n",
    "    computed_objects_column_name = params.get(\"computed_objects_column_name\", \"computed_objects\")\n",
    "    vectorize_layer = params[computed_objects_column_name][\"vectorize_layer\"]\n",
    "    embedding_layer = params[computed_objects_column_name][\"embedding_layer\"]\n",
    "    label_binarizer = params[computed_objects_column_name][\"label_binarizer\"]\n",
    "    output_classes = len(label_binarizer.classes_)\n",
    "    output_classes = output_classes if output_classes > 2 else 1\n",
    "    \n",
    "    \n",
    "    model = keras.Sequential(name=\"cnn\")\n",
    "    # A text input layer\n",
    "    model.add(keras.layers.InputLayer(input_shape=(1,), dtype=tf.string, name=X_column_name))\n",
    "    # The first layer in our model is the vectorization layer. After this layer,\n",
    "    # we have a tensor of shape (batch_size, output_sequence_length) containing vocab indices.\n",
    "    model.add(vectorize_layer)\n",
    "    # Next, we add a layer to map those vocab indices into a space of dimensionality 'embedding_dim'. \n",
    "    model.add(embedding_layer)\n",
    "    \n",
    "    \n",
    "    # build the CNN \n",
    "    cnn_conv_num_filters = 128\n",
    "    cnn_conv_kernel_size = 7\n",
    "    model.add(keras.layers.Conv1D(\n",
    "        cnn_conv_num_filters, \n",
    "        cnn_conv_kernel_size, \n",
    "        activation=\"relu\", \n",
    "        strides=1, \n",
    "        padding=\"valid\", # valid -> no padding, same -> zeros so that output has same dimensions\n",
    "        name=\"conv_1\"))\n",
    "    # add global max pooling\n",
    "    model.add(keras.layers.GlobalMaxPooling1D(name=\"global_max_pool_1\"))\n",
    "\n",
    "    # do not forget Dropout (regularization) for a more sophisticated model\n",
    "    \n",
    "    # add the classification head\n",
    "    model.add(keras.layers.Dense(output_classes, activation=output_activation, name=\"prediction\"))\n",
    "    \n",
    "    return model"
   ]
  },
  {
   "cell_type": "markdown",
   "metadata": {},
   "source": [
    "**Note: The run you see below is from a build_model_cnn(...) model (i.e. your output might look different)!**"
   ]
  },
  {
   "cell_type": "code",
   "execution_count": 23,
   "metadata": {},
   "outputs": [
    {
     "name": "stdout",
     "output_type": "stream",
     "text": [
      "Model: \"cnn\"\n",
      "_________________________________________________________________\n",
      "Layer (type)                 Output Shape              Param #   \n",
      "=================================================================\n",
      "text_vectorization (TextVect (None, None)              0         \n",
      "_________________________________________________________________\n",
      "embedding (Embedding)        (None, None, 300)         56937000  \n",
      "_________________________________________________________________\n",
      "conv_1 (Conv1D)              (None, None, 128)         268928    \n",
      "_________________________________________________________________\n",
      "global_max_pool_1 (GlobalMax (None, 128)               0         \n",
      "_________________________________________________________________\n",
      "prediction (Dense)           (None, 1)                 129       \n",
      "=================================================================\n",
      "Total params: 57,206,057\n",
      "Trainable params: 269,057\n",
      "Non-trainable params: 56,937,000\n",
      "_________________________________________________________________\n"
     ]
    }
   ],
   "source": [
    "model = build_model_cnn(params)\n",
    "model.summary()"
   ]
  },
  {
   "cell_type": "code",
   "execution_count": 24,
   "metadata": {},
   "outputs": [],
   "source": [
    "compile_model(params, model)"
   ]
  },
  {
   "cell_type": "code",
   "execution_count": 25,
   "metadata": {},
   "outputs": [
    {
     "name": "stdout",
     "output_type": "stream",
     "text": [
      "Epoch 1/10\n",
      "1656/1656 [==============================] - 58s 33ms/step - loss: 0.1205 - accuracy: 0.9520 - val_loss: 0.0893 - val_accuracy: 0.9661\n",
      "Epoch 2/10\n",
      "1656/1656 [==============================] - 39s 23ms/step - loss: 0.0803 - accuracy: 0.9691 - val_loss: 0.0888 - val_accuracy: 0.9673\n",
      "Epoch 3/10\n",
      "1656/1656 [==============================] - 39s 23ms/step - loss: 0.0696 - accuracy: 0.9737 - val_loss: 0.0798 - val_accuracy: 0.9706\n",
      "Epoch 4/10\n",
      "1656/1656 [==============================] - 38s 23ms/step - loss: 0.0616 - accuracy: 0.9769 - val_loss: 0.0846 - val_accuracy: 0.9700\n",
      "Epoch 5/10\n",
      "1656/1656 [==============================] - 38s 23ms/step - loss: 0.0560 - accuracy: 0.9788 - val_loss: 0.0835 - val_accuracy: 0.9707\n",
      "Epoch 6/10\n",
      "1656/1656 [==============================] - 39s 23ms/step - loss: 0.0493 - accuracy: 0.9820 - val_loss: 0.0851 - val_accuracy: 0.9709\n",
      "Epoch 7/10\n",
      "1656/1656 [==============================] - 38s 23ms/step - loss: 0.0454 - accuracy: 0.9835 - val_loss: 0.0926 - val_accuracy: 0.9692\n",
      "Epoch 8/10\n",
      "1656/1656 [==============================] - 39s 23ms/step - loss: 0.0406 - accuracy: 0.9850 - val_loss: 0.0906 - val_accuracy: 0.9714\n",
      "Epoch 9/10\n",
      "1656/1656 [==============================] - 38s 23ms/step - loss: 0.0356 - accuracy: 0.9873 - val_loss: 0.0915 - val_accuracy: 0.9720\n",
      "Epoch 10/10\n",
      "1656/1656 [==============================] - 37s 22ms/step - loss: 0.0325 - accuracy: 0.9882 - val_loss: 0.0998 - val_accuracy: 0.9708\n"
     ]
    }
   ],
   "source": [
    "params[\"training_epochs\"] = 10\n",
    "history = train_model(params, model, dataset_train, dataset_val)"
   ]
  },
  {
   "cell_type": "code",
   "execution_count": 26,
   "metadata": {},
   "outputs": [
    {
     "data": {
      "image/png": "[encoded data removed]",
      "text/plain": [
       "<Figure size 432x288 with 1 Axes>"
      ]
     },
     "metadata": {
      "needs_background": "light"
     },
     "output_type": "display_data"
    },
    {
     "data": {
      "image/png": "[encoded data removed]",
      "text/plain": [
       "<Figure size 432x288 with 1 Axes>"
      ]
     },
     "metadata": {
      "needs_background": "light"
     },
     "output_type": "display_data"
    }
   ],
   "source": [
    "plot_history(history)"
   ]
  },
  {
   "cell_type": "markdown",
   "metadata": {},
   "source": [
    "Quite overfitted. Training could stop after ~3 epochs and some regularizations (like dropout) could also make sense.  "
   ]
  },
  {
   "cell_type": "code",
   "execution_count": null,
   "metadata": {},
   "outputs": [],
   "source": []
  },
  {
   "cell_type": "markdown",
   "metadata": {},
   "source": [
    "Let's see if it is possible to further improve the model by unfreezing the embedding layer.\n",
    "\n",
    "Also see https://www.tensorflow.org/guide/keras/transfer_learning"
   ]
  },
  {
   "cell_type": "code",
   "execution_count": 27,
   "metadata": {},
   "outputs": [
    {
     "name": "stdout",
     "output_type": "stream",
     "text": [
      "Model: \"cnn\"\n",
      "_________________________________________________________________\n",
      "Layer (type)                 Output Shape              Param #   \n",
      "=================================================================\n",
      "text_vectorization (TextVect (None, None)              0         \n",
      "_________________________________________________________________\n",
      "embedding (Embedding)        (None, None, 300)         56937000  \n",
      "_________________________________________________________________\n",
      "conv_1 (Conv1D)              (None, None, 128)         268928    \n",
      "_________________________________________________________________\n",
      "global_max_pool_1 (GlobalMax (None, 128)               0         \n",
      "_________________________________________________________________\n",
      "prediction (Dense)           (None, 1)                 129       \n",
      "=================================================================\n",
      "Total params: 57,206,057\n",
      "Trainable params: 57,206,057\n",
      "Non-trainable params: 0\n",
      "_________________________________________________________________\n"
     ]
    }
   ],
   "source": [
    "# Unfreeze all layers (i.e. make embeddings trainable)\n",
    "model.trainable = True\n",
    "model.summary()"
   ]
  },
  {
   "cell_type": "code",
   "execution_count": 28,
   "metadata": {},
   "outputs": [],
   "source": [
    "re_compile_model(params, model)"
   ]
  },
  {
   "cell_type": "code",
   "execution_count": 29,
   "metadata": {},
   "outputs": [
    {
     "name": "stdout",
     "output_type": "stream",
     "text": [
      "Epoch 1/2\n",
      "1656/1656 [==============================] - 716s 432ms/step - loss: 0.0212 - accuracy: 0.9930 - val_loss: 0.0944 - val_accuracy: 0.9734\n",
      "Epoch 2/2\n",
      "1656/1656 [==============================] - 718s 433ms/step - loss: 0.0147 - accuracy: 0.9958 - val_loss: 0.0937 - val_accuracy: 0.9734\n"
     ]
    }
   ],
   "source": [
    "params[\"training_epochs\"] = 2\n",
    "history = train_model(params, model, dataset_train, dataset_val)"
   ]
  },
  {
   "cell_type": "code",
   "execution_count": 31,
   "metadata": {},
   "outputs": [],
   "source": [
    "from fhnw.nlp.utils.ploting import report_classification_results"
   ]
  },
  {
   "cell_type": "markdown",
   "metadata": {},
   "source": [
    "Check performance on all data."
   ]
  },
  {
   "cell_type": "code",
   "execution_count": 32,
   "metadata": {},
   "outputs": [
    {
     "name": "stdout",
     "output_type": "stream",
     "text": [
      "Set Population: 331187\n",
      "Accuracy: 0.9884\n"
     ]
    },
    {
     "data": {
      "image/png": "[encoded data removed]",
      "text/plain": [
       "<Figure size 720x576 with 2 Axes>"
      ]
     },
     "metadata": {
      "needs_background": "light"
     },
     "output_type": "display_data"
    },
    {
     "name": "stdout",
     "output_type": "stream",
     "text": [
      "              precision    recall  f1-score   support\n",
      "\n",
      "    negative       0.95      0.94      0.94     33022\n",
      "    positive       0.99      0.99      0.99    298165\n",
      "\n",
      "    accuracy                           0.99    331187\n",
      "   macro avg       0.97      0.97      0.97    331187\n",
      "weighted avg       0.99      0.99      0.99    331187\n",
      "\n",
      "CPU times: user 1min 55s, sys: 790 ms, total: 1min 55s\n",
      "Wall time: 49.7 s\n"
     ]
    }
   ],
   "source": [
    "%%time\n",
    "\n",
    "report_classification_results(params, data, model)"
   ]
  },
  {
   "cell_type": "markdown",
   "metadata": {},
   "source": [
    "Check performance on test data."
   ]
  },
  {
   "cell_type": "code",
   "execution_count": 33,
   "metadata": {},
   "outputs": [
    {
     "name": "stdout",
     "output_type": "stream",
     "text": [
      "Set Population: 66238\n",
      "Accuracy: 0.9728\n"
     ]
    },
    {
     "data": {
      "image/png": "[encoded data removed]",
      "text/plain": [
       "<Figure size 720x576 with 2 Axes>"
      ]
     },
     "metadata": {
      "needs_background": "light"
     },
     "output_type": "display_data"
    },
    {
     "name": "stdout",
     "output_type": "stream",
     "text": [
      "              precision    recall  f1-score   support\n",
      "\n",
      "    negative       0.88      0.85      0.86      6604\n",
      "    positive       0.98      0.99      0.98     59634\n",
      "\n",
      "    accuracy                           0.97     66238\n",
      "   macro avg       0.93      0.92      0.92     66238\n",
      "weighted avg       0.97      0.97      0.97     66238\n",
      "\n",
      "CPU times: user 20.7 s, sys: 107 ms, total: 20.8 s\n",
      "Wall time: 7.89 s\n"
     ]
    }
   ],
   "source": [
    "%%time\n",
    "\n",
    "report_classification_results(params, data_test, model)"
   ]
  },
  {
   "cell_type": "code",
   "execution_count": null,
   "metadata": {},
   "outputs": [],
   "source": []
  }
 ],
 "metadata": {
  "kernelspec": {
   "display_name": "Python 3",
   "language": "python",
   "name": "python3"
  },
  "language_info": {
   "codemirror_mode": {
    "name": "ipython",
    "version": 3
   },
   "file_extension": ".py",
   "mimetype": "text/x-python",
   "name": "python",
   "nbconvert_exporter": "python",
   "pygments_lexer": "ipython3",
   "version": "3.6.9"
  }
 },
 "nbformat": 4,
 "nbformat_minor": 2
}
