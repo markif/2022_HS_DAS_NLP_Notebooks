{
 "cells": [
  {
   "cell_type": "markdown",
   "metadata": {},
   "source": [
    "<img align=\"right\" width=\"400\" src=\"https://www.fhnw.ch/de/++theme++web16theme/assets/media/img/fachhochschule-nordwestschweiz-fhnw-logo.svg\" alt=\"FHNW Logo\">\n",
    "\n",
    "\n",
    "# RNN Text Classifier\n",
    "\n",
    "by Fabian Märki\n",
    "\n",
    "## Summary\n",
    "The aim of this notebook is to build a RNN text classifier. It utilize pretrained word embeddings in order to take advantage of [transfer learning](https://machinelearningmastery.com/transfer-learning-for-deep-learning) in NLP. Additionally, it sets the stage for hyperparameter tuning and model design optimization.\n",
    "\n",
    "## Links\n",
    "- [Enabling GPU on Google Colab](https://www.tutorialspoint.com/google_colab/google_colab_using_free_gpu.htm)\n",
    "\n",
    "This notebook contains assigments: <font color='red'>Questions are written in red.</font>\n",
    "\n",
    "<a href=\"https://colab.research.google.com/github/markif/2022_HS_DAS_NLP_Notebooks/blob/master/06_a_RNN_Text_Classifier.ipynb\">\n",
    "  <img align=\"left\" src=\"https://colab.research.google.com/assets/colab-badge.svg\" alt=\"Open In Colab\"/>\n",
    "</a>"
   ]
  },
  {
   "cell_type": "code",
   "execution_count": 1,
   "metadata": {},
   "outputs": [],
   "source": [
    "%%capture\n",
    "\n",
    "!pip install 'fhnw-nlp-utils>=0.4.8,<0.5.0'\n",
    "\n",
    "from fhnw.nlp.utils.storage import load_dataframe\n",
    "from fhnw.nlp.utils.storage import download\n",
    "from fhnw.nlp.utils.colab import runs_on_colab\n",
    "\n",
    "import pandas as pd\n",
    "import numpy as np\n",
    "import tensorflow as tf"
   ]
  },
  {
   "cell_type": "code",
   "execution_count": 2,
   "metadata": {},
   "outputs": [
    {
     "name": "stdout",
     "output_type": "stream",
     "text": [
      "OS name: posix\n",
      "Platform name: Linux\n",
      "Platform release: 5.15.0-46-generic\n",
      "Python version: 3.6.9\n",
      "CPU cores: 6\n",
      "RAM: 31.12GB total and 25.41GB available\n",
      "Tensorflow version: 2.5.1\n",
      "GPU is available\n",
      "GPU is a NVIDIA GeForce RTX 2070 with Max-Q Design with 8192MiB\n"
     ]
    }
   ],
   "source": [
    "from fhnw.nlp.utils.system import system_info\n",
    "print(system_info())"
   ]
  },
  {
   "cell_type": "markdown",
   "metadata": {},
   "source": [
    "Download the [cleaned](https://github.com/markif/2022_FS_CAS_NLP_LAB_Notebooks/blob/master/02_a_Text_Cleaning.ipynb) and [preprocessed](https://github.com/markif/2022_FS_CAS_NLP_LAB_Notebooks/blob/master/02_b_Text_Normalization.ipynb) doctor reviews dataset. "
   ]
  },
  {
   "cell_type": "code",
   "execution_count": 3,
   "metadata": {},
   "outputs": [
    {
     "name": "stdout",
     "output_type": "stream",
     "text": [
      "CPU times: user 8.04 s, sys: 1.35 s, total: 9.39 s\n",
      "Wall time: 5.59 s\n"
     ]
    }
   ],
   "source": [
    "%%time\n",
    "download(\"https://drive.google.com/uc?id=19AFeVnOfX8WXU4_3rM7OFoNTWWog_sb_\", \"data/german_doctor_reviews_tokenized.parq\")\n",
    "data = load_dataframe(\"data/german_doctor_reviews_tokenized.parq\")"
   ]
  },
  {
   "cell_type": "markdown",
   "metadata": {},
   "source": [
    "Exclude *neutral* ratings so that the task becomes a binary classification."
   ]
  },
  {
   "cell_type": "code",
   "execution_count": 4,
   "metadata": {},
   "outputs": [
    {
     "data": {
      "text/plain": [
       "(331187, 10)"
      ]
     },
     "execution_count": 4,
     "metadata": {},
     "output_type": "execute_result"
    }
   ],
   "source": [
    "# remove all neutral sentimens\n",
    "data = data.loc[(data[\"label\"] != \"neutral\")]\n",
    "data.shape"
   ]
  },
  {
   "cell_type": "code",
   "execution_count": 5,
   "metadata": {},
   "outputs": [
    {
     "data": {
      "text/html": [
       "<div>\n",
       "<style scoped>\n",
       "    .dataframe tbody tr th:only-of-type {\n",
       "        vertical-align: middle;\n",
       "    }\n",
       "\n",
       "    .dataframe tbody tr th {\n",
       "        vertical-align: top;\n",
       "    }\n",
       "\n",
       "    .dataframe thead th {\n",
       "        text-align: right;\n",
       "    }\n",
       "</style>\n",
       "<table border=\"1\" class=\"dataframe\">\n",
       "  <thead>\n",
       "    <tr style=\"text-align: right;\">\n",
       "      <th></th>\n",
       "      <th>text_original</th>\n",
       "      <th>rating</th>\n",
       "      <th>text</th>\n",
       "      <th>label</th>\n",
       "      <th>sentiment</th>\n",
       "      <th>token_clean</th>\n",
       "      <th>text_clean</th>\n",
       "      <th>token_lemma</th>\n",
       "      <th>token_stem</th>\n",
       "      <th>token_clean_stopwords</th>\n",
       "    </tr>\n",
       "  </thead>\n",
       "  <tbody>\n",
       "    <tr>\n",
       "      <th>0</th>\n",
       "      <td>Ich bin franzose und bin seit ein paar Wochen ...</td>\n",
       "      <td>2.0</td>\n",
       "      <td>Ich bin franzose und bin seit ein paar Wochen ...</td>\n",
       "      <td>positive</td>\n",
       "      <td>1</td>\n",
       "      <td>[ich, bin, franzose, und, bin, seit, ein, paar...</td>\n",
       "      <td>ich bin franzose und bin seit ein paar wochen ...</td>\n",
       "      <td>[franzose, seit, paar, wochen, muenchen, zahn,...</td>\n",
       "      <td>[franzos, seit, paar, woch, muench, ., zahn, s...</td>\n",
       "      <td>[franzose, seit, paar, wochen, muenchen, ., za...</td>\n",
       "    </tr>\n",
       "    <tr>\n",
       "      <th>1</th>\n",
       "      <td>Dieser Arzt ist das unmöglichste was mir in me...</td>\n",
       "      <td>6.0</td>\n",
       "      <td>Dieser Arzt ist das unmöglichste was mir in me...</td>\n",
       "      <td>negative</td>\n",
       "      <td>-1</td>\n",
       "      <td>[dieser, arzt, ist, das, unmöglichste, was, mi...</td>\n",
       "      <td>dieser arzt ist das unmöglichste was mir in me...</td>\n",
       "      <td>[arzt, unmöglichste, leben, je, begegnen, unfr...</td>\n",
       "      <td>[arzt, unmog, leb, je, begegnet, unfreund, ,, ...</td>\n",
       "      <td>[arzt, unmöglichste, leben, je, begegnet, unfr...</td>\n",
       "    </tr>\n",
       "    <tr>\n",
       "      <th>2</th>\n",
       "      <td>Hatte akute Beschwerden am Rücken. Herr Magura...</td>\n",
       "      <td>1.0</td>\n",
       "      <td>Hatte akute Beschwerden am Rücken. Herr Magura...</td>\n",
       "      <td>positive</td>\n",
       "      <td>1</td>\n",
       "      <td>[hatte, akute, beschwerden, am, rücken, ., her...</td>\n",
       "      <td>hatte akute beschwerden am rücken . herr magur...</td>\n",
       "      <td>[akut, beschwerden, rücken, magura, erste, arz...</td>\n",
       "      <td>[akut, beschwerd, ruck, ., magura, erst, arzt,...</td>\n",
       "      <td>[akute, beschwerden, rücken, ., magura, erste,...</td>\n",
       "    </tr>\n",
       "  </tbody>\n",
       "</table>\n",
       "</div>"
      ],
      "text/plain": [
       "                                       text_original  rating  \\\n",
       "0  Ich bin franzose und bin seit ein paar Wochen ...     2.0   \n",
       "1  Dieser Arzt ist das unmöglichste was mir in me...     6.0   \n",
       "2  Hatte akute Beschwerden am Rücken. Herr Magura...     1.0   \n",
       "\n",
       "                                                text     label  sentiment  \\\n",
       "0  Ich bin franzose und bin seit ein paar Wochen ...  positive          1   \n",
       "1  Dieser Arzt ist das unmöglichste was mir in me...  negative         -1   \n",
       "2  Hatte akute Beschwerden am Rücken. Herr Magura...  positive          1   \n",
       "\n",
       "                                         token_clean  \\\n",
       "0  [ich, bin, franzose, und, bin, seit, ein, paar...   \n",
       "1  [dieser, arzt, ist, das, unmöglichste, was, mi...   \n",
       "2  [hatte, akute, beschwerden, am, rücken, ., her...   \n",
       "\n",
       "                                          text_clean  \\\n",
       "0  ich bin franzose und bin seit ein paar wochen ...   \n",
       "1  dieser arzt ist das unmöglichste was mir in me...   \n",
       "2  hatte akute beschwerden am rücken . herr magur...   \n",
       "\n",
       "                                         token_lemma  \\\n",
       "0  [franzose, seit, paar, wochen, muenchen, zahn,...   \n",
       "1  [arzt, unmöglichste, leben, je, begegnen, unfr...   \n",
       "2  [akut, beschwerden, rücken, magura, erste, arz...   \n",
       "\n",
       "                                          token_stem  \\\n",
       "0  [franzos, seit, paar, woch, muench, ., zahn, s...   \n",
       "1  [arzt, unmog, leb, je, begegnet, unfreund, ,, ...   \n",
       "2  [akut, beschwerd, ruck, ., magura, erst, arzt,...   \n",
       "\n",
       "                               token_clean_stopwords  \n",
       "0  [franzose, seit, paar, wochen, muenchen, ., za...  \n",
       "1  [arzt, unmöglichste, leben, je, begegnet, unfr...  \n",
       "2  [akute, beschwerden, rücken, ., magura, erste,...  "
      ]
     },
     "execution_count": 5,
     "metadata": {},
     "output_type": "execute_result"
    }
   ],
   "source": [
    "data.head(3)"
   ]
  },
  {
   "cell_type": "markdown",
   "metadata": {},
   "source": [
    "Import some helper functions..."
   ]
  },
  {
   "cell_type": "code",
   "execution_count": 6,
   "metadata": {},
   "outputs": [],
   "source": [
    "from fhnw.nlp.utils.ploting import plot_history\n",
    "\n",
    "from fhnw.nlp.utils.params import build_model_cnn\n",
    "from fhnw.nlp.utils.params import build_model_rnn\n",
    "from fhnw.nlp.utils.params import compile_model\n",
    "from fhnw.nlp.utils.params import create_label_binarizer_and_set\n",
    "from fhnw.nlp.utils.params import dataframe_to_dataset\n",
    "from fhnw.nlp.utils.params import extract_embedding_layer_and_set\n",
    "from fhnw.nlp.utils.params import extract_text_vectorization_and_set\n",
    "from fhnw.nlp.utils.params import extract_vocabulary_and_set\n",
    "from fhnw.nlp.utils.params import get_train_test_split\n",
    "from fhnw.nlp.utils.params import re_compile_model\n",
    "from fhnw.nlp.utils.params import save_model\n",
    "from fhnw.nlp.utils.params import train_model"
   ]
  },
  {
   "cell_type": "markdown",
   "metadata": {},
   "source": [
    "Setup the *params* dictionary which is used to specify hyperparameters and model design choices (and is also used to store intermediate results).  This sets the stage for a possible hyperparameter tuning and model design optimization (not part of this notebook)."
   ]
  },
  {
   "cell_type": "markdown",
   "metadata": {},
   "source": [
    "<font color='red'>**TASK: You might want to try different *word embeddings* by changing the `embedding_type` parameter (values: *fasttext*, *bytepair*, *word2vec*).**</font>"
   ]
  },
  {
   "cell_type": "code",
   "execution_count": 7,
   "metadata": {},
   "outputs": [],
   "source": [
    "params = {\n",
    "    \"verbose\": True,\n",
    "    \"shuffle\": True,\n",
    "    # modify batch_size in case you experience memory issues\n",
    "    \"batch_size\": 128,\n",
    "    \"X_column_name\": \"text_clean\",\n",
    "    \"y_column_name\": \"label\",\n",
    "    # modify to try different word embeddings\n",
    "    \"embedding_type\": \"fasttext\",\n",
    "    \"embedding_dim\": 300,\n",
    "    \"embedding_trainable\": False,\n",
    "    \"embedding_fasttext_model\": \"cc.de.300.bin\",\n",
    "    \"embedding_word2vec_model_url\": \"https://cloud.devmount.de/d2bc5672c523b086/german.model\",\n",
    "    \"embedding_spacy_model\": \"de_core_news_md\",\n",
    "    \"embedding_tensorflow_hub_url\": \"https://tfhub.dev/google/nnlm-de-dim128-with-normalization/2\",\n",
    "    \"model_type\": \"rnn\",\n",
    "}\n",
    "\n",
    "if runs_on_colab() and params[\"embedding_type\"] == \"fasttext\":\n",
    "    # colab as problems handling such large files\n",
    "    model_name = \"cc.de.50.bin\"\n",
    "    download(\"https://drive.google.com/uc?id=1iqw8UPEEVmzQQGmI5FkRJH8B5SkZCgXG\", model_name)\n",
    "    params[\"embedding_dim\"] = 50\n",
    "    params[\"embedding_fasttext_model\"] = model_name\n",
    "    "
   ]
  },
  {
   "cell_type": "markdown",
   "metadata": {},
   "source": [
    "...extract the vocabulary..."
   ]
  },
  {
   "cell_type": "code",
   "execution_count": 8,
   "metadata": {},
   "outputs": [
    {
     "name": "stdout",
     "output_type": "stream",
     "text": [
      "Inferred classification type: binary\n",
      "Median sequence length: 46\n",
      "Percentil (0.98) cutoff sequence length: 230\n",
      "Max sequence length: 408\n",
      "Used embedding sequence length: 230\n"
     ]
    }
   ],
   "source": [
    "create_label_binarizer_and_set(params, data)\n",
    "extract_vocabulary_and_set(params, data)"
   ]
  },
  {
   "cell_type": "markdown",
   "metadata": {},
   "source": [
    "...build the TextVectorization layer..."
   ]
  },
  {
   "cell_type": "code",
   "execution_count": 9,
   "metadata": {},
   "outputs": [
    {
     "name": "stdout",
     "output_type": "stream",
     "text": [
      "Vocabulary length: 189790\n"
     ]
    }
   ],
   "source": [
    "extract_text_vectorization_and_set(params)"
   ]
  },
  {
   "cell_type": "markdown",
   "metadata": {},
   "source": [
    "...import and load word embeddings..."
   ]
  },
  {
   "cell_type": "code",
   "execution_count": 10,
   "metadata": {},
   "outputs": [
    {
     "name": "stderr",
     "output_type": "stream",
     "text": [
      "Warning : `load_model` does not return WordVectorModel or SupervisedModel any more, but a `FastText` object which is very similar.\n"
     ]
    },
    {
     "name": "stdout",
     "output_type": "stream",
     "text": [
      "Embedding type: fasttext\n",
      "Number of null word embeddings: 9\n",
      "Words not found in total: 9\n",
      "Words without embedding (9/9): ['ìn', '', 'úm', 'öz', 'èn', 'üw', 'öä', 'jé', 'äk']\n",
      "CPU times: user 6.59 s, sys: 4.31 s, total: 10.9 s\n",
      "Wall time: 14.8 s\n"
     ]
    }
   ],
   "source": [
    "%%time\n",
    "\n",
    "extract_embedding_layer_and_set(params)"
   ]
  },
  {
   "cell_type": "markdown",
   "metadata": {},
   "source": [
    "...prepare the training/test/validation data..."
   ]
  },
  {
   "cell_type": "code",
   "execution_count": 11,
   "metadata": {},
   "outputs": [
    {
     "name": "stdout",
     "output_type": "stream",
     "text": [
      "264949 train examples\n",
      "66238 test examples\n",
      "211959 train examples\n",
      "52990 test examples\n"
     ]
    }
   ],
   "source": [
    "data_train, data_test = get_train_test_split(params, data)\n",
    "data_train, data_val = get_train_test_split(params, data_train)\n",
    "\n",
    "dataset_train = dataframe_to_dataset(params, data_train)\n",
    "dataset_test = dataframe_to_dataset(params, data_test)\n",
    "dataset_val = dataframe_to_dataset(params, data_val)"
   ]
  },
  {
   "cell_type": "code",
   "execution_count": 12,
   "metadata": {},
   "outputs": [
    {
     "name": "stdout",
     "output_type": "stream",
     "text": [
      "{'text_clean': <tf.Tensor: shape=(128,), dtype=string, numpy=\n",
      "array([b'meine schmerzen wurden behoben , die f\\xc3\\xbcllungen ersetzt bzw . korrigiert . das ergebnis war sehr gut , farbe und form sehr nat\\xc3\\xbcrlich . hr . butz war bzgl . risiken und kosten stets sehr offen und transparent .',\n",
      "       b'die termine und behandlungen bei dr. schmid sind sachlich , kompetent und freundlich . dies trifft genauso f\\xc3\\xbcr frau dr. habermann zu . das personal ist entgegen manchen bewertungen hier stets freundlich und offen f\\xc3\\xbcr einen joke . kann nicht negatives , egal von welcher seite , berichten . wie hei\\xc3\\x9ft ein sprichwort wie man in den wald ruft',\n",
      "       b'das praxispersonal scheint mit einer sinnvollen terminvergabe \\xc3\\xbcberfordert zu sein . einmal im behandlungszimmer angekommen nimmt sich der arzt viel zeit .',\n",
      "       b'ich gehe schon seit jahren zu frau dr. gr\\xc3\\xb6ber pohl und war immer sehr zufrieden . zu beginn war ich noch privat patientin , nun bin ich gesetzlich versichert , ich kann allerdings keinen behandlungsunterschied feststellen . abgesehen von den leistungen wie ultraschall bsp . die die gesetzliche kasse nun mal routinem\\xc3\\xa4\\xc3\\x9fig nicht \\xc3\\xbcbernimmt . frau dr. gr\\xc3\\xb6ber pohl hat sich immer sehr viel zeit f\\xc3\\xbcr mich genommen und mich zu allen fragen und problemen ausf\\xc3\\xbchrlich beraten . ich fand sie fachlich , aber besonders menschlich extrem kompetent und bedauere zutiefst , mir wegen meines umzugs nun eine neue gyn\\xc3\\xa4kologin suchen zu m\\xc3\\xbcssen . das einzige wirklich bem\\xc3\\xa4ngelbare in der praxis sind f\\xc3\\xbcr mich die langen wartezeiten , zum einen auf einen termin , zum anderen aber besonders mit einem termin . unter stunde wartezeit f\\xc3\\xbcr einen termin , den ich monate vorher vereinbart habe bin ich in den letzten jahren leider auch nie aus der praxis gegangen . daf\\xc3\\xbcr konnte ich jedoch mit akuten beschwerden auch immer noch am gleichen tag kommen .',\n",
      "       b'diese zahn\\xc3\\xa4rztin hat meine zwei z\\xc3\\xa4hne so behandelt , dass drei jahre sp\\xc3\\xa4ter eine wurzelrevision gemacht werden musste . ihre wurzelbehandlung wurde einfach schlecht gemacht , meine neue zahn\\xc3\\xa4rztin hat \\xc3\\xbcber die unf\\xc3\\xa4higkeit von frau mydlowska nicht schlecht gestaunt . drei jahre nach frau mydlowskas behandlung musste ich bei anderer zahn\\xc3\\xa4rztin kr\\xc3\\xa4ftig selbst zahlen , um die von frau mydlowska kaputt gemachten z\\xc3\\xa4hne zu retten . eine schande !',\n",
      "       b'meine familie ist seit jahren bei herrn dr. hofmann in behandlung . wir wurden immer sehr gut behandelt , vom arzt und besonders von den helferinnen . wir k\\xc3\\xb6nnen den arzt und sein personal zu empfehlen .',\n",
      "       b'eine ganz tolle praxis mit netten , kompetenten zahn\\xc3\\xa4rzten und mitarbeiterin eine sch\\xc3\\xb6ne praxis und super parkm\\xc3\\xb6glichkeiten direkt vor der t\\xc3\\xbcr . da nimmt man gerne eine anfahrt von km in kauf !',\n",
      "       b'ich bin mein ganzes leben dort patient und war immer ausnahmslos zufrieden .',\n",
      "       b'ich war zwei mal bei der \\xc3\\xa4rztin . beim ersten mal war es ganz ok. aber beim zweiten mal wirklich sehr unangenehm . die \\xc3\\xa4rztin ist sehr unfreundlich , geht nicht auf patienten ein und ist voreingenommen . keine angemessene diagnose gestellt , stattdessen fadenscheinige erkl\\xc3\\xa4rungen , die nicht zusammen passten . ich kam mir nicht gerade ernst genommen vor und ich hatte ziemliche schmerzen .',\n",
      "       b'dr. g\\xc3\\xbcnter ist ein sympathischer und freundlicher gyn\\xc3\\xa4kologe , sein team und die praxis erstklassig . er nimmt sich viel zeit und man hat immer das gef\\xc3\\xbchl , im mittelpunkt zu stehen . er kennt sich sehr gut aus mit komplizierten fragen zum thema schwangerschaft . in dieser praxis stimmt einfach alles mein kompliment . die letzte negative bewertung kann ich absolut nicht nachvollziehen ! leute \\xc3\\xbcberlegt mal \\xc3\\xa4rzte sind auch nur menschen !',\n",
      "       b'ich habe mich sehr gut aufgehoben gef\\xc3\\xbchlt . sehr \\xc3\\xbcberlegte und vern\\xc3\\xbcnftige behandlung .',\n",
      "       b'dr. schleyer ist nicht nur fachlich extrem kompetent , aber auch eine sehr nette und verst\\xc3\\xa4ndnisvolle frau , die professionell handelt . ausserdem m\\xc3\\xbc\\xc3\\x9fte ich nie lange auf einem termin warten und wurde immer von der \\xc3\\xa4rztin selbst vom warteplatz geholt .',\n",
      "       b'ein engel , ein mensch , eine freundin , gnade in person . und eine sehr gute \\xc3\\xa4rztin und wissenschaftlerin .',\n",
      "       b'was ich direkt von anfang an betonen m\\xc3\\xb6chte und auch schon in der \\xc3\\xbcberschrift geschrieben habe ist der heute nur noch selten anzutreffende fall dass man das gef\\xc3\\xbchl bekommt als kassenpatient sich \\xc3\\xbcber die selbe behandlung genie\\xc3\\x9fen zu d\\xc3\\xbcrfen wie ein privat patient dieser gesamteindruck ist f\\xc3\\xbcr mich wirklich frisch und erfreulich und heut zutage eine echte seltenheit ...',\n",
      "       b'sie soll zur\\xc3\\xbcck kommen noch k\\xc3\\xb6ln',\n",
      "       b'sehr guter zahnarzt , besonders bei angstpatienten geeignet',\n",
      "       b'ich war schon drei mal bei diesem arzt . ich fand ihn ziemlich nett und kompetent . er hat sich immer genug zeit genommen , um mich zu untersuchen , was ich sehr hoch sch\\xc3\\xa4tze . insgesamt hat er die richtige l\\xc3\\xb6sung f\\xc3\\xbcr meine probleme gefunden .',\n",
      "       b'service , empfang ok. ich f\\xc3\\xbchle mich bei diesem arzt gut aufgehoben . er trifft die richtigen endscheidungen , weiterleitung zu anderen fach\\xc3\\xa4rzten . nimmt sich zeit',\n",
      "       b'als junger mann mit schmerzen im f\\xc3\\xbcr den mann sehr empfindlichen bereich , hat man relativ gro\\xc3\\x9fe angst vor einem besuch und dem m\\xc3\\xb6glichen befund eines urologen . doch schon nach den ersten s\\xc3\\xa4tzen wusste ich , dass ich bei diesem arzt gut aufgehoben bin . dr. mark geza radely wirkt sehr kompetent und nimmt sich zeit f\\xc3\\xbcr seine patienten , um ihn die ursachen der schmerzen bestm\\xc3\\xb6glich zu erkl\\xc3\\xa4ren und so vorallem die angst zu nehmen . dies wurde dann auch bei einem ultraschall veranschaulicht und weiter erkl\\xc3\\xa4rt . so eine ausf\\xc3\\xbchrliche behandlung kenne ich als kassen patient eigentlich nicht und das war auch der grund f\\xc3\\xbcr diese bewertung da ich f\\xc3\\xbcr gew\\xc3\\xb6hnlich nichts im internet bewerte . das gespr\\xc3\\xa4ch war sehr , sehr freundlich und meine zahlreichen fragen wurden ausf\\xc3\\xbchrlich und sehr gut beantwortet . bei solch einer vorbildlichen behandlung sollten sich einige andere \\xc3\\xa4rzte eine scheibe abschneiden . noch etwas zur lage der praxis die praxis befindet sich zentral in leverkusen , es stehen ausreichen kostenlose parkpl\\xc3\\xa4tze zur verf\\xc3\\xbcgung . auch die anreise mit der bahn ist sehr gut m\\xc3\\xb6glich , da die praxis umgehend in der n\\xc3\\xa4he der bahn haltestelle leverkusen k\\xc3\\xbcppersteg liegt .',\n",
      "       b'mein arzt hat mich zum orthop\\xc3\\xa4den geschickt , um zu \\xc3\\xbcberpr\\xc3\\xbcfen ob ich einen bandcheibenvorfall habe . ich habe da ein r\\xc3\\xb6ntgen gemacht auf denen herr zuchold nur kurz den blick geworfen hat und sagte dass es kein banscheibenvorfall ist . er wollte mich sofort spritzen lassen ich habe aber die einwilligungserkl\\xc3\\xa4rung an der rezeption nicht unterschrieben . als er das herausgefunden hat war er pl\\xc3\\xb6tzlich w\\xc3\\xbctend und hat mir gesagt dass der arzt kennt sich besser aus als ich und ich kann sowas nicht entscheiden . ich blieb ruhig und habe ihm erkl\\xc3\\xa4rt , dass ich erstmal wissen m\\xc3\\xb6chte was er mir spritzen m\\xc3\\xb6chte , die m\\xc3\\xb6gliche nebenwirkungen und eigentlich meine genaue diagnose ! dann unterschreibe ich es gerne .......... ich meine , genau sowas steht auch in diesem blatt , dass man \\xc3\\xbcber alles informiert wird . dann hat er mir geantwortet dass er f\\xc3\\xbcr sowas keine zeit hat unglaublich ! ! ! ! er hatte aber genug zeit mir sogar mal zu erz\\xc3\\xa4hlen , dass alle entscheidungen soll er hier treffen und nicht ich .. ich war gleich raus aus dem praxis . sorry ich habe aber auch keine zeit f\\xc3\\xbcr solche massenabfertigung und frechheit ! danach habe ich mir einen anderen arzt ausgesuht . diagnose ich hatte protrusionen .',\n",
      "       b'wir sind mit unseren beiden kindern patienten bei fr . dr. kornbrust und von anfang an hoch zufrieden . wir fuehlen uns stets kompetent beraten und die ablaeufe in der praxis sind effizient . trotzdem nimmt man sich zeit und geht liebevoll auf die kinder ein . vorbildlich ... vielen dank !',\n",
      "       b'dieser arzt ist nur ein angeber und bestimmt verantwortlich f\\xc3\\xbcr andere leiden die ich jetzt habe . leider kann man das schlecht nachweisen . aber bei der letzten manipulation machte er erstmal in die falsche richtung und bemerkte den fehler und dann wieder in die richtige richtung . ich hoffe blo\\xc3\\x9f das diese kleine unachtsamkeit keine gro\\xc3\\x9fe folgen hat . es f\\xc3\\xbchlt sich jedefalls an zwei stellen jetzt nicht richtig an . die eine die er versuchen wollte einzurenken und die andere die er versehnlich ausgerenkt hat .',\n",
      "       b'ich f\\xc3\\xbchle mich immer gut beraten , sie nimmt sich viel zeit und es werden einem auch keine medikamente aufgequatscht . es gibt bei kleineren \\xc3\\xbcbeln immer hilfreiche tipps mit einfachen haushaltsmitteln',\n",
      "       b'sehr gut . \\xc3\\xa4rztin erkundet auf sensible weise den gesamtzustand des patienten , er\\xc3\\xb6ffnet m\\xc3\\xb6glichkeiten , die ich bei anderen \\xc3\\xa4rzten vermisst habe , nimmt sich zeit und steckt kurz und mittelfristige ziele fest .',\n",
      "       b'herr dr. volmer ist sehr sympathisch , kompetent und nett . beim ersten arztbesuch hat er es durch seine medikationsverordnung geschafft , dass mein blutdruck gesenkt wurde und ich gleichzeitig fast frei von migr\\xc3\\xa4neanf\\xc3\\xa4llen war , unter denen ich jahrelang gelitten habe .',\n",
      "       b'die diagnose wird immer sehr umfangreich und verst\\xc3\\xa4ndlich besprochen',\n",
      "       b'super betreuung , auch die physio , die direkt in der praxis m\\xc3\\xb6glich ist , wird vom arzt begleitet . super nettes team .',\n",
      "       b'hatte probleme in der schulter . auf grund der undifferenzierten diagnose und des therapievorschlags des ersten orthop\\xc3\\xa4den ruhigstellen , schmerzmittel wollte ich eine zweite meinung einholen . bei dr. freiberger habe ich mich gut aufgehoben gef\\xc3\\xbchlt . er hat die schulter gr\\xc3\\xbcndlich durchgecheckt , konkrete problemzonen ausgemacht und eine zielgerichtete therapie empfohlen .',\n",
      "       b'nach kurzer telefonischer schilderung der symptome wurde sofort ein termin f\\xc3\\xbcr den n\\xc3\\xa4chsten tag vereinbart , und ein umfassendes aufkl\\xc3\\xa4rungsgespr\\xc3\\xa4ch erfolgte . die weitere betreuung op bis zur genesung war hervorragend . ich kann das ganze team nur weiter empfehlen .',\n",
      "       b'habe schnell einen termin bekommen und in der praxis den grund daf\\xc3\\xbcr gefunden hier wird effizient gearbeitet und das ganze mit einer freundlichkeit , die beeindruckt und gute laune macht , auch wenn es einem schlecht geht . dr. feimer war nett , sehr kompetent und ging sachlich super auf meine fragen ein . ambiente und umgangsstil in der praxis vorbildlich und mehr als angenehm !',\n",
      "       b'mir wurden meine weisheitsz\\xc3\\xa4hne gezogen und obwohl ich ein angstpatient bin , kann ich nur sagen , , ich bin begeistert ! der doktor hat sich viel zeit f\\xc3\\xbcr die aufkl\\xc3\\xa4rung genommen und somit auch f\\xc3\\xbcr meine bestehenden \\xc3\\xa4ngste ! ! ! es ist alles super gut gelaufen und ich kann diese praxis nur w\\xc3\\xa4rmstens empfehlen ! ! !',\n",
      "       b'ich kann frau dr. sentker uneingeschr\\xc3\\xa4nkt empfehlen . sie ist sehr einf\\xc3\\xbchlsam , erkl\\xc3\\xa4rt die sachverhalte ausf\\xc3\\xbchrlich und ist ausgesprochen freundlich . auch alternativen heilmethoden gegen\\xc3\\xbcber ist sie offen . bei ihr ist frau gut aufgehoben . die wartezeiten halten sich in grenzen , die praxis ist mit \\xc3\\xb6ffentlichen verkehrsmitteln gut zu erreichen .',\n",
      "       b'das wartezimmer ist immer voll , zugegeben . man muss auch mit termin lange warten . aber es lohnt sich . ich gehe zu keiner anderen \\xc3\\xa4rztin . sie nimmt sich zeit , hat viel verst\\xc3\\xa4ndnis und immer eine l\\xc3\\xb6sung . leider ist sie eben sehr gefragt und leider gibt es sie nur .',\n",
      "       b'alles rundum super . es wird sich in der praxis viel zeit f\\xc3\\xbcr einen genommen , total freundliches team . man f\\xc3\\xbchlt sich nicht als nummer . kann diese praxis nur jeder mutter oder jedem vater weiterempfehlen .',\n",
      "       b'sehr kompetenter und freundlicher spezialist . behandlung zum harndrang hat nach ausf\\xc3\\xbchrlicher anamnese am gleichen tag angefangen zu wirken ! wie erfrischend !',\n",
      "       b'sehr kompetente , freundliche und f\\xc3\\xbcrsorgliche behandlung und beratung . herr dr. barta nimmt zeit f\\xc3\\xbcr seine patienten .',\n",
      "       b'ich habe mir bei herrn dr. fischer meine ohren anlegen lassen . die terminvereinbarung und behandlung verlief stets unkompliziert und z\\xc3\\xbcgig . ich hatte keinerlei komplikationen und bin mit dem ergebnis sehr zufrieden . meine ohren sehen sehr nat\\xc3\\xbcrlich aus und haben sich gut von der op erholt . mir war eine behandlung unter vollnarkose sehr wichtig , mit herrn dr. fischer habe ich den richtigen arzt f\\xc3\\xbcr mich gefunden . ich w\\xc3\\xbcrde ihn definitiv weiterempfehlen .',\n",
      "       b'kurzfristige terminvergabe geringe wartezeit freundliche arzthelferinnen am empfang sehr gepflegte und ordentliche praxisausstattung wasserspender und taschent\\xc3\\xbccher im wartezimmer geh\\xc3\\xb6ren dazu zum doc dr. haffner ist \\xc3\\xa4u\\xc3\\x9fert kompetent . die diagnose konnte er sehr schnell treffen . er nimmt sich zeit und ist freundlich im umgang mit seinen patienten . fazit eine praxis und ein doktor wie es im buche steht . keine m\\xc3\\xa4ngel . stiftung warentest w\\xc3\\xbcrde sicherlich an dieser stelle das pr\\xc3\\xa4dikat empfehlenswert vergeben . ich , f\\xc3\\xbcr meinen teil , tue es .',\n",
      "       b'guter diagnostiker , erkl\\xc3\\xa4rt geduldig und ausf\\xc3\\xbchrlich .',\n",
      "       b'... so muss es sein ! termin online vereinbart , nur kurze wartezeit beim ersten termin aus ohne kollegenbonus ! . kompetent und sehr flexibel was meine bed rfnisse zu reisen und die feiertage ostern angeht . wer will schon krank werden , wenn es meine ohren wieder erwischen sollte , dann gehe ich wieder in diese praxis !',\n",
      "       b'extrem unfreundlich und leider auch sehr unkompetent . ich habe es lange zeit versucht mit ihr klarzukommen aber durch eine dramatische fehldiagnose die schwere foilgen mit sich gezogen hat , werde ich diese praxis nie wieder betreten .',\n",
      "       b'dieser arzt hat sich weder zeit genommen , noch hatte ich das gef\\xc3\\xbchl bei diesem herrn gut aufgehoben zu sein . meine fragen konnte er auch nicht beantworten , sondern hat mich einfach an einen proktologen verwiesen , nachdem er mir auf einem privatrezept teure schmerzz\\xc3\\xa4pfchen verschrieben hatte . die behandlung an meinem after dauerte sekunden , da wurde sich echt nichts angesehen . da hatte man wirklich das gef\\xc3\\xbchl als gesetzlich versicherter biste echt verlassen . nie wieder .',\n",
      "       b'ich habe sehr kurzfristig einen akut termin bekommen juckreiz und ausschlag und wurde sehr nett empfangen . auch die wartezeit war angenehm kurz , trotz des einschiebetermins . die behandlung war zwar auch sehr kurz und knapp , aber die \\xc3\\xa4rztin war sehr freundlich , hatte m\\xc3\\xb6gliche ursachen erfragt und ausgeschlossen . alles in allem , war ich sehr zufrieden , zumal es heutzutage bei dermatologen in m\\xc3\\xbcnchen sowieso sehr schwer ist , einen termin zeitnah zu bekommen !',\n",
      "       b'frau dr. walle betreut mich aktuell w\\xc3\\xa4hrend meiner schwangerschaft und ich bin absolut zufrieden . tats\\xc3\\xa4chlich muss man teilweise etwas l\\xc3\\xa4nger warten , bis man drankommt . aber ich habe jetzt \\xc3\\xb6fter mitbekommen , dass frau dr. walle oft schon eine stunde vor den offiziellen sprechzeiten da ist und die ersten patienten behandelt . sehr viele patientinnen kommen unangek\\xc3\\xbcndigt ohne termin und alle werden behandelt . da ist es kein wunder , wenn es zu wartezeiten kommen kann , andererseits freut man sich selbst ja auch , wenn man ohne termin bei beschwerden nicht weggeschickt wird . dass auch eine \\xc3\\xa4rztin mittags mal etwas essen muss finde ich nur allzu verst\\xc3\\xa4ndlich und kann eine entsprechende kritik hier nicht verstehen ... ansonsten wurde ich bisher immer ernst genommen von ihr , jegliche beschwerden wurden schnell abgekl\\xc3\\xa4rt und erforderliche behandlungen erkl\\xc3\\xa4rt . alle meine fragen werden beantwortet , frau dr. walle hat sich immer die zeit genommen , die ben\\xc3\\xb6tigt wurde . ich f\\xc3\\xbchle mich gut behandelt und gut aufgehoben . auch alle sprechstundenhilfen sind freundlich und auf zack , oft wird man schon mit namen begr\\xc3\\xbc\\xc3\\x9ft . alles in allem kann ich frau dr. walle wirklich weiterempfehlen . manchmal schreit es aber eben auch aus dem wald hinaus , wie es in ihn hineinschreit ... das sollte man bei einigen bewertungen hier vielleicht mal im hinterkopf behalten .',\n",
      "       b'herr assadi moghadam wurde mir von einer freundin empfohlen und ich bin ganz zufrieden vorher war ich immer nur bei frauen und wollte eigentlich nie zum mann aber als ich in die praxis kam und der arzt mich untersuchte war es nicht anders als bei einer frau da er sehr nett und kompetent ist . er nimmt sich zeit f\\xc3\\xbcr fragen und fragt auch selbst wie es einem geht und ob man probleme hat . bis jetzt war ich viermal dort und die ersten zwei male mu\\xc3\\x9fte ich sehr lange warten das fand ich nicht so toll aber die anderen zweimal ging es schneller und ich hoffe es bleibt f\\xc3\\xbcr die zukunft auch so . ansonsten bin ich bis jetzt sehr zufrieden .',\n",
      "       b'ich war wegen einem notfall bei dr. r\\xc3\\xb6mer , ich musste schnell ein formular ausf\\xc3\\xbcllen und kam nach minuten im wartezimmer sofort dran . wurde sehr gut , schnell und hilfreich behandelt . die leute , die mir dort begegnet sind , sind wirklich alle freundlich ! auf alle f\\xc3\\xa4lle sehr empfehlenswert und super anbindung mit der bahn !',\n",
      "       b'meine erwartungen wurden voll erf\\xc3\\xbcllt . bin mit der beratung mehr als zufrieden , danke',\n",
      "       b'ich hatte in der schwangerschaft schmerzhafte wirbelblockaden im lendenbereich und konnte zum schluss kaum noch str\\xc3\\xbcmpfe alleine anziehen . herr wahisi traute sich , mich einzurenken , was wohl nicht jeder orthop\\xc3\\xa4de in der hochschwangerschaft macht . er war dabei sehr freundlich und einf\\xc3\\xbchlsam und erm\\xc3\\xb6glichte mir ein paar sch\\xc3\\xb6ne letzte wochen meiner schwangerschaft . nach der geburt half er mir , die wirbels\\xc3\\xa4ulenprobleme professionell anzugehen . ich bin dankbar und bleibe bei ihm',\n",
      "       b'nach wie vor rundherum zufrieden',\n",
      "       b'man f\\xc3\\xbchlt sich sehr gut versorgt . \\xc3\\xa4rztin und arzthelferin sind sehr kompetent und arbeiten effektiv . ich beurteile hier als gelernter krankenpfleger . solche praxen sind leider selten geworden .',\n",
      "       b'so , wie man sich einen arzt w\\xc3\\xbcnscht . au\\xc3\\x9ferdem habe ich ihn noch nie gestresst erlebt . bestnote',\n",
      "       b'super zufrieden !',\n",
      "       b'in der praxis habe ich mich \\xc3\\xbcberhaupt nicht wohl gef\\xc3\\xbchlt . es fing schon mit dem empfang an , unfreundliche schlecht gelaunte sprechstundenhilfen , die terminvergabe per telefon funtioniert \\xc3\\xbcberhaupt nicht , schmerzen und beschwerden werden nicht ernst genommen . mir gegen\\xc3\\xbcber war dr. tennhardt sehr unsensibel , fragen und \\xc3\\xa4ngste wurden sachlich abgewimmelt , ein fr\\xc3\\xbchabort in der . schwangerschaftswoche total runtergespielt bzw . mit den worten ich k\\xc3\\xb6nne von der schwangerschaft noch gar nichts gemerkt haben und jetzt kommen meine tage einfach sp\\xc3\\xa4ter , einfach \\xc3\\xbcbergangen . ich werde mir auf jeden fall eine neue \\xc3\\xa4rztin suchen .',\n",
      "       b'ich war vor einigen jahren zur untersuchung meiner leberflecke in der praxis . die erfahrung , die ich dort gemacht habe , l\\xc3\\xa4sst mich noch immer nicht los und deshalb muss ich nun doch diese bewertung schreiben . der arzt war zwar freundlich , ich wurde aber absolut nicht aufgekl\\xc3\\xa4rt . seine kleine tochter war w\\xc3\\xa4hrend der behandlung im zimmer ich wurde nicht gefragt , ob das ok ist . anstatt mich dar\\xc3\\xbcber aufzukl\\xc3\\xa4ren , was bei der untersuchung geschieht , wurde ich sofort aufgefordert , mich auszuziehen komplett . ich war darauf nicht vorbereitet und habe mich sehr sehr unwohl gef\\xc3\\xbchlt . zu allem \\xc3\\xbcbel hat er sich dann noch mein muttermal im intimbereich sehr genau angeschaut . f\\xc3\\xbcr leute , die regelm\\xc3\\xa4\\xc3\\x9fig zur untersuchung gehen ist das kein problem sie wissen ja bescheid . aber f\\xc3\\xbcr mein erstes mal h\\xc3\\xa4tte ich mir eine aufkl\\xc3\\xa4rung \\xc3\\xbcber die prozedur gew\\xc3\\xbcnscht , was mit mir passiert , was angeschaut wird usw . nicht gefragt werden und mich dann so zu entbl\\xc3\\xb6\\xc3\\x9fen und vor seinem kind war absolut eine verst\\xc3\\xb6rende erfahrung . w\\xc3\\xa4re ich jetzt nochmal in der situation , h\\xc3\\xa4tte ich anders gehandelt und h\\xc3\\xa4tte f\\xc3\\xbcr mich eingestanden . schade , dass man das anscheinend bei einigen \\xc3\\xa4rzten tun muss , da sie nicht an einem vertrauensvollen umgang interessiert sind .',\n",
      "       b'hallo , unsere kinder jahre alt sind bei dr. claus in behandlung , da sie immer wieder die ohren entz\\xc3\\xbcndet haben bzw . die mandeln zu gro\\xc3\\x9f sind aufgrund von erk\\xc3\\xa4ltungen etc . andere \\xc3\\xa4rzte haben zu operativen eingriffen geraten , aber dieser arzt hat aufgrund seiner gro\\xc3\\x9fen erfahrung und menschlichkeit andere , vern\\xc3\\xbcnftigere l\\xc3\\xb6sungen angeboten , die letzenendlich besser waren . mein mann und ich sind ebenso in der praxis . ich hoffe , dass dr. claus noch lange seiner t\\xc3\\xa4tigkeit nachgeht , denn er ist verglichen zu anderen hnos in leverkusen , der beste !',\n",
      "       b'seit ich bei dr. frank sch\\xc3\\xa4fer in behandlung bin , bleiben mir alptraumhafte erfahrungen erspart , wie ich sie vorher in anderen praxen machen musste . man bekommt hier schnell einen termin und muss nie lange im wartezimmer herumsitzen . ich wurde von herrn sch\\xc3\\xa4fer bisher immer freundlich und kompetent beraten und behandelt . schon am empfang wird man stets mit einem l\\xc3\\xa4cheln empfangen , die r\\xc3\\xa4umlichkeiten sind hell , sauber und ansprechend gestaltet .',\n",
      "       b'ich bin schon seit jahren bei frau dr. gr\\xc3\\xb6ger , werde mich jetzt aber auch nach einer neuen \\xc3\\xa4rztin umsehen . der letzte besuch bei ihr hat mir den rest gegeben . nicht nur das sie immer sehr unterk\\xc3\\xbchlt wirkt und kaum mit einem spricht , sie ist einfach nur unsensibel . mir ist es leider nach der geburt meiner tochter passiert , dass ich wieder schwanger war ohne es zu wollen . ich lie\\xc3\\x9f mich von ihr beraten zu einem abbruch . beim n\\xc3\\xa4chsten termin vor dem geplanten abbruch stellte sich raus das der f\\xc3\\xb6tus schon abgestorben war und nun entfernt werden muss ... nach der ausschabung bekam ich dann nur zu h\\xc3\\xb6ren ... nehmen sie mal lieber die pille und wenn sie das immer noch wollen dann nehmen sie fols\\xc3\\xa4ure tabletten , da sie anders ja nicht richtig verh\\xc3\\xbcten k\\xc3\\xb6nnen . und abnehmen sollten sie auch mal . ihr bmi ist viel zu hoch ... ich bekam ein rezept f\\xc3\\xbcr die fols\\xc3\\xa4ure und das wars . eine frechheit mit patienten so umzugehen .',\n",
      "       b'f\\xc3\\xbcr diabetes . da ich schon in m\\xc3\\xbcnchen bei einem diabetologen war und mit diesem m\\xc3\\xbcnchner arzt die erfahrung machte , dass ich ein schreiben unterzeichnen sollte , dass an institutionen meine daten weitergeleitet werden d\\xc3\\xbcrfen , ich mich jedoch weigerte diese vorlage zu unterschreiben , ging ich mit skepsis nun zu dr. h\\xc3\\xa4u\\xc3\\x9fler in berlin . ich wurde angenehm \\xc3\\xbcberrascht ! die arzthelferinnen ! ! in der praxis von dr. h\\xc3\\xa4u\\xc3\\x9fler sind alle freundlich und hilfsbereit . es wurde mir von den arzthelferinnen sehr gut erkl\\xc3\\xa4rt , was sich alles im leben mit diabetes \\xc3\\xa4ndert . geduld und freundlichkeit ist hier die priorit\\xc3\\xa4t der damen . bisher bin ich bei dr. h\\xc3\\xa4u\\xc3\\x9fler innerhalb von wochen zur behandlung gewesen und werde auch weiterhin mich von ihm und seinem team behandeln lassen . f\\xc3\\xbcr gehbehinderte ist es ein wenig schwierig die praxis zu erreichen . zwar ist ein fahrstuhl vorhanden , jedoch m\\xc3\\xbcssen immer mindestens stufen bew\\xc3\\xa4ltigt werden , um zur praxis zu gelangen .',\n",
      "       b'super team artzt h\\xc3\\xb6rt einen zu und nimmt sich zeit die arzthelferin am telefon sehr nett hat mich sofort ernst genommen und nicht stundenlang belehrt gibt ja viele die das gerne machen sehr zufrieden bin ich dank an das team',\n",
      "       b'ich war wegen einer schwellung meines kleinen fingers da . wartezeit war sehr kurz . der arzt kam rein , schaute sekunden auf meinen finger , bewegte ihn kurz und lehnte sich dann mit verschr\\xc3\\xa4nkten armen an die fensterbank ujnd \\xc3\\xa4u\\xc3\\x9ferte seine diagnose . ich bin nach minuten da raus und f\\xc3\\xbchlte mich nicht gut behandelt . das komplette auftreten und die erl\\xc3\\xa4rung des arztes gefiel mir \\xc3\\xbcberhaupt nicht und ich bin mit einem repzept ibu da raus ..... ich werde diesen arzt auf keinen fall mehr aufsuchen . sehr positiv waren die super netten arzthelferinnen .',\n",
      "       b'ich bin durch eine kollegin , deren schwangerschaft sie begleitet hat , zu frau dr. eschler gekommen , war bisher drei mal in ihrer praxis und bin sehr zufrieden mit allem .frau dr. eschler hat sich meiner probleme angenommen und sie auch zu meiner gr\\xc3\\xb6\\xc3\\x9ften zufriedenheit gel\\xc3\\xb6st . auch ihr team ist immer sehr herzlich und hilfsbereit . ich werde weiterhin eine treue patientin bleiben , denn ich f\\xc3\\xbchle mich dort sehr gut aufgehoben .',\n",
      "       b'absolut schlechte behandlung . nicht empfehlenswert !',\n",
      "       b'ich habe mich hier sehr gut beraten gef\\xc3\\xbchlt und auch die invisalign behandlung verlief sehr gut . termine waren auch kurzfristig m\\xc3\\xb6glich und auch der kostenvoranschlag war realistisch , bzw . wurde es sogar ein wenig g\\xc3\\xbcnstiger . ich bin sehr zufrieden mit dem ergebnis und kann sowohl die praxis als auch die invisalign behandlung jedem empfehlen der mit seinen z\\xc3\\xa4hnen nicht zufrieden ist . daumen hoch !',\n",
      "       b'ich habe vor \\xc3\\xbcber zwei monaten eine dysgnathie op gehabt , die von dr. tobias wilck durchgef\\xc3\\xbchrt wurde . vor ungef\\xc3\\xa4hr jahren hat mich mein zahnarzt auf mein fehlbiss aufmerksam gemacht . so wurde ich sp\\xc3\\xa4ter von meinem kieferorthop\\xc3\\xa4den zu herrn dr. wilck weitergeleitet , der mich dann \\xc3\\xbcber die behandlung sehr gut aufgekl\\xc3\\xa4rt hat und mir den prozess erl\\xc3\\xa4utert hat , denn die z\\xc3\\xa4hne und der kiefer m\\xc3\\xbcssen nat\\xc3\\xbcrlich auf so eine operation vorbereitet werden . ich habe mich f\\xc3\\xbcr die operation entschieden und somit konnte meine behandlung beginnen . von anfang an habe ich mich in der praxis sehr wohl gef\\xc3\\xbchlt , denn dr. tobias wilck und sein team setzen einen gro\\xc3\\x9fen wert auf die individuelle betreuung und beratung , wodurch man sich sehr gut aufgekl\\xc3\\xa4rt f\\xc3\\xbchlt . monate vor meiner operation mussten mir drei weisheitsz\\xc3\\xa4hne entfernt werden und die habe ich auch in der praxis rausziehen lassen . das geschah v\\xc3\\xb6llig schmerzlos und verheilte sehr schnell . ende november war es dann soweit mit meiner kieferoperation , ich habe sehr gro\\xc3\\x9fe angst gehabt , dass mein nerv gesch\\xc3\\xa4digt wird oder generell etwas nicht so verl\\xc3\\xa4uft , wie es geplant war . allerdings habe ich eine bewusste entscheidung getroffen und ich bin an die sache immer sehr positiv rangegangen , da ich wusste , dass sich der ganze prozess lohnt und ich davon in der zukunft profitieren werde . jetzt ist es wochen her seit dem eingriff und meiner meinung nach ist es eine der besten entscheidungen , die ich im leben getroffen habe ! ich habe keinerlei taubheitsgef\\xc3\\xbchle im kieferbereich , kann mittlerweile alles essen und die schwellung ist so gut wie weg . aber der wichtigste aspekt f\\xc3\\xbcr mich ich hatte schon immer kopfschmerzen gehabt , und wusste nicht woher sie kommen . seit dem eingriff sind diese ganz verschwunden ! ich w\\xc3\\xbcrde diese operation wirklich jeden empfehlen , denn sie hat mein leben ver\\xc3\\xa4ndert ! ich h\\xc3\\xa4tte nicht besser landen k\\xc3\\xb6nnen als bei herrn dr. wilck , der wirklich ein kompetenter und professioneller kieferchirurg ist !',\n",
      "       b'die praxis vom herrn reder ist wahrlich eine wohlf\\xc3\\xbchloase , wo stets wert auf qualit\\xc3\\xa4t und freundlichkeit gelegt wird . wartezeiten sind kurz , die hygiene in der praxis weist keinerlei negative auff\\xc3\\xa4lligkeiten . bis man beim doktor ankommt , wird man vom freundlichen praxisteam sehr gut betreut . ich hatte nun die ehre , jahrelang , patient und gast von herrn dr. reder und seinem team zu sein und in dieser zeit habe ich nicht einmal eine unannehmlichkeit versp\\xc3\\xbcrt , sondern wurde immer mit einem l\\xc3\\xa4cheln nach hause geschickt .',\n",
      "       b'gehe seit mittlerweile jahren zu herrn assadi moghadam und bin sehr zufrieden . er ist immer freundlich und nimmt sich zeit f\\xc3\\xbcr mich. als ich einmal dringend ein testergebnis brauchte , haben sie extra f\\xc3\\xbcr mich im labor angerufen , obwohl sie eigentlich schon zu hatten . in den jahren gab es leider ab und an auch mal die ein oder andere nicht so freundliche helferin , aber ich komme aus der dienstleistung und weiss selbst , wie schwer es ist , gute leute zu finden . im gro\\xc3\\x9fen und ganzen sind aber alle , die dort l\\xc3\\xa4nger arbeiten sehr nett .',\n",
      "       b'ich bin bei einigen \\xc3\\xa4rzten f\\xc3\\xbcr mein knie gewesen . mit herrn dr. kreutz habe ich einen absoluten spezialisten gefunden . nach der ersten untersuchung stand fest das ich f\\xc3\\xbcr eine knieprothese zu jung bin und dr. kreutz empfahl mir eine umstellungsosteotonomie . die operation verlief absolut problemlos und auch die vor und nachbehandlung ist top . ich f\\xc3\\xbchle mich in der praxis super aufgehoben . danke an herrn dr. kreutz und das gesamte praxis team .',\n",
      "       b'ich kann mich den bewertungen anschliessen . trotz terminvergabe ist mit wartezeiten von mehr als stunden zu rechnen . frau g\\xc3\\xbcnes und ihr team sind desorientiert und wirken unkompetent . frau g\\xc3\\xbcnes hat eine seltsame auffassung von aufkl\\xc3\\xa4rung \\xc3\\xbcber die krankheit oder blutbild . diagnostik ist anscheinend ein fremdwort f\\xc3\\xbcr sie . schade ...',\n",
      "       b'herrn dr. michael sebert ist super arzt',\n",
      "       b'ich kann diese \\xc3\\xa4rztin nicht weiter empfehlen . sie ist unfreundlich und nimmt sich nicht die zeit . habe auch keine aufkl\\xc3\\xa4rung oder diagnose bekommen . das ist sehr schwer ein rezept f\\xc3\\xbcr medikamenten bekommen . bevor sie eine impfung pikt , untersucht sie das kind nicht ! ich habe die falsche information \\xc3\\xbcber die behandlungen gekriegt die krankenkasse \\xc3\\xbcbernimmt sind .',\n",
      "       b'ich bin von der praxis und dem behandelnden arzt und mitarbeitern sehr begeistert . ich wurde in stunden komplett durchgecheckt , hatte keine langen wartezeiten und wurde rundherum freundlich , einf\\xc3\\xbchlsam und kompetent betreut , vielen dank !',\n",
      "       b'gehe schon seit jahren wie meine gesamte familie zu dr hanke und sind immer h\\xc3\\xb6chst zufrieden ! er nimmt sich zeit um auf jedes wehwehchen explizit einzugehen ! einfach empfehlenswert !',\n",
      "       b'fr . dr. bauer h\\xc3\\xb6nicke nimmt sich sehr viel zeit und geht den ursachen auf den grund . ich leide seit jahren unter hautproblemen im gesicht und war deswegen bereits bei einigen dermatologen . bisher wurden mir immer nur cortisonsalben verschrieben und das wars . fr . dr. bauer h\\xc3\\xb6nicke ist die erste dermatologin , die sich wirklich zeit genommen hat und nach den ursachen forscht . mittlerweile hat sich meine haut komplett beruhigt . ich bin wirklich froh diese \\xc3\\xa4rztin gefunden zu haben und kann sie nur weiterempfehlen .',\n",
      "       b'top orthop\\xc3\\xa4de , beste ausstattung , richtige diagnose , schnelle therapie un in k\\xc3\\xbcrzester zeit wieder arbeits und sportf\\xc3\\xa4hig bestens ! ich kann die negativen kommentare bzgl . termine etc . \\xc3\\xbcberhaupt nicht nachvollziehen . ich bin auch kassenpatient und dr. mahn behandelt mich bestens . was kann er denn f\\xc3\\xbcr den andrang ? er arbeitet unglaublich viel , of l\\xc3\\xa4sst er seine mittagspause zugunsten von akutpatienten sausen und dann beschweren sich die leute im internet ? wir k\\xc3\\xb6nnen doch froh sein , dass dr. mahn nicht nur privatpatienten behandelt ! und der hinweis die tolle praxis will ja auch bezahlt sein . was ein bl\\xc3\\xb6dsinn ! ! ! dr. mahn und auch alle anderen \\xc3\\xa4rzte k\\xc3\\xb6nnen doch nichts daf\\xc3\\xbcr , da\\xc3\\x9f modernste therapien von den krankenkassen nicht \\xc3\\xbcbernommen werden . entweder reicht mir standard oder ich zahle halt wenn n\\xc3\\xb6tig was dazu , ganz einfach ... ? ? ? ?',\n",
      "       b'sehr unfreundlich . beginnen erst min bevor sprechstunde beginnt dann wird sortiert ob man termin hat oder nicht . schwestern wollen problem gleich wissen begucken einen von oben bis unten sehr viel geht durcheinander ! dort besteht dringend verbesserungsbedarf bzw . komplett neues system . das dort ist ziemlich veraltet . jedoch \\xc3\\xa4rzte sehr nett und kompetent , jedoch das restliche team versaut den ganzen eindruck',\n",
      "       b'die behandlung werden sehr vorsichtig durchgef\\xc3\\xbchrt man wird gut versorgt .',\n",
      "       b'dr. plath ist ein sehr h\\xc3\\xb6flicher , kompetenter facharzt . ich habe mich in der . schwangerschaft wieder von ihm betreuen lassen , da ich in der . schwangerschaft schon sehr zufrieden war und mich gut aufgehoben und betreut f\\xc3\\xbchlte . er geht auf die patientin ein , erkl\\xc3\\xa4rt sehr viel w\\xc3\\xa4hrend der untersuchung und auch so , dass man alles versteht .',\n",
      "       b'toller arzt bin sehr zufrieden ultraschall bilder top und man bekommt noch bilder . wartezeit ist zwar lang aber macht nix die behandlung ist sehr gut',\n",
      "       b'ich bin und war jahre wegen meiner angst nicht mehr beim zahnarzt . bin dann durch empfehlungen auf herr dr christoph meyer hamme gesto\\xc3\\x9fen und kann nur gutes berichten . meine z\\xc3\\xa4hne mussten komplett saniert werden und haben uns daher auf eine vollnarkose entschieden da ich auch extreme w\\xc3\\xbcrge reiz habe . endlich war der tag gekommen wo ich endlich mein neues l\\xc3\\xa4cheln bekommen sollte , was ich auch wirklich bekam dachte mir schade das ich nicht jahre zuvor ihn kennen gelernt habe .',\n",
      "       b'ich habe mir im september von frau dr. john die nase operieren lassen kosmetisch und begradigung nasenscheidewand . ich kann sie sowohl fachlich als auch menschlich empfehlen ! ! tolle sehr gute \\xc3\\xa4rztin ! das ergebnis ist super sch\\xc3\\xb6n geworden und die schmerzen sind vergessen ...',\n",
      "       b'herr orth ist ein sehr netter kompetenter arzt . er ist besonders gr\\xc3\\xbcndlich und kl\\xc3\\xa4rt wirklich jede vermutung ab . die wartezeit ist sehr gering . trotz der tatsache , dass sich herr orth bei der besprechung sehr viel zeit l\\xc3\\xa4sst . ich kann ihn nur empfehlen .',\n",
      "       b'sehr freundlich und kompetent , nimmt sich viel zeit , erkl\\xc3\\xa4rt sehr gut . kaum wartezeit in der praxis . arzthelferinnen auch top !',\n",
      "       b'seit jahren zur vorsorge bei frau dr schramm , immer sehr kompetente untersuchung .',\n",
      "       b'frau dr. j\\xc3\\xa4ger hat mich damals bei drohender fg behandelt und f\\xc3\\xbcr den rest der ss krankgeschrieben . so hat sie meiner tochter das leben erm\\xc3\\xb6glicht . nun jahre sp\\xc3\\xa4ter ist dieses m\\xc3\\xa4dchen selbstverst\\xc3\\xa4ndlich ihre patientin geworden , das lag mir am herzen . ich wurde auch bei anderen gesundheitlichen problemen so einf\\xc3\\xbchlsam und kompetent beraten , dass sich mein leben definitiv verbessert hat . ich verdanke ihr einfach viel .',\n",
      "       b'ich bin sehr zufrieden mit der behandlung bei frau dr. adelssen , untersuchung kurz und knapp , auf meine fragen und anliegen wird immer eingegangen . lediglich die telefonische erreichbarkeit ist nicht so optimal .',\n",
      "       b'hat immer die richtige l\\xc3\\xb6sung f\\xc3\\xbcr meine beschwerden bringt viel verst\\xc3\\xa4ndnis auf .',\n",
      "       b'nach jahren mit einer fructosemalabsorption bin ich durch einen freund auf dr. wiesbrock muno aufmerksam geworden . nach nur einer behandlung war ich geheilt ! f\\xc3\\xbcr mich pers\\xc3\\xb6nlich ein wunder ! mein mann ist daraufhin mit seinem heuschnupfen bei ihm gewesen und hatte tats\\xc3\\xa4chlich im vergangenen jahr keinerlei beschwerden mehr . man muss allerding sehr lange auf einen termin warte . es hat sich f\\xc3\\xbcr uns gelohnt !',\n",
      "       b'nils homann und sein team , sind sehr freundlich , zuvorkommend und kometent . sie reden deutsch und man versteht was mit einem los ist . kein lareinisches geschwafel . herr dr. homann mach weiter so . das w\\xc3\\xbcnscht sich das smoerrebroe',\n",
      "       b'wir haben feb. und ich wollte einen termin f\\xc3\\xbcr die untersuchung jugenduntersuchung .lebensjahr .ich solle mich doch bitte anfang wieder melden da alle vorsorgetermine die nur zwischen april und september gemacht werden , schon alle f\\xc3\\xbcr dieses jahr vergeben w\\xc3\\xa4ren sie geben auch noch nichts f\\xc3\\xbcr an terminen raus das geht gar nicht ! ich bin sehr entt\\xc3\\xa4uscht und wenn ich mich recht entsinne , wurde ich auch schon genauso vertr\\xc3\\xb6stet . bis lang waren wir mit dr. tonn eigendlich zufrieden von geburt an sind wir schon beim vorg\\xc3\\xa4nger in diese praxis gegangen es war da zwar alles ein bischen altert\\xc3\\xbcmlich , aber wir haben uns da ganz gut aufgehoben gef\\xc3\\xbchlt . aber diese sache mit den terminen mu\\xc3\\x9f sich \\xc3\\xa4ndern .',\n",
      "       b'in erster linie ist mir beim facharzt die kompetenz wichtig , welche dr. franz definitiv besitzt und auch immer gerne alles genau erl\\xc3\\xa4utert . anzumerken ist auch , dass er sich immer gzt zeit f\\xc3\\xbcr mich genommen hat , egal wie voll das wartezimmer oder wie gestresst due arzthelferin wg zeitmangel war .',\n",
      "       b'ich war heute zum ersten mal in der praxis . der empfang war sehr freundlich und herzlich . das gesamte team ist absolut kompetent . die \\xc3\\xa4rztin ist super genau und nimmt sich sehr viel zeit f\\xc3\\xbcr ihre patienten , h\\xc3\\xb6rt einem zu und ist sehr freundlich .',\n",
      "       b'dr. b\\xc3\\xb6nke ist ein absolut ruhiger , aber sehr freundlicher arzt . er hat sofort erkannt , was mit mir ist , obwohl mein vorheriger hausarzt mich monatelang wegschickte ohne eine diagnose . in der praxis werden keine m\\xc3\\xbchen gescheut um patienten schnell wieder fit zu machen .',\n",
      "       b'ich habe mich in den h\\xc3\\xa4nden von dr. joneleit und seinem team sehr wohl gef\\xc3\\xbchlt',\n",
      "       b'ich wurde kompetent behandelt , auch ohne termin . \\xc3\\xa4rztin und team sehr freundlich . gerne wieder .',\n",
      "       b'das praxispersonal ist ausnehmend freundlich und immer gut gelaunt . man wird an impftermine und vorsorgeuntersuchungen erinnert . bin rundum zufrieden',\n",
      "       b'ich war sehr zufrieden . danke danke',\n",
      "       b'ich werde immer gut und freundlich beraten .. f\\xc3\\xbchle mich in guten h\\xc3\\xa4nden !',\n",
      "       b'die wartezeiten sind im vergleich zu anderen praxis ziemlich l\\xc3\\xa4nger .. dazu kann auch manchmal einer mangel guter organization seine rollle spielen . obwohl eine gewisse kompetenz gegeben ist , sind oft behandlungen bevorzugt die nicht von der krankenkasse bedeckt sind . daher kann es ziemlich teuer werden ..',\n",
      "       b'dr. sohst brennenstuhl ist unsere \\xc3\\xa4rztin sie behandelt den patienten und seine familie . mit gesundem menschenverstand und dem herzem am rechten fleck , hilft sie , ber\\xc3\\xa4t und gibt ideen . sie verliert nicht die geduld und auch , wenn es hektisch und stre\\xc3\\x9fig zugeht , h\\xc3\\xb6rt sie einem zu ! sie sieht nicht nur den patienten sondern auch sein umfeld familie , beruf etc . und greift auch selber zum h\\xc3\\xb6rer , wenn nachfragen bei befunden , krankenkasse oder anderen \\xc3\\xa4rzten n\\xc3\\xb6tig sind . wir sind sehr froh , dass wir frau dr. sohst brennenstuhl haben !',\n",
      "       b'das erste mal beim dem arzt ungerecht gewesen und sehr gut behandelt worden .',\n",
      "       b'die \\xc3\\xa4rztin ist sehr kompetent und die arzthelferin hat ein super organisationstalent ich f\\xc3\\xbchle mich sehr gut aufgehoben',\n",
      "       b'als \\xc3\\xbcberzeugter schulmediziner kenne ich au\\xc3\\x9fer den sehr guten erfolgen auch die grenzen der westlichen medizin . vor allem bei l\\xc3\\xa4nger anhaltenden beschwerden , bei denen keine ernste organische grunderkrankung zu finden ist , habe ich schon fr\\xc3\\xbcher hilfe durch die tcm erfahren . vor jahr wurde durch eine urologin festgestellt , dass beschwerden , die ich hatte , durch eine blasenentleerungsst\\xc3\\xb6rung verursacht w\\xc3\\xbcrde , die die nieren gef\\xc3\\xa4hrden k\\xc3\\xb6nne , eine spezifische schulmedizinische therapie gebe es nicht . daraufhin habe ich frau sch\\xc3\\xbcmchen aufgesucht , die mich nach sehr genauer untersuchung sowohl nach medizinischen als auch tcm prinzipien mit akupunktur und kr\\xc3\\xa4utermedizin behandelt hat . monate sp\\xc3\\xa4ter ergab eine urologische kontrolluntersuchung , dass die restharnmenge abgenommen hat , beschwerden habe ich keine mehr gehabt . ich f\\xc3\\xbchle mich in der praxis von frau sch\\xc3\\xbcmchen und ihrer therapie einer praxisorientierten , modernen mit fundierter anwendung der uralten chinesischen medizin hervorragend aufgehoben . ihr umfassendes schulmedizinisches wissen gibt mir das gute gef\\xc3\\xbchl in den genuss der vorteile beider systeme zu kommen . ich verstehe es nicht , nehme es aber dankbar zur kenntnis , dass eine ganzheitliche , nicht nur auf symptome konzentrierte behandlung , auch andere effekte hat mir wachsen wieder haare auf meiner glatze , was frau sch\\xc3\\xbcmchen l\\xc3\\xa4chelnd und ohne \\xc3\\xbcberraschung bemerkte . und mein m\\xc3\\xa4\\xc3\\x9figes , sehr l\\xc3\\xa4stiges restless legs syndrom ist deutlich besser geworden ! vielen dank , frau sch\\xc3\\xbcmchen !',\n",
      "       b'dr. szardien ist ein sehr netter arzt , bei dem man sich sehr gut aufgehoben f\\xc3\\xbchlt .',\n",
      "       b'ich war bereits viermal in dieser praxis , meist wegen einem grippalen infekt . die praxis \\xc3\\xbcberzeugt durch gute parkm\\xc3\\xb6glichkeiten , kurze wartezeiten auch ohne termin und eine entspannte arzt patienten beziehung . immer gerne wieder !',\n",
      "       b'nicht nur herr dr. woller , auch sein praxisteam ist nett und man f\\xc3\\xbchlt sich gut aufgehoben . die behandlung ist sehr professionell . herausragend war f\\xc3\\xbcr mich , dass er einen tag nach einer op anruft um zu fragen , wie es einem geht .',\n",
      "       b'hatte immer angst vor der zahnbehandlung , wird wohl auch nie ganz weg sein , aber dr. gillert und sein team haben mich gut im griff .also wenn schon zahnarzt , dann dr. gillert und team ! danke daf\\xc3\\xbcr',\n",
      "       b'einf\\xc3\\xbchlsam , erkl\\xc3\\xa4rend und mit empathie arbeitend , sodass man fast vergisst , beim zahnarzt zu sein .',\n",
      "       b'moderne praxis , sehr freundliches praxisteam , gut organisiert , . so gut wie keine wartezeit in der praxis , gute aufkl\\xc3\\xa4rung sehr kompetenter gesamteindruck . meine \\xc3\\xa4ngste vor der magenspiegelung hat man mir wirklich sehr freundlich genommen .',\n",
      "       b'als ich vor tagen wegen sehr starken schmerzen mich vorstellte wurde ich weg geschickt und es hies ich k\\xc3\\xb6nne tage sp\\xc3\\xa4ter um uhr kommen . als ich heute vor dem arzt stand wurde mir im vornherein gesagt es dauert nicht lange und der arzt ging auf ein fr\\xc3\\xbcheres mrt ein . obwohl ich dem dr. sagte dass ich aufgrund der schmerzen weder sitzen , liegen kann hiess es das man auf einem alten mrt nichts sehen k\\xc3\\xb6nne was auch \\xc3\\xbcber die schulter war . und da es nichts zum operieren kann er mir nicht helfe',\n",
      "       b'frau henselmann nimmt sich immer sehr viel zeit f\\xc3\\xbcr ein gespr\\xc3\\xa4ch und ihre untersuchungen . wenn sie nicht gewesen w\\xc3\\xa4re , h\\xc3\\xa4tte ich vielleicht heute nicht die m\\xc3\\xb6glichkeit wieder ganz gesund zu werden . diese \\xc3\\xa4rztin ist wirklich nur zu empfehlen . auch wenn man des \\xc3\\xb6fteren lange warten muss . lieber ist mir allerdings eine \\xc3\\xa4rztin , bei der ich wei\\xc3\\x9f man ist nicht nur kassenpatient und wird in minuten abgefertigt . hier ist man noch mensch .',\n",
      "       b'wir sind mit unseren beiden kinder bei dr. beddies und sind sehr zufrieden er nimmt sich immer die notwendige zeit , ist toll mit kindern und was mir wichtig ist , verschreibt nur antibiotika und grunds\\xc3\\xa4tzlich medikamente wenn es wirklich notwendig ist . die praxis ist tats\\xc3\\xa4chlich schwer telefonisch zu erreichen . die wartezeit ist immer sehr lang vorort . ist aber weil sie so toll sind und alle dort hinwollen . das team gibt wirklich ihr bestes um alle zufrieden zu kriegen , aber ist oft \\xc3\\xbcberfordet',\n",
      "       b'auch wenn ich anscheinend zu einer ung\\xc3\\xbcnstigen zeit in der praxis eingetroffen bin . uhr bestellt rechtfertigt das in meinen augen keine unfreundliche und in keinster weise ausf\\xc3\\xbchrliche beratung , welche mir dann auch noch in rechnung gestellt wurde da ich auch noch ein angstpatient bin wurde ich sehr entt\\xc3\\xa4uscht von der angeblich einf\\xc3\\xbchlsamen und freundlichen behandlung . leider fand auch \\xc3\\xbcberhaupt keine beratung und therapieempfehlung statt und ich verlie\\xc3\\x9f zu tiefst entt\\xc3\\xa4uscht die praxis ! das ist f\\xc3\\xbcr mich abzocke pur und ich bin gespannt , ob diese bewertung ver\\xc3\\xb6ffentlicht wird .',\n",
      "       b'nach ziemlich genau stunden wartezeit nahm sich herr distelmaier lediglich minuten zeit , um sich mit meinem anliegen zu besch\\xc3\\xa4ftigen . er behandelte mich wie ein kind und schien meinen anmerkungen leider keinerlei beachtung zu schenken oder nahm diese einfach nicht ernst . anzumerken ist hierbei , dass er sichtlich sehr gestresst und eventuell an diesem tag \\xc3\\xbcberfordert war . ich bekam sehr schnell eine salbe verschrieben . nach t\\xc3\\xa4glicher anwendung der salbe f\\xc3\\xbcr nun einen monat kann ich keinerlei positive ver\\xc3\\xa4nderung festellen , ganz im gegenteil . die salbe scheint meine haut stark zu beanspruchen und auszutrocknen . in der region um den mund l\\xc3\\xb6st sich diese ab . sehr unangenehm und nicht sch\\xc3\\xb6n anzusehen ! ich habe nach den positiven berichten von familien und freunden bzgl . herrn dr. petrow praxis deutlich mehr erwartet . und all das in einer privatpraxis .',\n",
      "       b'ich bin schon lange patient in der praxis und werde immer hervorragend betreut und medizinisch versorgt . die neuen praxisr\\xc3\\xa4ume sind super ! auch die parkm\\xc3\\xb6glichkeiten sind besser als in der alten praxis , es gibt tiefgaragen unter dem walter benjamin platz und gen\\xc3\\xbcgend parkpl\\xc3\\xa4tze auf dem olivaer platz .',\n",
      "       b'ich kann die negativen bewertungen hier nicht nachvollziehen . vermutlich trifft hier die alte weisheit wieder zu , dass nur die unzufriedenen meckern , die zufriedenen hingegen schweigen . ich habe frau dr. bangha als sachliche und kompetente \\xc3\\xa4rztin kennengelernt und habe an der behandlung nichts auszusetzen . es wird sachlich informiert und die dinge klar benannt sei es nun eine kassen oder eine igel leistung . ich musste nie lange auf termine warten , sowohl f\\xc3\\xbcr mich f\\xc3\\xbcr als auch f\\xc3\\xbcr meine familie . frau dr. bangha benennt die dinge beim namen und ist dabei sehr konkret und genau das erwarte ich von einem arzt . rumgeeiere braucht keiner !',\n",
      "       b'auch wenn man in dieser praxis immer mit viel wartezeit rechnen muss , zu dieser frau und \\xc3\\xa4rztin habe ich vertrauen ! sie kennt das leben und ber\\xc3\\xa4t zum wohle des patienten . und nicht nur zum wohle des eigenen geldbeutels ...',\n",
      "       b'die praxis ist sehr sch\\xc3\\xb6n gestaltet , die helferinnen sind freundlich und zuvorkommend . frau canisius hat sich sehr viel zeit f\\xc3\\xbcr meine belange genommen und sich aufgrund meiner migr\\xc3\\xa4ne auch in andere medizinische bereiche eingelesen . daher konnte sie mich sehr gut beraten und mit mir die besten behandlungen f\\xc3\\xbcr meine hormonellbedingte migr\\xc3\\xa4ne vorstellen . normalerweise bin ich nicht schnell zu begeistern , aber hier wird sehr einf\\xc3\\xbchlsam auf die belange der patienten eingegangen und individuelle l\\xc3\\xb6sungen pr\\xc3\\xa4sentiert . einzig sollte man sich fr\\xc3\\xbchzeitig um termine k\\xc3\\xbcmmern .',\n",
      "       b'gute medizinische betreuung , dr. rauch h\\xc3\\xb6rt gut zu , ist immer f\\xc3\\xbcr die patienten da , auch sehr kurzfristig',\n",
      "       b'ich bin schon seit jahren bei frau dr. hasert und egal , ob akne , ausschlag oder besenrei\\xc3\\x9fer , frau dr. hasert nimmt sich immer zeit , ist einf\\xc3\\xbchlsam und hat mir bisher immer helfen k\\xc3\\xb6nnen . ich bin sehr froh , dass sie mir von einer freundin empfohlen wurde . abgesehen von ihrer fachlichen kompetenz ist sie menschlich einfach toll sie kennt meinen namen , sie fragt nach \\xc3\\xa4lteren wehwehchen und empfahl mir ihren mann f\\xc3\\xbcr eine neuere behandlungsmethode , die in ihrer praxis nicht angeboten wurde . und tats\\xc3\\xa4chlich war die behandlung bei dr. raoul hasert wirkungsvoll .',\n",
      "       b'leider habe ich pers\\xc3\\xb6nlich keine guten erfahrungen mit frau b\\xc3\\xbcchau gemacht ... und auch nicht mit dem restlichen praxisteam . selbst bei problemen , bekommt man erst in ein paar wochen einen termin und so etwas kann nicht angehen ...',\n",
      "       b'trotz termin habe ich \\xc3\\xbcber min gewartet . mein optiker hatte mir vorab gesagt dass ich durch meine kontaktlinsen rote adern in den augen habe durch zu geringe sauerstoffversorgung . das kann wohl sehr gef\\xc3\\xa4hrlich werden . die \\xc3\\xa4rztin tat das als nichtig ab auch nach mehrmaligem nachfragen sagte sie mir nicht ob es eine gefahr f\\xc3\\xbcr meine augen darstellt oder nicht . sie wollte mir nur bei einer kollegin ihrer praxis einen termin zur neuanpassung von kontaktlinsen geben . eine hand w\\xc3\\xa4scht die andere ... alles in allem nicht empfehlenswert unfreundliche sprechstundenhilfe , eine \\xc3\\xa4rztin die nichts erkl\\xc3\\xa4rt und nicht auf die sorgen des patienten eingeht . ich bin genauso schlau wie vorher und werde jetzt noch zu einem anderen arzt gehen .',\n",
      "       b'diese \\xc3\\xa4rztin hat mich wie einer aus behandelt . es war ihr egal was meine belangen angingen und die hand wollte sie einem auch nicht geben . sehr unpers\\xc3\\xb6nlich und distanziert .',\n",
      "       b'alles gut sehr gute betreuung und super service verst\\xc3\\xa4ndnis und verst\\xc3\\xa4ndliche erkl\\xc3\\xa4rung \\xc3\\xbcber erforderliche ma\\xc3\\x9fnahmen',\n",
      "       b'schon beim betreten der praxis merkte ich , dass dies keine gew\\xc3\\xb6hnliche zahnarztpraxis ist . es riecht nicht nach arzt oder medizin und die r\\xc3\\xa4umlichkeiten sind sehr geschmackvoll eingerichtet . ich wurde sehr freundlich empfangen und musste nur ganz kurz im wartezimmer platz nehmen , bis ich auch schon ins behandlungszimmer gef\\xc3\\xbchrt wurde . ich war freudig \\xc3\\xbcberrascht , denn bei anderen \\xc3\\xa4rzten bin ich l\\xc3\\xa4ngere wartezeiten gewohnt . das terminmananegment scheint gut organisiert zu sein . auch insgesamt wirken die mitarbeiterinnen von dr. todorovic sehr kompetent und funktionieren gut als team . die entspannte kollegiale atmosph\\xc3\\xa4re \\xc3\\xbcbertr\\xc3\\xa4gt sich auch auf die patienten , so dass ich stressfrei und vor allem angstfrei behandelt werden konnte . dr. todorovic ging sehr auf mich ein und nahm meine beschwerden ernst . seine ruhige und menschliche art schaffte ein besonderes vertrauensverh\\xc3\\xa4ltnis . was mir besonders gut gefiel war , dass er ein konzept hatte und dieses auch verst\\xc3\\xa4ndlich erkl\\xc3\\xa4ren konnte . er erkl\\xc3\\xa4rte mir jeden schritt , sodass ich w\\xc3\\xa4hrend der behandlung nachvollziehen und verstehen konnte was er tat . er hat mir auch mehrere z\\xc3\\xa4hne in meinem mund mit einer kleinen mund kamera gezeigt . ich habe noch nie eine so gute bet\\xc3\\xa4ubungsspritze bekommen . davor hatte ich besonders angst . schmerz scheint in der praxis dr. todorovic kein thema zu sein . ich hatte w\\xc3\\xa4hrend der gesamten behandlung keine schmerzen . endlich kann ich auch wieder kauen . denn als prothetikspezialist , hat er mir eine wundersch\\xc3\\xb6ne br\\xc3\\xbccke gemacht , die sofort passte und auch gut mit meinen anderen z\\xc3\\xa4hnen harmonierte . vielen dank ! ! ich werde nun auch meinen mann \\xc3\\xbcberzeugen diesen besonderen arzt und sein team aufzusuchen . ich freue mich jetzt schon auf meinen n\\xc3\\xa4chsten besuch bei ihnen .',\n",
      "       b'also eigentlich sind wir seit jahren patient bei fr schessler . meine tochter hat es zwar nicht gemocht zum arzt zu gehen aber anfangs gings wir waren letztens da nach std waren wir endlich drin weil sie ihre landsleute russen zuerst reingenommen hat obwohl die nach uns dran waren . erstens ist die \\xc3\\xa4rztin sehr sehr arrogant und sehr unfreundlich zu meiner tochter jahre gewesen . wenn es um beruhigen des kindes geht ist sie leider das faktor warum mein kind geweint hat . also im endeffekt ist die \\xc3\\xa4rztin nicht zu empfehlen ich werde mich auch bei aok \\xc3\\xbcber sie beschwerden und mir einen anderen kinderarzt suchen ! es ist echt schade dass sie so drauf ist als ob sie die beste im land ist und wir alle anderen ahnungslose die nicht deutsch sprechen k\\xc3\\xb6nnen .',\n",
      "       b'trotz einer sehr vollen praxis an einem donnerstagmorgen um uhr war frau dr. radke sehr freundlich und nahm sich die zeit mich genau zu untersuchen und mir die diagnose zu erkl\\xc3\\xa4ren . auch der umgang mit ihren arzthelferinnen war sehr angenehm , ich hab gemerkt dass in der praxis ein gutes klima herrscht und gute teamwork stattfindet . ich bin froh , mich f\\xc3\\xbcr frau dr. radke als meine dermatologin entschieden zu haben und f\\xc3\\xbchle mich sehr gut aufgehoben und behandelt dort . kann sie sehr weiterempfehlen , und finde auch die l\\xc3\\xa4ngeren wartezeiten v\\xc3\\xb6llig legitim bei so grossem betrieb . dass dennoch alle freundlich , ruhig und konzentriert bleiben , ist dabei umso lobenswerter . vielen dank daf\\xc3\\xbcr !',\n",
      "       b'ich kam mit gro\\xc3\\x9fen \\xc3\\xa4ngsten und einer viel zu langen untersuchungs pause zu meiner neuen zahn\\xc3\\xa4rztin frau dr. klingebiel . nie zuvor begegnete mir eine zahn\\xc3\\xa4rztin mit so viel empathie und verst\\xc3\\xa4ndnis f\\xc3\\xbcr meine \\xc3\\xa4ngste , welche sie mir bereits bei der ersten untersuchung nahm . mittlerweile habe ich auch meine ersten behandlungen hinter mir . frau dr. klingebiel erkl\\xc3\\xa4rt stets was sie macht , warum sie es macht und erkundigt sich nebenbei noch ob es mir gut geht . die behandlungen waren immer schmerzfrei und meine angst vor dem zahnarzt ist \\xc3\\xbcberwunden . durch frau dr. klingebiels absolute kompetenz , die freundlichen assistentinnen und die tolle praxis , habe ich mittlerweile richtig spa\\xc3\\x9f daran f\\xc3\\xbcr meine zahngesundheit den gang zum zahnarzt anzutreten . kurz frau dr. klingebiel ist die zahn\\xc3\\xa4rztin die man sich w\\xc3\\xbcnscht !',\n",
      "       b'hatte anfang januar . . einen termin f\\xc3\\xbcr den . . bekommen , da ich ein problem mit meinem fu\\xc3\\x9f habe . an diesem tag war ich minuten vor dem termin in der praxis und musste dennoch ca . stunde warten , um f\\xc3\\xbcr minuten mit aus und anziehen der schuhe und str\\xc3\\xbcmpfe bei einem auf der durchfahrt wirkenden arzt mein problem zu schildern . f\\xc3\\xbcr die weiterf\\xc3\\xbchrende behandlung notwendige r\\xc3\\xb6ntgenaufnahmen die unbedingt in dieser praxis gemacht werden bekam ich einen termin ende april . die frage nach einem fr\\xc3\\xbcheren termin wurde mit bestimmtheit verneint . habe mir einen anderen arzt gesucht und gefunden .'],\n",
      "      dtype=object)>}\n",
      "tf.Tensor(\n",
      "[1 1 1 1 0 1 1 1 0 1 1 1 1 1 1 1 1 1 1 0 1 0 1 1 1 1 1 1 1 1 1 1 1 1 1 1 1\n",
      " 1 1 1 0 0 1 1 1 1 1 1 1 1 1 1 0 0 1 1 0 1 1 0 1 0 1 1 1 1 1 0 1 0 1 1 1 1\n",
      " 0 1 1 1 1 1 1 1 1 1 1 1 1 1 1 1 1 1 1 1 1 1 1 1 1 1 1 1 1 1 1 1 1 1 0 1 1\n",
      " 0 0 1 1 1 1 1 1 0 0 0 1 1 0 1 1 0], shape=(128,), dtype=int64)\n"
     ]
    }
   ],
   "source": [
    "for text, labels in dataset_train.take(1):\n",
    "    print(text)\n",
    "    print(labels)"
   ]
  },
  {
   "cell_type": "code",
   "execution_count": null,
   "metadata": {},
   "outputs": [],
   "source": []
  },
  {
   "cell_type": "markdown",
   "metadata": {},
   "source": [
    "<font color='red'>**TASK: Improve the RNN model defined in `build_model_rnn` (play with rnn_units, activation function, rnn type ([RNN](https://keras.io/api/layers/recurrent_layers/simple_rnn/), [LSTM](https://keras.io/api/layers/recurrent_layers/lstm/), [GRU](https://keras.io/api/layers/recurrent_layers/gru/)), model design ([Bidirectional](https://keras.io/api/layers/recurrent_layers/bidirectional/), [Multi-Layer RNN](https://wandb.ai/lavanyashukla/visualize-models/reports/How-to-stack-multiple-LSTMs-in-keras---VmlldzoxOTg2MTY) ) etc...)**</font>"
   ]
  },
  {
   "cell_type": "markdown",
   "metadata": {},
   "source": [
    "You might get inspiration from:\n",
    "- [Working with RNNs](https://keras.io/guides/working_with_rnns/)\n",
    "- [Develop a Bidirectional LSTM For Sequence Classification](https://machinelearningmastery.com/develop-bidirectional-lstm-sequence-classification-python-keras/)"
   ]
  },
  {
   "cell_type": "code",
   "execution_count": 13,
   "metadata": {},
   "outputs": [],
   "source": [
    "def build_model_rnn(params):\n",
    "    \"\"\"Builds a rnn classifier (only partially) based on the provided params \n",
    "\n",
    "    Parameters\n",
    "    ----------\n",
    "    params: dict\n",
    "        The dictionary containing the parameters\n",
    "    \"\"\"\n",
    "    \n",
    "    from tensorflow import keras\n",
    "    \n",
    "    # choose the output activation function based on the classification type\n",
    "    classification_type = params.get(\"classification_type\", \"binary\")\n",
    "    if classification_type == \"binary\":\n",
    "        output_activation = \"sigmoid\"\n",
    "    elif classification_type == \"multi-class\":\n",
    "        output_activation = \"softmax\"\n",
    "    elif classification_type == \"multi-label\":\n",
    "        output_activation = \"sigmoid\"\n",
    "    else:\n",
    "        raise TypeError(\"Unknown classification_type \"+classification_type)\n",
    "    \n",
    "    X_column_name = params.get(\"X_column_name\", \"text_clean\")\n",
    "    computed_objects_column_name = params.get(\"computed_objects_column_name\", \"computed_objects\")\n",
    "    vectorize_layer = params[computed_objects_column_name][\"vectorize_layer\"]\n",
    "    embedding_layer = params[computed_objects_column_name][\"embedding_layer\"]\n",
    "    label_binarizer = params[computed_objects_column_name][\"label_binarizer\"]\n",
    "    output_classes = len(label_binarizer.classes_)\n",
    "    output_classes = output_classes if output_classes > 2 else 1\n",
    "    \n",
    "    \n",
    "    model = keras.Sequential(name=\"rnn\")\n",
    "    # A text input layer\n",
    "    model.add(keras.layers.InputLayer(input_shape=(1,), dtype=tf.string, name=X_column_name))\n",
    "    # The first layer in our model is the vectorization layer. After this layer,\n",
    "    # we have a tensor of shape (batch_size, output_sequence_length) containing vocab indices.\n",
    "    model.add(vectorize_layer)\n",
    "    # Next, we add a layer to map those vocab indices into a space of dimensionality 'embedding_dim'. \n",
    "    model.add(embedding_layer)\n",
    "    \n",
    "    # build the RNN\n",
    "    rnn_units = 32\n",
    "    model.add(keras.layers.Bidirectional(\n",
    "        # dropout (regularization) could make sense here\n",
    "        keras.layers.LSTM(\n",
    "            rnn_units, \n",
    "            return_sequences=True # needed since we do a GlobalMaxPool1D\n",
    "        )\n",
    "    ))\n",
    "    # add global max pooling\n",
    "    model.add(keras.layers.GlobalMaxPool1D(name=\"global_max_pool\"))\n",
    "    \n",
    "    # do not forget Dropout (regularization) for a more sophisticated model\n",
    "    \n",
    "    # add the classification head\n",
    "    model.add(keras.layers.Dense(output_classes, activation=output_activation, name=\"prediction\"))\n",
    "    \n",
    "    return model"
   ]
  },
  {
   "cell_type": "markdown",
   "metadata": {},
   "source": [
    "**Note: The run you see below is from a build_model_rnn(...) model (i.e. your output might look different)!**"
   ]
  },
  {
   "cell_type": "code",
   "execution_count": 14,
   "metadata": {},
   "outputs": [
    {
     "name": "stdout",
     "output_type": "stream",
     "text": [
      "Model: \"rnn\"\n",
      "_________________________________________________________________\n",
      "Layer (type)                 Output Shape              Param #   \n",
      "=================================================================\n",
      "text_vectorization (TextVect (None, None)              0         \n",
      "_________________________________________________________________\n",
      "embedding (Embedding)        (None, None, 300)         56937000  \n",
      "_________________________________________________________________\n",
      "bidirectional (Bidirectional (None, None, 64)          85248     \n",
      "_________________________________________________________________\n",
      "global_max_pool (GlobalMaxPo (None, 64)                0         \n",
      "_________________________________________________________________\n",
      "prediction (Dense)           (None, 1)                 65        \n",
      "=================================================================\n",
      "Total params: 57,022,313\n",
      "Trainable params: 85,313\n",
      "Non-trainable params: 56,937,000\n",
      "_________________________________________________________________\n"
     ]
    }
   ],
   "source": [
    "model = build_model_rnn(params)\n",
    "model.summary()"
   ]
  },
  {
   "cell_type": "code",
   "execution_count": 15,
   "metadata": {},
   "outputs": [],
   "source": [
    "compile_model(params, model)"
   ]
  },
  {
   "cell_type": "code",
   "execution_count": 16,
   "metadata": {},
   "outputs": [
    {
     "name": "stdout",
     "output_type": "stream",
     "text": [
      "Epoch 1/10\n",
      "1656/1656 [==============================] - 63s 34ms/step - loss: 0.0883 - accuracy: 0.9661 - val_loss: 0.0574 - val_accuracy: 0.9788\n",
      "Epoch 2/10\n",
      "1656/1656 [==============================] - 55s 33ms/step - loss: 0.0514 - accuracy: 0.9812 - val_loss: 0.0641 - val_accuracy: 0.9747\n",
      "Epoch 3/10\n",
      "1656/1656 [==============================] - 55s 33ms/step - loss: 0.0439 - accuracy: 0.9839 - val_loss: 0.0493 - val_accuracy: 0.9831\n",
      "Epoch 4/10\n",
      "1656/1656 [==============================] - 55s 33ms/step - loss: 0.0384 - accuracy: 0.9862 - val_loss: 0.0488 - val_accuracy: 0.9829\n",
      "Epoch 5/10\n",
      "1656/1656 [==============================] - 55s 33ms/step - loss: 0.0340 - accuracy: 0.9882 - val_loss: 0.0493 - val_accuracy: 0.9832\n",
      "Epoch 6/10\n",
      "1656/1656 [==============================] - 54s 32ms/step - loss: 0.0295 - accuracy: 0.9897 - val_loss: 0.0543 - val_accuracy: 0.9813\n",
      "Epoch 7/10\n",
      "1656/1656 [==============================] - 53s 32ms/step - loss: 0.0256 - accuracy: 0.9913 - val_loss: 0.0587 - val_accuracy: 0.9812\n",
      "Epoch 8/10\n",
      "1656/1656 [==============================] - 53s 32ms/step - loss: 0.0220 - accuracy: 0.9929 - val_loss: 0.0624 - val_accuracy: 0.9799\n",
      "Epoch 9/10\n",
      "1656/1656 [==============================] - 53s 32ms/step - loss: 0.0191 - accuracy: 0.9935 - val_loss: 0.0626 - val_accuracy: 0.9807\n",
      "Epoch 10/10\n",
      "1656/1656 [==============================] - 53s 32ms/step - loss: 0.0165 - accuracy: 0.9946 - val_loss: 0.0666 - val_accuracy: 0.9808\n"
     ]
    }
   ],
   "source": [
    "params[\"training_epochs\"] = 10\n",
    "history = train_model(params, model, dataset_train, dataset_val)"
   ]
  },
  {
   "cell_type": "code",
   "execution_count": 17,
   "metadata": {},
   "outputs": [
    {
     "data": {
      "image/png": "[encoded data removed]",
      "text/plain": [
       "<Figure size 432x288 with 1 Axes>"
      ]
     },
     "metadata": {
      "needs_background": "light"
     },
     "output_type": "display_data"
    },
    {
     "data": {
      "image/png": "[encoded data removed]",
      "text/plain": [
       "<Figure size 432x288 with 1 Axes>"
      ]
     },
     "metadata": {
      "needs_background": "light"
     },
     "output_type": "display_data"
    }
   ],
   "source": [
    "plot_history(history)"
   ]
  },
  {
   "cell_type": "markdown",
   "metadata": {},
   "source": [
    "Quite overfitted. Training could stop after ~3 epochs and some regularizations (like dropout) could also make sense.  "
   ]
  },
  {
   "cell_type": "code",
   "execution_count": null,
   "metadata": {},
   "outputs": [],
   "source": []
  },
  {
   "cell_type": "markdown",
   "metadata": {},
   "source": [
    "Let's see if it is possible to further improve the model by unfreezing the embedding layer.\n",
    "\n",
    "Also see https://www.tensorflow.org/guide/keras/transfer_learning"
   ]
  },
  {
   "cell_type": "code",
   "execution_count": 18,
   "metadata": {},
   "outputs": [
    {
     "name": "stdout",
     "output_type": "stream",
     "text": [
      "Model: \"rnn\"\n",
      "_________________________________________________________________\n",
      "Layer (type)                 Output Shape              Param #   \n",
      "=================================================================\n",
      "text_vectorization (TextVect (None, None)              0         \n",
      "_________________________________________________________________\n",
      "embedding (Embedding)        (None, None, 300)         56937000  \n",
      "_________________________________________________________________\n",
      "bidirectional (Bidirectional (None, None, 64)          85248     \n",
      "_________________________________________________________________\n",
      "global_max_pool (GlobalMaxPo (None, 64)                0         \n",
      "_________________________________________________________________\n",
      "prediction (Dense)           (None, 1)                 65        \n",
      "=================================================================\n",
      "Total params: 57,022,313\n",
      "Trainable params: 57,022,313\n",
      "Non-trainable params: 0\n",
      "_________________________________________________________________\n"
     ]
    }
   ],
   "source": [
    "# Unfreeze all layers (i.e. make embeddings trainable)\n",
    "model.trainable = True\n",
    "model.summary()"
   ]
  },
  {
   "cell_type": "code",
   "execution_count": 19,
   "metadata": {},
   "outputs": [],
   "source": [
    "re_compile_model(params, model)"
   ]
  },
  {
   "cell_type": "code",
   "execution_count": 20,
   "metadata": {},
   "outputs": [
    {
     "name": "stdout",
     "output_type": "stream",
     "text": [
      "Epoch 1/2\n",
      "1656/1656 [==============================] - 718s 430ms/step - loss: 0.0108 - accuracy: 0.9968 - val_loss: 0.0634 - val_accuracy: 0.9819\n",
      "Epoch 2/2\n",
      "1656/1656 [==============================] - 701s 424ms/step - loss: 0.0064 - accuracy: 0.9987 - val_loss: 0.0635 - val_accuracy: 0.9820\n"
     ]
    }
   ],
   "source": [
    "params[\"training_epochs\"] = 2\n",
    "history = train_model(params, model, dataset_train, dataset_val)"
   ]
  },
  {
   "cell_type": "code",
   "execution_count": 21,
   "metadata": {},
   "outputs": [
    {
     "name": "stderr",
     "output_type": "stream",
     "text": [
      "WARNING:absl:Found untraced functions such as lstm_cell_1_layer_call_fn, lstm_cell_1_layer_call_and_return_conditional_losses, lstm_cell_2_layer_call_fn, lstm_cell_2_layer_call_and_return_conditional_losses, lstm_cell_1_layer_call_fn while saving (showing 5 of 10). These functions will not be directly callable after loading.\n",
      "INFO:tensorflow:Assets written to: models/rnn/20220828-161534/model_0.98200/assets\n"
     ]
    }
   ],
   "source": [
    "save_model(params, model, history)"
   ]
  },
  {
   "cell_type": "code",
   "execution_count": 23,
   "metadata": {},
   "outputs": [],
   "source": [
    "from fhnw.nlp.utils.ploting import report_classification_results"
   ]
  },
  {
   "cell_type": "markdown",
   "metadata": {},
   "source": [
    "Check performance on all data."
   ]
  },
  {
   "cell_type": "code",
   "execution_count": 24,
   "metadata": {},
   "outputs": [
    {
     "name": "stdout",
     "output_type": "stream",
     "text": [
      "Set Population: 331187\n",
      "Accuracy: 0.9929\n"
     ]
    },
    {
     "data": {
      "image/png": "[encoded data removed]",
      "text/plain": [
       "<Figure size 720x576 with 2 Axes>"
      ]
     },
     "metadata": {
      "needs_background": "light"
     },
     "output_type": "display_data"
    },
    {
     "name": "stdout",
     "output_type": "stream",
     "text": [
      "              precision    recall  f1-score   support\n",
      "\n",
      "    negative       0.97      0.96      0.96     33022\n",
      "    positive       1.00      1.00      1.00    298165\n",
      "\n",
      "    accuracy                           0.99    331187\n",
      "   macro avg       0.98      0.98      0.98    331187\n",
      "weighted avg       0.99      0.99      0.99    331187\n",
      "\n",
      "CPU times: user 1min 58s, sys: 1.38 s, total: 2min\n",
      "Wall time: 46.1 s\n"
     ]
    }
   ],
   "source": [
    "%%time\n",
    "\n",
    "report_classification_results(params, data, model)"
   ]
  },
  {
   "cell_type": "markdown",
   "metadata": {},
   "source": [
    "Check performance on test data."
   ]
  },
  {
   "cell_type": "code",
   "execution_count": 25,
   "metadata": {},
   "outputs": [
    {
     "name": "stdout",
     "output_type": "stream",
     "text": [
      "Set Population: 66238\n",
      "Accuracy: 0.9821\n"
     ]
    },
    {
     "data": {
      "image/png": "[encoded data removed]",
      "text/plain": [
       "<Figure size 720x576 with 2 Axes>"
      ]
     },
     "metadata": {
      "needs_background": "light"
     },
     "output_type": "display_data"
    },
    {
     "name": "stdout",
     "output_type": "stream",
     "text": [
      "              precision    recall  f1-score   support\n",
      "\n",
      "    negative       0.92      0.90      0.91      6604\n",
      "    positive       0.99      0.99      0.99     59634\n",
      "\n",
      "    accuracy                           0.98     66238\n",
      "   macro avg       0.96      0.94      0.95     66238\n",
      "weighted avg       0.98      0.98      0.98     66238\n",
      "\n",
      "CPU times: user 23.8 s, sys: 286 ms, total: 24.1 s\n",
      "Wall time: 9.62 s\n"
     ]
    }
   ],
   "source": [
    "%%time\n",
    "\n",
    "report_classification_results(params, data_test, model)"
   ]
  },
  {
   "cell_type": "code",
   "execution_count": null,
   "metadata": {},
   "outputs": [],
   "source": []
  }
 ],
 "metadata": {
  "kernelspec": {
   "display_name": "Python 3",
   "language": "python",
   "name": "python3"
  },
  "language_info": {
   "codemirror_mode": {
    "name": "ipython",
    "version": 3
   },
   "file_extension": ".py",
   "mimetype": "text/x-python",
   "name": "python",
   "nbconvert_exporter": "python",
   "pygments_lexer": "ipython3",
   "version": "3.6.9"
  }
 },
 "nbformat": 4,
 "nbformat_minor": 2
}
