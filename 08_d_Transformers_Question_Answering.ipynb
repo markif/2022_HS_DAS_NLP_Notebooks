{
 "cells": [
  {
   "cell_type": "markdown",
   "metadata": {},
   "source": [
    "<img align=\"right\" width=\"400\" src=\"https://www.fhnw.ch/de/++theme++web16theme/assets/media/img/fachhochschule-nordwestschweiz-fhnw-logo.svg\" alt=\"FHNW Logo\">\n",
    "\n",
    "\n",
    "# Question Answering using Transformers\n",
    "\n",
    "by Fabian Märki\n",
    "\n",
    "## Summary\n",
    "The aim of this notebook is to show how Huggingface's model can be used for question answering.\n",
    "\n",
    "### Sources\n",
    "- [Question Answering Pipeline](https://huggingface.co/tasks/question-answering)\n",
    "\n",
    "### Libraries/Models\n",
    "- [German Model 01](https://huggingface.co/Sahajtomar/German-question-answer-Electra)\n",
    "- [German Model 02](https://huggingface.co/deepset/gelectra-base-germanquad)\n",
    "\n",
    "### Further Readings\n",
    "- [Course Chapter on Question Answering](https://huggingface.co/course/chapter7/7?fw=pt)\n",
    "- [Question Answering with Hugging Face Transformers](https://keras.io/examples/nlp/question_answering/) using Keras\n",
    "\n",
    "## Links\n",
    "- [Enabling GPU on Google Colab](https://www.tutorialspoint.com/google_colab/google_colab_using_free_gpu.htm)\n",
    "\n",
    "<a href=\"https://colab.research.google.com/github/markif/2022_HS_DAS_NLP_Notebooks/blob/master/08_d_Transformers_Question_Answering.ipynb\">\n",
    "  <img align=\"left\" src=\"https://colab.research.google.com/assets/colab-badge.svg\" alt=\"Open In Colab\"/>\n",
    "</a>"
   ]
  },
  {
   "cell_type": "code",
   "execution_count": 2,
   "metadata": {},
   "outputs": [],
   "source": [
    "%%capture\n",
    "\n",
    "!pip install 'fhnw-nlp-utils>=0.4.8,<0.5.0'"
   ]
  },
  {
   "cell_type": "markdown",
   "metadata": {},
   "source": [
    "**Make sure that a GPU is available (see [here](https://www.tutorialspoint.com/google_colab/google_colab_using_free_gpu.htm))!!!**"
   ]
  },
  {
   "cell_type": "code",
   "execution_count": 3,
   "metadata": {},
   "outputs": [
    {
     "name": "stdout",
     "output_type": "stream",
     "text": [
      "Error in 'igpu': Unknown Error\n",
      "OS name: posix\n",
      "Platform name: Linux\n",
      "Platform release: 5.15.0-48-generic\n",
      "Python version: 3.6.9\n",
      "CPU cores: 6\n",
      "RAM: 31.12GB total and 25.85GB available\n",
      "Tensorflow version: 2.5.1\n",
      "GPU is NOT AVAILABLE\n"
     ]
    }
   ],
   "source": [
    "from fhnw.nlp.utils.system import system_info\n",
    "print(system_info())"
   ]
  },
  {
   "cell_type": "code",
   "execution_count": 4,
   "metadata": {},
   "outputs": [],
   "source": [
    "%%capture\n",
    "\n",
    "!pip install -q transformers"
   ]
  },
  {
   "cell_type": "code",
   "execution_count": 7,
   "metadata": {},
   "outputs": [
    {
     "data": {
      "application/vnd.jupyter.widget-view+json": {
       "model_id": "8f61ca72507e424e84358feecab3bd07",
       "version_major": 2,
       "version_minor": 0
      },
      "text/plain": [
       "Downloading:   0%|          | 0.00/674 [00:00<?, ?B/s]"
      ]
     },
     "metadata": {},
     "output_type": "display_data"
    },
    {
     "data": {
      "application/vnd.jupyter.widget-view+json": {
       "model_id": "e6cabd9080d64a2e9c503f5f6b560c4a",
       "version_major": 2,
       "version_minor": 0
      },
      "text/plain": [
       "Downloading:   0%|          | 0.00/1.25G [00:00<?, ?B/s]"
      ]
     },
     "metadata": {},
     "output_type": "display_data"
    },
    {
     "data": {
      "application/vnd.jupyter.widget-view+json": {
       "model_id": "207572babed044d897609a0e32a4ceb7",
       "version_major": 2,
       "version_minor": 0
      },
      "text/plain": [
       "Downloading:   0%|          | 0.00/355 [00:00<?, ?B/s]"
      ]
     },
     "metadata": {},
     "output_type": "display_data"
    },
    {
     "data": {
      "application/vnd.jupyter.widget-view+json": {
       "model_id": "bb0b9edb99cc4910b115e065bd75397f",
       "version_major": 2,
       "version_minor": 0
      },
      "text/plain": [
       "Downloading:   0%|          | 0.00/234k [00:00<?, ?B/s]"
      ]
     },
     "metadata": {},
     "output_type": "display_data"
    },
    {
     "data": {
      "application/vnd.jupyter.widget-view+json": {
       "model_id": "b7ecda77e618459681e150b06d09479c",
       "version_major": 2,
       "version_minor": 0
      },
      "text/plain": [
       "Downloading:   0%|          | 0.00/112 [00:00<?, ?B/s]"
      ]
     },
     "metadata": {},
     "output_type": "display_data"
    }
   ],
   "source": [
    "from transformers import pipeline\n",
    "\n",
    "qa_pipeline = pipeline(\n",
    "    \"question-answering\",\n",
    "    model=\"Sahajtomar/German-question-answer-Electra\",\n",
    "    tokenizer=\"Sahajtomar/German-question-answer-Electra\"\n",
    ")"
   ]
  },
  {
   "cell_type": "code",
   "execution_count": 9,
   "metadata": {},
   "outputs": [
    {
     "name": "stdout",
     "output_type": "stream",
     "text": [
      "CPU times: user 685 ms, sys: 0 ns, total: 685 ms\n",
      "Wall time: 116 ms\n"
     ]
    },
    {
     "data": {
      "text/plain": [
       "{'score': 0.9521909356117249, 'start': 14, 'end': 22, 'answer': 'Wolfgang'}"
      ]
     },
     "execution_count": 9,
     "metadata": {},
     "output_type": "execute_result"
    }
   ],
   "source": [
    "%%time\n",
    "\n",
    "qa_pipeline({\n",
    "    \"context\": \"Mein Name ist Wolfgang und ich lebe in Berlin.\",\n",
    "    # heisse vs. mein Name ist\n",
    "    \"question\": \"Wie heisse ich?\"\n",
    "})"
   ]
  },
  {
   "cell_type": "code",
   "execution_count": 10,
   "metadata": {},
   "outputs": [
    {
     "name": "stdout",
     "output_type": "stream",
     "text": [
      "CPU times: user 670 ms, sys: 0 ns, total: 670 ms\n",
      "Wall time: 114 ms\n"
     ]
    },
    {
     "data": {
      "text/plain": [
       "{'score': 0.9132683873176575, 'start': 39, 'end': 45, 'answer': 'Berlin'}"
      ]
     },
     "execution_count": 10,
     "metadata": {},
     "output_type": "execute_result"
    }
   ],
   "source": [
    "%%time\n",
    "\n",
    "qa_pipeline({\n",
    "    \"context\": \"Mein Name ist Wolfgang und ich lebe in Berlin.\",\n",
    "    # wohne vs. lebe\n",
    "    \"question\": \"Wo wohne ich?\"\n",
    "})"
   ]
  },
  {
   "cell_type": "code",
   "execution_count": 16,
   "metadata": {},
   "outputs": [
    {
     "name": "stdout",
     "output_type": "stream",
     "text": [
      "CPU times: user 2.68 s, sys: 0 ns, total: 2.68 s\n",
      "Wall time: 449 ms\n"
     ]
    },
    {
     "data": {
      "text/plain": [
       "{'score': 0.9896989464759827, 'start': 120, 'end': 126, 'answer': 'APOBEC'}"
      ]
     },
     "execution_count": 16,
     "metadata": {},
     "output_type": "execute_result"
    }
   ],
   "source": [
    "%%time\n",
    "\n",
    "qa_pipeline({\n",
    "    \"context\": \n",
    "    \"\"\"Vor einigen Jahren haben Wissenschaftler ein wichtiges Mutagen identifiziert, \n",
    "    das in unseren eigenen Zellen liegt: APOBEC, ein Protein, das normalerweise als Schutzmittel \n",
    "    gegen Virusinfektionen fungiert. Heute hat ein Team von Schweizer und russischen Wissenschaftlern \n",
    "    unter der Leitung von Sergey Nikolaev, Genetiker an der Universität Genf (UNIGE) in der Schweiz, \n",
    "    entschlüsselt, wie APOBEC eine Schwäche unseres DNA-Replikationsprozesses ausnutzt, um Mutationen \n",
    "    in unserem Genom zu induzieren.\"\"\",\n",
    "    \"question\": \n",
    "    \"Welches Mutagen schützt vor Virusinfektionen?\" \n",
    "})"
   ]
  },
  {
   "cell_type": "code",
   "execution_count": 17,
   "metadata": {},
   "outputs": [
    {
     "name": "stdout",
     "output_type": "stream",
     "text": [
      "CPU times: user 2.49 s, sys: 0 ns, total: 2.49 s\n",
      "Wall time: 416 ms\n"
     ]
    },
    {
     "data": {
      "text/plain": [
       "{'score': 0.2072628140449524,\n",
       " 'start': 267,\n",
       " 'end': 346,\n",
       " 'answer': 'Durch Absorption anderer Sterne und Verschmelzung mit anderen Schwarzen Löchern'}"
      ]
     },
     "execution_count": 17,
     "metadata": {},
     "output_type": "execute_result"
    }
   ],
   "source": [
    "%%time\n",
    "\n",
    "qa_pipeline({\n",
    "    \"context\": \n",
    "    \"\"\"Es wird erwartet, dass sich schwarze Löcher mit Sternmasse bilden, wenn sehr massive Sterne \n",
    "    am Ende ihres Lebenszyklus zusammenbrechen. Nachdem sich ein Schwarzes Loch gebildet hat, kann es weiter \n",
    "    wachsen,indem es Masse aus seiner Umgebung absorbiert. \n",
    "    Durch Absorption anderer Sterne und Verschmelzung mit anderen Schwarzen Löchern können sich supermassereiche \n",
    "    Schwarze Löcher mit Millionen von Sonnenmassen (M☉) bilden. Es besteht Konsens darüber, dass in den Zentren \n",
    "    der meisten Galaxien supermassereiche Schwarze Löcher existieren.\"\"\",\n",
    "    \"question\": \n",
    "    \"Wie entstehen Sonnenmassen?\"\n",
    "})"
   ]
  },
  {
   "cell_type": "code",
   "execution_count": null,
   "metadata": {},
   "outputs": [],
   "source": []
  }
 ],
 "metadata": {
  "kernelspec": {
   "display_name": "Python 3",
   "language": "python",
   "name": "python3"
  },
  "language_info": {
   "codemirror_mode": {
    "name": "ipython",
    "version": 3
   },
   "file_extension": ".py",
   "mimetype": "text/x-python",
   "name": "python",
   "nbconvert_exporter": "python",
   "pygments_lexer": "ipython3",
   "version": "3.8.10"
  }
 },
 "nbformat": 4,
 "nbformat_minor": 2
}
