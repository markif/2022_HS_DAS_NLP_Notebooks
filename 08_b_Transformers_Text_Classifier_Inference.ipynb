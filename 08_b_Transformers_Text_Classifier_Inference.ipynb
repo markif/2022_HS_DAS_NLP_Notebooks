{
 "cells": [
  {
   "cell_type": "markdown",
   "metadata": {},
   "source": [
    "<img align=\"right\" width=\"400\" src=\"https://www.fhnw.ch/de/++theme++web16theme/assets/media/img/fachhochschule-nordwestschweiz-fhnw-logo.svg\" alt=\"FHNW Logo\">\n",
    "\n",
    "\n",
    "# Transformers Inference\n",
    "\n",
    "by Fabian Märki\n",
    "\n",
    "## Summary\n",
    "The aim of this notebook is to show how to use Huggingface sequence classification model.\n",
    "\n",
    "\n",
    "## Links\n",
    "- [Quick Tour](https://huggingface.co/docs/transformers/quicktour) on how to use huggingface transformers\n",
    "- [Course](https://huggingface.co/course/chapter1) on how to use Huggingface's transformer models (from simple using pipelines to complex implementing the training loop).\n",
    "- [Model](bert-base-multilingual-uncased-sentiment) used in this notebook\n",
    "\n",
    "\n",
    "<a href=\"https://colab.research.google.com/github/markif/2022_HS_DAS_NLP_Notebooks/blob/master/08_b_Transformers_Text_Classifier_Inference.ipynb\">\n",
    "  <img align=\"left\" src=\"https://colab.research.google.com/assets/colab-badge.svg\" alt=\"Open In Colab\"/>\n",
    "</a>"
   ]
  },
  {
   "cell_type": "code",
   "execution_count": 1,
   "metadata": {},
   "outputs": [],
   "source": [
    "%%capture\n",
    "\n",
    "!pip install 'fhnw-nlp-utils>=0.4.8,<0.5.0'\n",
    "\n",
    "from fhnw.nlp.utils.storage import load_dataframe\n",
    "from fhnw.nlp.utils.storage import download\n",
    "\n",
    "import numpy as np\n",
    "import pandas as pd\n",
    "\n",
    "import tensorflow as tf"
   ]
  },
  {
   "cell_type": "markdown",
   "metadata": {},
   "source": [
    "**Make sure that a GPU is available (see [here](https://www.tutorialspoint.com/google_colab/google_colab_using_free_gpu.htm))!!!**"
   ]
  },
  {
   "cell_type": "code",
   "execution_count": 2,
   "metadata": {},
   "outputs": [
    {
     "name": "stdout",
     "output_type": "stream",
     "text": [
      "OS name: posix\n",
      "Platform name: Linux\n",
      "Platform release: 5.15.0-48-generic\n",
      "Python version: 3.8.10\n",
      "CPU cores: 6\n",
      "RAM: 31.12GB total and 23.44GB available\n",
      "Tensorflow version: 2.10.0\n",
      "GPU is available\n",
      "GPU is a NVIDIA GeForce RTX 2070 with Max-Q Design with 8192MiB\n"
     ]
    }
   ],
   "source": [
    "from fhnw.nlp.utils.system import system_info\n",
    "print(system_info())"
   ]
  },
  {
   "cell_type": "code",
   "execution_count": 3,
   "metadata": {},
   "outputs": [
    {
     "name": "stdout",
     "output_type": "stream",
     "text": [
      "CPU times: user 12.5 s, sys: 1.69 s, total: 14.2 s\n",
      "Wall time: 10.2 s\n"
     ]
    }
   ],
   "source": [
    "%%time\n",
    "download(\"https://drive.google.com/uc?id=19AFeVnOfX8WXU4_3rM7OFoNTWWog_sb_\", \"data/german_doctor_reviews_tokenized.parq\")\n",
    "data = load_dataframe(\"data/german_doctor_reviews_tokenized.parq\")"
   ]
  },
  {
   "cell_type": "code",
   "execution_count": 4,
   "metadata": {},
   "outputs": [
    {
     "data": {
      "text/plain": [
       "(331187, 10)"
      ]
     },
     "execution_count": 4,
     "metadata": {},
     "output_type": "execute_result"
    }
   ],
   "source": [
    "# remove all neutral sentimens\n",
    "data = data.loc[(data[\"label\"] != \"neutral\")]\n",
    "data.shape"
   ]
  },
  {
   "cell_type": "code",
   "execution_count": 5,
   "metadata": {},
   "outputs": [
    {
     "data": {
      "text/html": [
       "<div>\n",
       "<style scoped>\n",
       "    .dataframe tbody tr th:only-of-type {\n",
       "        vertical-align: middle;\n",
       "    }\n",
       "\n",
       "    .dataframe tbody tr th {\n",
       "        vertical-align: top;\n",
       "    }\n",
       "\n",
       "    .dataframe thead th {\n",
       "        text-align: right;\n",
       "    }\n",
       "</style>\n",
       "<table border=\"1\" class=\"dataframe\">\n",
       "  <thead>\n",
       "    <tr style=\"text-align: right;\">\n",
       "      <th></th>\n",
       "      <th>text_original</th>\n",
       "      <th>rating</th>\n",
       "      <th>text</th>\n",
       "      <th>label</th>\n",
       "      <th>sentiment</th>\n",
       "      <th>token_clean</th>\n",
       "      <th>text_clean</th>\n",
       "      <th>token_lemma</th>\n",
       "      <th>token_stem</th>\n",
       "      <th>token_clean_stopwords</th>\n",
       "    </tr>\n",
       "  </thead>\n",
       "  <tbody>\n",
       "    <tr>\n",
       "      <th>0</th>\n",
       "      <td>Ich bin franzose und bin seit ein paar Wochen ...</td>\n",
       "      <td>2.0</td>\n",
       "      <td>Ich bin franzose und bin seit ein paar Wochen ...</td>\n",
       "      <td>positive</td>\n",
       "      <td>1</td>\n",
       "      <td>[ich, bin, franzose, und, bin, seit, ein, paar...</td>\n",
       "      <td>ich bin franzose und bin seit ein paar wochen ...</td>\n",
       "      <td>[franzose, seit, paar, wochen, muenchen, zahn,...</td>\n",
       "      <td>[franzos, seit, paar, woch, muench, ., zahn, s...</td>\n",
       "      <td>[franzose, seit, paar, wochen, muenchen, ., za...</td>\n",
       "    </tr>\n",
       "    <tr>\n",
       "      <th>1</th>\n",
       "      <td>Dieser Arzt ist das unmöglichste was mir in me...</td>\n",
       "      <td>6.0</td>\n",
       "      <td>Dieser Arzt ist das unmöglichste was mir in me...</td>\n",
       "      <td>negative</td>\n",
       "      <td>-1</td>\n",
       "      <td>[dieser, arzt, ist, das, unmöglichste, was, mi...</td>\n",
       "      <td>dieser arzt ist das unmöglichste was mir in me...</td>\n",
       "      <td>[arzt, unmöglichste, leben, je, begegnen, unfr...</td>\n",
       "      <td>[arzt, unmog, leb, je, begegnet, unfreund, ,, ...</td>\n",
       "      <td>[arzt, unmöglichste, leben, je, begegnet, unfr...</td>\n",
       "    </tr>\n",
       "    <tr>\n",
       "      <th>2</th>\n",
       "      <td>Hatte akute Beschwerden am Rücken. Herr Magura...</td>\n",
       "      <td>1.0</td>\n",
       "      <td>Hatte akute Beschwerden am Rücken. Herr Magura...</td>\n",
       "      <td>positive</td>\n",
       "      <td>1</td>\n",
       "      <td>[hatte, akute, beschwerden, am, rücken, ., her...</td>\n",
       "      <td>hatte akute beschwerden am rücken . herr magur...</td>\n",
       "      <td>[akut, beschwerden, rücken, magura, erste, arz...</td>\n",
       "      <td>[akut, beschwerd, ruck, ., magura, erst, arzt,...</td>\n",
       "      <td>[akute, beschwerden, rücken, ., magura, erste,...</td>\n",
       "    </tr>\n",
       "  </tbody>\n",
       "</table>\n",
       "</div>"
      ],
      "text/plain": [
       "                                       text_original  rating  \\\n",
       "0  Ich bin franzose und bin seit ein paar Wochen ...     2.0   \n",
       "1  Dieser Arzt ist das unmöglichste was mir in me...     6.0   \n",
       "2  Hatte akute Beschwerden am Rücken. Herr Magura...     1.0   \n",
       "\n",
       "                                                text     label  sentiment  \\\n",
       "0  Ich bin franzose und bin seit ein paar Wochen ...  positive          1   \n",
       "1  Dieser Arzt ist das unmöglichste was mir in me...  negative         -1   \n",
       "2  Hatte akute Beschwerden am Rücken. Herr Magura...  positive          1   \n",
       "\n",
       "                                         token_clean  \\\n",
       "0  [ich, bin, franzose, und, bin, seit, ein, paar...   \n",
       "1  [dieser, arzt, ist, das, unmöglichste, was, mi...   \n",
       "2  [hatte, akute, beschwerden, am, rücken, ., her...   \n",
       "\n",
       "                                          text_clean  \\\n",
       "0  ich bin franzose und bin seit ein paar wochen ...   \n",
       "1  dieser arzt ist das unmöglichste was mir in me...   \n",
       "2  hatte akute beschwerden am rücken . herr magur...   \n",
       "\n",
       "                                         token_lemma  \\\n",
       "0  [franzose, seit, paar, wochen, muenchen, zahn,...   \n",
       "1  [arzt, unmöglichste, leben, je, begegnen, unfr...   \n",
       "2  [akut, beschwerden, rücken, magura, erste, arz...   \n",
       "\n",
       "                                          token_stem  \\\n",
       "0  [franzos, seit, paar, woch, muench, ., zahn, s...   \n",
       "1  [arzt, unmog, leb, je, begegnet, unfreund, ,, ...   \n",
       "2  [akut, beschwerd, ruck, ., magura, erst, arzt,...   \n",
       "\n",
       "                               token_clean_stopwords  \n",
       "0  [franzose, seit, paar, wochen, muenchen, ., za...  \n",
       "1  [arzt, unmöglichste, leben, je, begegnet, unfr...  \n",
       "2  [akute, beschwerden, rücken, ., magura, erste,...  "
      ]
     },
     "execution_count": 5,
     "metadata": {},
     "output_type": "execute_result"
    }
   ],
   "source": [
    "data.head(3)"
   ]
  },
  {
   "cell_type": "code",
   "execution_count": 6,
   "metadata": {},
   "outputs": [],
   "source": [
    "%%capture\n",
    "\n",
    "!pip install transformers"
   ]
  },
  {
   "cell_type": "code",
   "execution_count": 7,
   "metadata": {},
   "outputs": [],
   "source": [
    "def get_compute_device():\n",
    "    \"\"\"Provides the device for the computation\n",
    "    \n",
    "    Returns\n",
    "    -------\n",
    "    str\n",
    "        The GPU device with number (cuda:0) or cpu\n",
    "    \"\"\"\n",
    "    \n",
    "    import torch\n",
    "\n",
    "    return \"cuda:0\" if torch.cuda.is_available() else \"cpu\"\n",
    "\n",
    "\n",
    "def gpu_empty_cache():\n",
    "    \"\"\"Cleans the GPU cache which seems to fill up after a while\n",
    "    \n",
    "    \"\"\"\n",
    "    \n",
    "    import torch\n",
    "    \n",
    "    if torch.cuda.is_available():\n",
    "        torch.cuda.empty_cache()"
   ]
  },
  {
   "cell_type": "code",
   "execution_count": 8,
   "metadata": {},
   "outputs": [],
   "source": [
    "params = {\n",
    "    \"verbose\": True,\n",
    "    \"shuffle\": True,\n",
    "    # modify batch_size in case you experience memory issues\n",
    "    \"batch_size\": 16,\n",
    "    \"X_column_name\": \"text_clean\",\n",
    "    \"y_column_name\": \"label\",\n",
    "    \"y_column_name_prediction\": \"prediction\",\n",
    "    \"compute_device\": get_compute_device(),\n",
    "    \"last_stored_batch\": -1,\n",
    "}"
   ]
  },
  {
   "cell_type": "code",
   "execution_count": 9,
   "metadata": {},
   "outputs": [
    {
     "data": {
      "application/vnd.jupyter.widget-view+json": {
       "model_id": "7d0373b442184c05b1309ccfd0c8825d",
       "version_major": 2,
       "version_minor": 0
      },
      "text/plain": [
       "Downloading:   0%|          | 0.00/39.0 [00:00<?, ?B/s]"
      ]
     },
     "metadata": {},
     "output_type": "display_data"
    },
    {
     "data": {
      "application/vnd.jupyter.widget-view+json": {
       "model_id": "15d05ea63410406da7e3e54e24af1aa5",
       "version_major": 2,
       "version_minor": 0
      },
      "text/plain": [
       "Downloading:   0%|          | 0.00/953 [00:00<?, ?B/s]"
      ]
     },
     "metadata": {},
     "output_type": "display_data"
    },
    {
     "data": {
      "application/vnd.jupyter.widget-view+json": {
       "model_id": "cda90b948a304cf49df5da23e90c3a35",
       "version_major": 2,
       "version_minor": 0
      },
      "text/plain": [
       "Downloading:   0%|          | 0.00/872k [00:00<?, ?B/s]"
      ]
     },
     "metadata": {},
     "output_type": "display_data"
    },
    {
     "data": {
      "application/vnd.jupyter.widget-view+json": {
       "model_id": "9f64a3a42ae14828bc937e041fb15f2f",
       "version_major": 2,
       "version_minor": 0
      },
      "text/plain": [
       "Downloading:   0%|          | 0.00/112 [00:00<?, ?B/s]"
      ]
     },
     "metadata": {},
     "output_type": "display_data"
    },
    {
     "data": {
      "application/vnd.jupyter.widget-view+json": {
       "model_id": "8d68a9f6b9f94b408a4e47b82a030346",
       "version_major": 2,
       "version_minor": 0
      },
      "text/plain": [
       "Downloading:   0%|          | 0.00/669M [00:00<?, ?B/s]"
      ]
     },
     "metadata": {},
     "output_type": "display_data"
    }
   ],
   "source": [
    "from transformers import AutoTokenizer\n",
    "from transformers import AutoModelForSequenceClassification\n",
    "\n",
    "model_name = \"nlptown/bert-base-multilingual-uncased-sentiment\"\n",
    "compute_device = get_compute_device()\n",
    "\n",
    "# use_fast=True selects the fast tokenizer which is available for almost all models   \n",
    "tokenizer = AutoTokenizer.from_pretrained(model_name, use_fast=True)\n",
    "model = AutoModelForSequenceClassification.from_pretrained(model_name).to(compute_device)"
   ]
  },
  {
   "cell_type": "code",
   "execution_count": 10,
   "metadata": {},
   "outputs": [],
   "source": [
    "def predict(params, texts):\n",
    "    \"\"\"Computes the prediction from a list of text\n",
    "\n",
    "    Parameters\n",
    "    ----------\n",
    "    params: dict\n",
    "        The dictionary containing the parameters\n",
    "    texts: list\n",
    "        The list of texts\n",
    "        \n",
    "    Returns\n",
    "    -------\n",
    "    list\n",
    "        The predictions\n",
    "    \"\"\"\n",
    "    import torch\n",
    "        \n",
    "    input_sequence_length = params.get(\"input_sequence_length\", 256)\n",
    "    compute_device = params.get(\"compute_device\", \"cpu\")\n",
    "    \n",
    "    batch = tokenizer(\n",
    "            texts,\n",
    "            padding=True,\n",
    "            truncation=True,\n",
    "            max_length=input_sequence_length,\n",
    "            return_tensors=\"pt\",\n",
    "        ).to(compute_device)\n",
    "    outputs = model(**batch)\n",
    "\n",
    "    # predicts a 5 star rating\n",
    "    predictions = torch.nn.functional.softmax(outputs.logits, dim=1)\n",
    "    _, predictions = torch.max(predictions, 1)\n",
    "    \n",
    "    return [\"positive\" if pred >= 2 else \"negative\" for (idx,pred) in enumerate(predictions)]"
   ]
  },
  {
   "cell_type": "code",
   "execution_count": 11,
   "metadata": {},
   "outputs": [
    {
     "data": {
      "text/plain": [
       "['positive', 'negative', 'positive']"
      ]
     },
     "execution_count": 11,
     "metadata": {},
     "output_type": "execute_result"
    }
   ],
   "source": [
    "predict(params, data[params[\"X_column_name\"]].head(3).tolist())"
   ]
  },
  {
   "cell_type": "code",
   "execution_count": 12,
   "metadata": {},
   "outputs": [],
   "source": [
    "def compute_predictions(params, data, predict_func):\n",
    "    \"\"\"Computes the actual predictions. Allows for recovery in case of a crash...\n",
    "\n",
    "    Parameters\n",
    "    ----------\n",
    "    params: dict\n",
    "        The dictionary containing the parameters\n",
    "    data: dataframe\n",
    "        The data\n",
    "    predict_func: callable\n",
    "        The function that computes the prediction\n",
    "    \"\"\"\n",
    "    import os\n",
    "    from datetime import datetime\n",
    "    \n",
    "    from fhnw.nlp.utils.storage import save_dataframe\n",
    "    from fhnw.nlp.utils.storage import load_dataframe\n",
    "    \n",
    "    verbose = params.get(\"verbose\", False)\n",
    "    batch_size = params.get(\"batch_size\", 8)\n",
    "    X_column_name = params.get(\"X_column_name\", \"text\")\n",
    "    y_column_name = params.get(\"y_column_name\", \"label\")\n",
    "    y_column_name_prediction = params.get(\"y_column_name_prediction\", \"prediction\")\n",
    "    store_every_n_elements = params.get(\"store_every_n_elements\", 32768)\n",
    "    store_path = params.get(\"store_path\", \"data/predictions.parq\")\n",
    "    last_stored_batch = params.get(\"last_stored_batch\", -1)\n",
    "    empty_gpu_cache = params.get(\"empty_gpu_cache\", False)\n",
    "    \n",
    "    predictions = []\n",
    "    \n",
    "    # load stored data for recovery\n",
    "    if last_stored_batch >= 0 or last_stored_batch == -1 and os.path.exists(store_path):\n",
    "        predictions_loaded = load_dataframe(store_path)\n",
    "        predictions = [row.to_dict() for index, row in predictions_loaded.iterrows()]\n",
    "        \n",
    "        if last_stored_batch < 0:\n",
    "            last_stored_batch = len(predictions) // batch_size\n",
    "            \n",
    "        if verbose:\n",
    "            print(datetime.now().time(), \"Loaded batch:\", last_stored_batch, \" predictions: \", len(predictions))\n",
    "         \n",
    "    # do the predictions\n",
    "    for g, df in data.groupby(np.arange(len(data)) // batch_size):\n",
    "        if g >= last_stored_batch:\n",
    "            # prevent OOM on GPU\n",
    "            if empty_gpu_cache:\n",
    "                gpu_empty_cache()\n",
    "                \n",
    "            predictions_batch = predict_func(params, df[X_column_name].to_list())\n",
    "            \n",
    "            # store the predictions together with the data\n",
    "            i = 0\n",
    "            for index, row in df.iterrows():\n",
    "                # e.g. back translation might provide more than one translation per prediction\n",
    "                if isinstance(predictions_batch[i], list):\n",
    "                    for prediction in predictions_batch[i]:\n",
    "                        row_dict = row.to_dict()\n",
    "                        row_dict[y_column_name_prediction] = prediction\n",
    "                        predictions.append(row_dict)\n",
    "                else:\n",
    "                    row_dict = row.to_dict()\n",
    "                    row_dict[y_column_name_prediction] = predictions_batch[i]\n",
    "                    predictions.append(row_dict)\n",
    "\n",
    "                i += 1\n",
    "\n",
    "                \n",
    "            if (g + 1) % (store_every_n_elements // batch_size) == 0:\n",
    "                if verbose:\n",
    "                    print(datetime.now().time(), \"Save batch:\", str(g+1), \", processed elements:\", str((g+1)*batch_size), \", total predictions:\", len(predictions))\n",
    "\n",
    "                save_dataframe(pd.DataFrame(predictions), store_path)\n",
    "\n",
    "    if verbose:\n",
    "        print(datetime.now().time(), \"Prediction done. Batches:\", str(data.shape[0] // batch_size), \", processed elements:\", str(data.shape[0]), \", total predictions:\", len(predictions))\n",
    "    \n",
    "    pred_data = pd.DataFrame(predictions)\n",
    "    save_dataframe(pred_data, store_path)\n",
    "    \n",
    "    return pred_data"
   ]
  },
  {
   "cell_type": "code",
   "execution_count": 13,
   "metadata": {},
   "outputs": [
    {
     "name": "stdout",
     "output_type": "stream",
     "text": [
      "05:25:29.430580 Loaded batch: 20699  predictions:  331187\n",
      "05:25:29.852595 Prediction done. Batches: 20699 , processed elements: 331187 , total predictions: 331190\n",
      "CPU times: user 1min 33s, sys: 2.67 s, total: 1min 35s\n",
      "Wall time: 1min 32s\n"
     ]
    }
   ],
   "source": [
    "%%time\n",
    "\n",
    "pred_data = compute_predictions(params, data, predict)"
   ]
  },
  {
   "cell_type": "code",
   "execution_count": 14,
   "metadata": {},
   "outputs": [],
   "source": [
    "def report_classification_results(params, y, y_pred):\n",
    "    \"\"\"Reports all classification results\n",
    "\n",
    "    Parameters: \n",
    "        params: dict\n",
    "            The dictionary containing the parameters\n",
    "        y: list\n",
    "            The true labels\n",
    "        y_pred: list\n",
    "            The predicted labels\n",
    "    \"\"\"\n",
    "    \n",
    "    import os\n",
    "    from sklearn.metrics import classification_report\n",
    "    from fhnw.nlp.utils.ploting import plot_confusion_matrix\n",
    "    \n",
    "    verbose = params.get(\"verbose\", False)\n",
    "    path = params.get(\"model_path\")\n",
    "    \n",
    "    if path is not None:\n",
    "        path_confusion_matrix = os.path.join(path, \"confusion_matrix.png\")\n",
    "        plot_confusion_matrix(y, y_pred, filename=path_confusion_matrix)\n",
    "    if verbose:\n",
    "        plot_confusion_matrix(y, y_pred)\n",
    "        \n",
    "    if path is not None:\n",
    "        path_classification_report = os.path.join(path, \"classification_report.csv\")\n",
    "        report = classification_report(y, y_pred, output_dict=True)\n",
    "        report = pandas.DataFrame(report).transpose()\n",
    "        report.to_csv(path_classification_report)\n",
    "    if verbose:\n",
    "        report = classification_report(y, y_pred)\n",
    "        print(report)"
   ]
  },
  {
   "cell_type": "code",
   "execution_count": 15,
   "metadata": {},
   "outputs": [
    {
     "name": "stdout",
     "output_type": "stream",
     "text": [
      "Set Population: 331190\n",
      "Accuracy: 0.9593\n"
     ]
    },
    {
     "data": {
      "image/png": "[encoded data removed]",
      "text/plain": [
       "<Figure size 1000x800 with 2 Axes>"
      ]
     },
     "metadata": {},
     "output_type": "display_data"
    },
    {
     "name": "stdout",
     "output_type": "stream",
     "text": [
      "              precision    recall  f1-score   support\n",
      "\n",
      "    negative       0.76      0.87      0.81     33022\n",
      "    positive       0.98      0.97      0.98    298168\n",
      "\n",
      "    accuracy                           0.96    331190\n",
      "   macro avg       0.87      0.92      0.89    331190\n",
      "weighted avg       0.96      0.96      0.96    331190\n",
      "\n"
     ]
    }
   ],
   "source": [
    "report_classification_results(params, pred_data[params[\"y_column_name\"]].to_list(), pred_data[params[\"y_column_name_prediction\"]].to_list())"
   ]
  },
  {
   "cell_type": "code",
   "execution_count": null,
   "metadata": {},
   "outputs": [],
   "source": []
  },
  {
   "cell_type": "code",
   "execution_count": null,
   "metadata": {},
   "outputs": [],
   "source": []
  }
 ],
 "metadata": {
  "kernelspec": {
   "display_name": "Python 3",
   "language": "python",
   "name": "python3"
  },
  "language_info": {
   "codemirror_mode": {
    "name": "ipython",
    "version": 3
   },
   "file_extension": ".py",
   "mimetype": "text/x-python",
   "name": "python",
   "nbconvert_exporter": "python",
   "pygments_lexer": "ipython3",
   "version": "3.8.10"
  }
 },
 "nbformat": 4,
 "nbformat_minor": 2
}
